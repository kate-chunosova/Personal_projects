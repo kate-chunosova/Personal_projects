{
 "cells": [
  {
   "cell_type": "markdown",
   "metadata": {},
   "source": [
    "# Orange Telecom dataset. Predicting propensity to buy new products or services(appetency).\n",
    "## Case of highly imbalanced data.\n",
    "\n",
    "link: [https://www.kdd.org/kdd-cup/view/kdd-cup-2009/Intro](https://www.kdd.org/kdd-cup/view/kdd-cup-2009/Intro)\n"
   ]
  },
  {
   "cell_type": "markdown",
   "metadata": {},
   "source": [
    "## Description\n",
    "Customer Relationship Management (CRM) is a key element of modern marketing strategies. The KDD Cup 2009 offers the opportunity to work on large marketing databases from the French Telecom company Orange to predict the propensity of customers to switch provider (churn), buy new products or services (appetency), or buy upgrades or add-ons proposed to them to make the sale more profitable (up-selling). This project focuses only on predicting appetency.\n",
    "\n",
    "## Data\n",
    "The first 190 variables are numerical and the last 40 are categorical. \n",
    "The target values (.labels files) have one example per line in the same order as the corresponding data files. The target values are +1 or -1. We refer to examples having +1 (resp. -1) target values as positive (resp. negative) examples.\n",
    "- Separator tabulation between the values\n",
    "- There are missing values (consecutive tabulations)\n"
   ]
  },
  {
   "cell_type": "markdown",
   "metadata": {},
   "source": [
    "## Table of contents\n",
    "0. Loading data\n",
    "1. Cleaning data\n",
    "2. Looking at the target and class imbalance\n",
    "3. Machine Learning \n",
    "    3.1 Random Forest w/o PCA and resampling\n",
    "        3.1.1 Random Forest, w/o PCA, Oversampling minority class\n",
    "        3.1.2 Random Forest, w/o PCA, Undersampling majority class \n",
    "        3.1.3 Random Forest, w/o PCA, SMOTE\n",
    "    3.2 Logistic regression with SMOTE\n",
    "        3.2.1 Logistic regression with SMOTE, PCA\n",
    "    3.3 LGBM \n",
    "    3.4 XGBoost \n",
    "    3.5 CatBoost \n",
    "4. Conclusion]"
   ]
  },
  {
   "cell_type": "code",
   "execution_count": 111,
   "metadata": {},
   "outputs": [],
   "source": [
    "pd.set_option('display.max_rows', 300)\n",
    "pd.set_option('display.max_columns', 300)"
   ]
  },
  {
   "cell_type": "code",
   "execution_count": null,
   "metadata": {},
   "outputs": [],
   "source": [
    "import os\n",
    "import pandas as pd\n",
    "import numpy as np\n",
    "import missingno as msn\n",
    "import pandas_profiling\n",
    "\n",
    "import seaborn as sns\n",
    "import matplotlib.pyplot as plt\n",
    "\n",
    "from sklearn.utils.class_weight import compute_class_weight\n",
    "from sklearn.utils import resample\n",
    "from sklearn.impute import SimpleImputer\n",
    "from sklearn.preprocessing import StandardScaler, MinMaxScaler\n",
    "from sklearn.decomposition import PCA\n",
    "from sklearn.model_selection import GridSearchCV, StratifiedShuffleSplit, StratifiedKFold\n",
    "from category_encoders import CountEncoder, OneHotEncoder, TargetEncoder\n",
    "from sklearn.pipeline import Pipeline\n",
    "from sklearn.metrics import roc_curve, roc_auc_score, classification_report, f1_score, precision_score, recall_score, confusion_matrix\n",
    "\n",
    "from sklearn.ensemble import RandomForestClassifier\n",
    "from sklearn.linear_model import LogisticRegression\n",
    "\n",
    "import lightgbm as lgb\n",
    "import catboost as cb\n",
    "import xgboost as xgb\n",
    "import catboost as cb"
   ]
  },
  {
   "cell_type": "markdown",
   "metadata": {},
   "source": [
    "## 0. Loading data"
   ]
  },
  {
   "cell_type": "markdown",
   "metadata": {},
   "source": [
    "The datafiles refer to matlab .data format, labels and feature data are separate."
   ]
  },
  {
   "cell_type": "code",
   "execution_count": 57,
   "metadata": {},
   "outputs": [],
   "source": [
    "path = 'orange_small_train.data'\n",
    "\n",
    "data = pd.read_csv(os.path.join(path, 'orange_small_train.data'), sep='\\t')"
   ]
  },
  {
   "cell_type": "code",
   "execution_count": 32,
   "metadata": {},
   "outputs": [
    {
     "data": {
      "text/plain": [
       "(50000, 230)"
      ]
     },
     "execution_count": 32,
     "metadata": {},
     "output_type": "execute_result"
    }
   ],
   "source": [
    "data.shape"
   ]
  },
  {
   "cell_type": "code",
   "execution_count": 33,
   "metadata": {},
   "outputs": [
    {
     "name": "stdout",
     "output_type": "stream",
     "text": [
      "<class 'pandas.core.frame.DataFrame'>\n",
      "RangeIndex: 50000 entries, 0 to 49999\n",
      "Columns: 230 entries, Var1 to Var230\n",
      "dtypes: float64(191), int64(1), object(38)\n",
      "memory usage: 87.7+ MB\n"
     ]
    }
   ],
   "source": [
    "data.info()"
   ]
  },
  {
   "cell_type": "code",
   "execution_count": 6,
   "metadata": {},
   "outputs": [],
   "source": [
    "label = pd.read_csv(os.path.join(path, 'orange_small_train_appetency.txt'), header = None)"
   ]
  },
  {
   "cell_type": "code",
   "execution_count": 7,
   "metadata": {},
   "outputs": [],
   "source": [
    "label.columns = ['target']"
   ]
  },
  {
   "cell_type": "code",
   "execution_count": 44,
   "metadata": {},
   "outputs": [
    {
     "data": {
      "text/plain": [
       "(50000, 1)"
      ]
     },
     "execution_count": 44,
     "metadata": {},
     "output_type": "execute_result"
    }
   ],
   "source": [
    "label.shape"
   ]
  },
  {
   "cell_type": "code",
   "execution_count": 8,
   "metadata": {},
   "outputs": [
    {
     "data": {
      "text/html": [
       "<div>\n",
       "<style scoped>\n",
       "    .dataframe tbody tr th:only-of-type {\n",
       "        vertical-align: middle;\n",
       "    }\n",
       "\n",
       "    .dataframe tbody tr th {\n",
       "        vertical-align: top;\n",
       "    }\n",
       "\n",
       "    .dataframe thead th {\n",
       "        text-align: right;\n",
       "    }\n",
       "</style>\n",
       "<table border=\"1\" class=\"dataframe\">\n",
       "  <thead>\n",
       "    <tr style=\"text-align: right;\">\n",
       "      <th></th>\n",
       "      <th>target</th>\n",
       "    </tr>\n",
       "  </thead>\n",
       "  <tbody>\n",
       "    <tr>\n",
       "      <th>0</th>\n",
       "      <td>-1</td>\n",
       "    </tr>\n",
       "    <tr>\n",
       "      <th>1</th>\n",
       "      <td>-1</td>\n",
       "    </tr>\n",
       "    <tr>\n",
       "      <th>2</th>\n",
       "      <td>-1</td>\n",
       "    </tr>\n",
       "  </tbody>\n",
       "</table>\n",
       "</div>"
      ],
      "text/plain": [
       "   target\n",
       "0      -1\n",
       "1      -1\n",
       "2      -1"
      ]
     },
     "execution_count": 8,
     "metadata": {},
     "output_type": "execute_result"
    }
   ],
   "source": [
    "label.head(3)"
   ]
  },
  {
   "cell_type": "code",
   "execution_count": 58,
   "metadata": {},
   "outputs": [],
   "source": [
    "# Adding target\n",
    "data['target'] = label['target']"
   ]
  },
  {
   "cell_type": "markdown",
   "metadata": {},
   "source": [
    "## 1. Cleaning data"
   ]
  },
  {
   "cell_type": "code",
   "execution_count": 34,
   "metadata": {},
   "outputs": [
    {
     "data": {
      "text/html": [
       "<div>\n",
       "<style scoped>\n",
       "    .dataframe tbody tr th:only-of-type {\n",
       "        vertical-align: middle;\n",
       "    }\n",
       "\n",
       "    .dataframe tbody tr th {\n",
       "        vertical-align: top;\n",
       "    }\n",
       "\n",
       "    .dataframe thead th {\n",
       "        text-align: right;\n",
       "    }\n",
       "</style>\n",
       "<table border=\"1\" class=\"dataframe\">\n",
       "  <thead>\n",
       "    <tr style=\"text-align: right;\">\n",
       "      <th></th>\n",
       "      <th>Var1</th>\n",
       "      <th>Var2</th>\n",
       "      <th>Var3</th>\n",
       "      <th>Var4</th>\n",
       "      <th>Var5</th>\n",
       "      <th>Var6</th>\n",
       "      <th>Var7</th>\n",
       "      <th>Var8</th>\n",
       "      <th>Var9</th>\n",
       "      <th>Var10</th>\n",
       "      <th>Var11</th>\n",
       "      <th>Var12</th>\n",
       "      <th>Var13</th>\n",
       "      <th>Var14</th>\n",
       "      <th>Var15</th>\n",
       "      <th>Var16</th>\n",
       "      <th>Var17</th>\n",
       "      <th>Var18</th>\n",
       "      <th>Var19</th>\n",
       "      <th>Var20</th>\n",
       "      <th>Var21</th>\n",
       "      <th>Var22</th>\n",
       "      <th>Var23</th>\n",
       "      <th>Var24</th>\n",
       "      <th>Var25</th>\n",
       "      <th>Var26</th>\n",
       "      <th>Var27</th>\n",
       "      <th>Var28</th>\n",
       "      <th>Var29</th>\n",
       "      <th>Var30</th>\n",
       "      <th>Var31</th>\n",
       "      <th>Var32</th>\n",
       "      <th>Var33</th>\n",
       "      <th>Var34</th>\n",
       "      <th>Var35</th>\n",
       "      <th>Var36</th>\n",
       "      <th>Var37</th>\n",
       "      <th>Var38</th>\n",
       "      <th>Var39</th>\n",
       "      <th>Var40</th>\n",
       "      <th>Var41</th>\n",
       "      <th>Var42</th>\n",
       "      <th>Var43</th>\n",
       "      <th>Var44</th>\n",
       "      <th>Var45</th>\n",
       "      <th>Var46</th>\n",
       "      <th>Var47</th>\n",
       "      <th>Var48</th>\n",
       "      <th>Var49</th>\n",
       "      <th>Var50</th>\n",
       "      <th>Var51</th>\n",
       "      <th>Var52</th>\n",
       "      <th>Var53</th>\n",
       "      <th>Var54</th>\n",
       "      <th>Var55</th>\n",
       "      <th>Var56</th>\n",
       "      <th>Var57</th>\n",
       "      <th>Var58</th>\n",
       "      <th>Var59</th>\n",
       "      <th>Var60</th>\n",
       "      <th>Var61</th>\n",
       "      <th>Var62</th>\n",
       "      <th>Var63</th>\n",
       "      <th>Var64</th>\n",
       "      <th>Var65</th>\n",
       "      <th>Var66</th>\n",
       "      <th>Var67</th>\n",
       "      <th>Var68</th>\n",
       "      <th>Var69</th>\n",
       "      <th>Var70</th>\n",
       "      <th>Var71</th>\n",
       "      <th>Var72</th>\n",
       "      <th>Var73</th>\n",
       "      <th>Var74</th>\n",
       "      <th>Var75</th>\n",
       "      <th>Var76</th>\n",
       "      <th>Var77</th>\n",
       "      <th>Var78</th>\n",
       "      <th>Var79</th>\n",
       "      <th>Var80</th>\n",
       "      <th>Var81</th>\n",
       "      <th>Var82</th>\n",
       "      <th>Var83</th>\n",
       "      <th>Var84</th>\n",
       "      <th>Var85</th>\n",
       "      <th>Var86</th>\n",
       "      <th>Var87</th>\n",
       "      <th>Var88</th>\n",
       "      <th>Var89</th>\n",
       "      <th>Var90</th>\n",
       "      <th>Var91</th>\n",
       "      <th>Var92</th>\n",
       "      <th>Var93</th>\n",
       "      <th>Var94</th>\n",
       "      <th>Var95</th>\n",
       "      <th>Var96</th>\n",
       "      <th>Var97</th>\n",
       "      <th>Var98</th>\n",
       "      <th>Var99</th>\n",
       "      <th>Var100</th>\n",
       "      <th>Var101</th>\n",
       "      <th>Var102</th>\n",
       "      <th>Var103</th>\n",
       "      <th>Var104</th>\n",
       "      <th>Var105</th>\n",
       "      <th>Var106</th>\n",
       "      <th>Var107</th>\n",
       "      <th>Var108</th>\n",
       "      <th>Var109</th>\n",
       "      <th>Var110</th>\n",
       "      <th>Var111</th>\n",
       "      <th>Var112</th>\n",
       "      <th>Var113</th>\n",
       "      <th>Var114</th>\n",
       "      <th>Var115</th>\n",
       "      <th>Var116</th>\n",
       "      <th>Var117</th>\n",
       "      <th>Var118</th>\n",
       "      <th>Var119</th>\n",
       "      <th>Var120</th>\n",
       "      <th>Var121</th>\n",
       "      <th>Var122</th>\n",
       "      <th>Var123</th>\n",
       "      <th>Var124</th>\n",
       "      <th>Var125</th>\n",
       "      <th>Var126</th>\n",
       "      <th>Var127</th>\n",
       "      <th>Var128</th>\n",
       "      <th>Var129</th>\n",
       "      <th>Var130</th>\n",
       "      <th>Var131</th>\n",
       "      <th>Var132</th>\n",
       "      <th>Var133</th>\n",
       "      <th>Var134</th>\n",
       "      <th>Var135</th>\n",
       "      <th>Var136</th>\n",
       "      <th>Var137</th>\n",
       "      <th>Var138</th>\n",
       "      <th>Var139</th>\n",
       "      <th>Var140</th>\n",
       "      <th>Var141</th>\n",
       "      <th>Var142</th>\n",
       "      <th>Var143</th>\n",
       "      <th>Var144</th>\n",
       "      <th>Var145</th>\n",
       "      <th>Var146</th>\n",
       "      <th>Var147</th>\n",
       "      <th>Var148</th>\n",
       "      <th>Var149</th>\n",
       "      <th>Var150</th>\n",
       "      <th>Var151</th>\n",
       "      <th>Var152</th>\n",
       "      <th>Var153</th>\n",
       "      <th>Var154</th>\n",
       "      <th>Var155</th>\n",
       "      <th>Var156</th>\n",
       "      <th>Var157</th>\n",
       "      <th>Var158</th>\n",
       "      <th>Var159</th>\n",
       "      <th>Var160</th>\n",
       "      <th>Var161</th>\n",
       "      <th>Var162</th>\n",
       "      <th>Var163</th>\n",
       "      <th>Var164</th>\n",
       "      <th>Var165</th>\n",
       "      <th>Var166</th>\n",
       "      <th>Var167</th>\n",
       "      <th>Var168</th>\n",
       "      <th>Var169</th>\n",
       "      <th>Var170</th>\n",
       "      <th>Var171</th>\n",
       "      <th>Var172</th>\n",
       "      <th>Var173</th>\n",
       "      <th>Var174</th>\n",
       "      <th>Var175</th>\n",
       "      <th>Var176</th>\n",
       "      <th>Var177</th>\n",
       "      <th>Var178</th>\n",
       "      <th>Var179</th>\n",
       "      <th>Var180</th>\n",
       "      <th>Var181</th>\n",
       "      <th>Var182</th>\n",
       "      <th>Var183</th>\n",
       "      <th>Var184</th>\n",
       "      <th>Var185</th>\n",
       "      <th>Var186</th>\n",
       "      <th>Var187</th>\n",
       "      <th>Var188</th>\n",
       "      <th>Var189</th>\n",
       "      <th>Var190</th>\n",
       "      <th>Var191</th>\n",
       "      <th>Var192</th>\n",
       "      <th>Var193</th>\n",
       "      <th>Var194</th>\n",
       "      <th>Var195</th>\n",
       "      <th>Var196</th>\n",
       "      <th>Var197</th>\n",
       "      <th>Var198</th>\n",
       "      <th>Var199</th>\n",
       "      <th>Var200</th>\n",
       "      <th>Var201</th>\n",
       "      <th>Var202</th>\n",
       "      <th>Var203</th>\n",
       "      <th>Var204</th>\n",
       "      <th>Var205</th>\n",
       "      <th>Var206</th>\n",
       "      <th>Var207</th>\n",
       "      <th>Var208</th>\n",
       "      <th>Var209</th>\n",
       "      <th>Var210</th>\n",
       "      <th>Var211</th>\n",
       "      <th>Var212</th>\n",
       "      <th>Var213</th>\n",
       "      <th>Var214</th>\n",
       "      <th>Var215</th>\n",
       "      <th>Var216</th>\n",
       "      <th>Var217</th>\n",
       "      <th>Var218</th>\n",
       "      <th>Var219</th>\n",
       "      <th>Var220</th>\n",
       "      <th>Var221</th>\n",
       "      <th>Var222</th>\n",
       "      <th>Var223</th>\n",
       "      <th>Var224</th>\n",
       "      <th>Var225</th>\n",
       "      <th>Var226</th>\n",
       "      <th>Var227</th>\n",
       "      <th>Var228</th>\n",
       "      <th>Var229</th>\n",
       "      <th>Var230</th>\n",
       "    </tr>\n",
       "  </thead>\n",
       "  <tbody>\n",
       "    <tr>\n",
       "      <th>0</th>\n",
       "      <td>NaN</td>\n",
       "      <td>NaN</td>\n",
       "      <td>NaN</td>\n",
       "      <td>NaN</td>\n",
       "      <td>NaN</td>\n",
       "      <td>1526.0</td>\n",
       "      <td>7.0</td>\n",
       "      <td>NaN</td>\n",
       "      <td>NaN</td>\n",
       "      <td>NaN</td>\n",
       "      <td>NaN</td>\n",
       "      <td>NaN</td>\n",
       "      <td>184.0</td>\n",
       "      <td>NaN</td>\n",
       "      <td>NaN</td>\n",
       "      <td>NaN</td>\n",
       "      <td>NaN</td>\n",
       "      <td>NaN</td>\n",
       "      <td>NaN</td>\n",
       "      <td>NaN</td>\n",
       "      <td>464.0</td>\n",
       "      <td>580.0</td>\n",
       "      <td>NaN</td>\n",
       "      <td>14.0</td>\n",
       "      <td>128.0</td>\n",
       "      <td>NaN</td>\n",
       "      <td>NaN</td>\n",
       "      <td>166.56</td>\n",
       "      <td>NaN</td>\n",
       "      <td>NaN</td>\n",
       "      <td>NaN</td>\n",
       "      <td>NaN</td>\n",
       "      <td>NaN</td>\n",
       "      <td>NaN</td>\n",
       "      <td>0.0</td>\n",
       "      <td>NaN</td>\n",
       "      <td>NaN</td>\n",
       "      <td>3570.0</td>\n",
       "      <td>NaN</td>\n",
       "      <td>NaN</td>\n",
       "      <td>NaN</td>\n",
       "      <td>NaN</td>\n",
       "      <td>NaN</td>\n",
       "      <td>0.0</td>\n",
       "      <td>NaN</td>\n",
       "      <td>NaN</td>\n",
       "      <td>NaN</td>\n",
       "      <td>NaN</td>\n",
       "      <td>NaN</td>\n",
       "      <td>NaN</td>\n",
       "      <td>NaN</td>\n",
       "      <td>NaN</td>\n",
       "      <td>NaN</td>\n",
       "      <td>NaN</td>\n",
       "      <td>NaN</td>\n",
       "      <td>NaN</td>\n",
       "      <td>4.076907</td>\n",
       "      <td>NaN</td>\n",
       "      <td>NaN</td>\n",
       "      <td>NaN</td>\n",
       "      <td>NaN</td>\n",
       "      <td>NaN</td>\n",
       "      <td>NaN</td>\n",
       "      <td>NaN</td>\n",
       "      <td>9.0</td>\n",
       "      <td>NaN</td>\n",
       "      <td>NaN</td>\n",
       "      <td>NaN</td>\n",
       "      <td>NaN</td>\n",
       "      <td>NaN</td>\n",
       "      <td>NaN</td>\n",
       "      <td>NaN</td>\n",
       "      <td>36</td>\n",
       "      <td>35.0</td>\n",
       "      <td>NaN</td>\n",
       "      <td>1350864.0</td>\n",
       "      <td>NaN</td>\n",
       "      <td>0.0</td>\n",
       "      <td>NaN</td>\n",
       "      <td>NaN</td>\n",
       "      <td>7333.11</td>\n",
       "      <td>NaN</td>\n",
       "      <td>5.0</td>\n",
       "      <td>NaN</td>\n",
       "      <td>12.0</td>\n",
       "      <td>NaN</td>\n",
       "      <td>NaN</td>\n",
       "      <td>NaN</td>\n",
       "      <td>NaN</td>\n",
       "      <td>NaN</td>\n",
       "      <td>NaN</td>\n",
       "      <td>NaN</td>\n",
       "      <td>NaN</td>\n",
       "      <td>NaN</td>\n",
       "      <td>NaN</td>\n",
       "      <td>NaN</td>\n",
       "      <td>NaN</td>\n",
       "      <td>NaN</td>\n",
       "      <td>NaN</td>\n",
       "      <td>NaN</td>\n",
       "      <td>NaN</td>\n",
       "      <td>NaN</td>\n",
       "      <td>NaN</td>\n",
       "      <td>NaN</td>\n",
       "      <td>NaN</td>\n",
       "      <td>NaN</td>\n",
       "      <td>NaN</td>\n",
       "      <td>NaN</td>\n",
       "      <td>104.0</td>\n",
       "      <td>NaN</td>\n",
       "      <td>NaN</td>\n",
       "      <td>168.0</td>\n",
       "      <td>117625.60</td>\n",
       "      <td>NaN</td>\n",
       "      <td>NaN</td>\n",
       "      <td>NaN</td>\n",
       "      <td>NaN</td>\n",
       "      <td>NaN</td>\n",
       "      <td>1175.0</td>\n",
       "      <td>NaN</td>\n",
       "      <td>NaN</td>\n",
       "      <td>NaN</td>\n",
       "      <td>6.0</td>\n",
       "      <td>NaN</td>\n",
       "      <td>720.0</td>\n",
       "      <td>8.0</td>\n",
       "      <td>NaN</td>\n",
       "      <td>NaN</td>\n",
       "      <td>NaN</td>\n",
       "      <td>NaN</td>\n",
       "      <td>NaN</td>\n",
       "      <td>0.0</td>\n",
       "      <td>1212385.0</td>\n",
       "      <td>69134.0</td>\n",
       "      <td>NaN</td>\n",
       "      <td>NaN</td>\n",
       "      <td>NaN</td>\n",
       "      <td>NaN</td>\n",
       "      <td>NaN</td>\n",
       "      <td>185.0</td>\n",
       "      <td>NaN</td>\n",
       "      <td>NaN</td>\n",
       "      <td>0.0</td>\n",
       "      <td>9.0</td>\n",
       "      <td>NaN</td>\n",
       "      <td>NaN</td>\n",
       "      <td>NaN</td>\n",
       "      <td>NaN</td>\n",
       "      <td>397579.0</td>\n",
       "      <td>NaN</td>\n",
       "      <td>NaN</td>\n",
       "      <td>NaN</td>\n",
       "      <td>1812252.0</td>\n",
       "      <td>NaN</td>\n",
       "      <td>NaN</td>\n",
       "      <td>NaN</td>\n",
       "      <td>NaN</td>\n",
       "      <td>NaN</td>\n",
       "      <td>NaN</td>\n",
       "      <td>142.0</td>\n",
       "      <td>NaN</td>\n",
       "      <td>NaN</td>\n",
       "      <td>38418.0</td>\n",
       "      <td>NaN</td>\n",
       "      <td>NaN</td>\n",
       "      <td>NaN</td>\n",
       "      <td>NaN</td>\n",
       "      <td>NaN</td>\n",
       "      <td>NaN</td>\n",
       "      <td>NaN</td>\n",
       "      <td>NaN</td>\n",
       "      <td>NaN</td>\n",
       "      <td>0.0</td>\n",
       "      <td>NaN</td>\n",
       "      <td>NaN</td>\n",
       "      <td>NaN</td>\n",
       "      <td>NaN</td>\n",
       "      <td>NaN</td>\n",
       "      <td>NaN</td>\n",
       "      <td>NaN</td>\n",
       "      <td>0.0</td>\n",
       "      <td>NaN</td>\n",
       "      <td>NaN</td>\n",
       "      <td>NaN</td>\n",
       "      <td>NaN</td>\n",
       "      <td>NaN</td>\n",
       "      <td>NaN</td>\n",
       "      <td>NaN</td>\n",
       "      <td>462.0</td>\n",
       "      <td>NaN</td>\n",
       "      <td>NaN</td>\n",
       "      <td>bZkvyxLkBI</td>\n",
       "      <td>RO12</td>\n",
       "      <td>NaN</td>\n",
       "      <td>taul</td>\n",
       "      <td>1K8T</td>\n",
       "      <td>lK27</td>\n",
       "      <td>ka_ns41</td>\n",
       "      <td>nQUveAzAF7</td>\n",
       "      <td>NaN</td>\n",
       "      <td>NaN</td>\n",
       "      <td>dXGu</td>\n",
       "      <td>9_Y1</td>\n",
       "      <td>FbIm</td>\n",
       "      <td>VpdQ</td>\n",
       "      <td>haYg</td>\n",
       "      <td>me75fM6ugJ</td>\n",
       "      <td>kIsH</td>\n",
       "      <td>NaN</td>\n",
       "      <td>uKAI</td>\n",
       "      <td>L84s</td>\n",
       "      <td>XfqtO3UdzaXh_</td>\n",
       "      <td>NaN</td>\n",
       "      <td>NaN</td>\n",
       "      <td>NaN</td>\n",
       "      <td>XTbPUYD</td>\n",
       "      <td>sH5Z</td>\n",
       "      <td>cJvF</td>\n",
       "      <td>FzaX</td>\n",
       "      <td>1YVfGrO</td>\n",
       "      <td>oslk</td>\n",
       "      <td>fXVEsaq</td>\n",
       "      <td>jySVZNlOJy</td>\n",
       "      <td>NaN</td>\n",
       "      <td>NaN</td>\n",
       "      <td>xb3V</td>\n",
       "      <td>RAYp</td>\n",
       "      <td>F2FyR07IdsN7I</td>\n",
       "      <td>NaN</td>\n",
       "      <td>NaN</td>\n",
       "    </tr>\n",
       "    <tr>\n",
       "      <th>1</th>\n",
       "      <td>NaN</td>\n",
       "      <td>NaN</td>\n",
       "      <td>NaN</td>\n",
       "      <td>NaN</td>\n",
       "      <td>NaN</td>\n",
       "      <td>525.0</td>\n",
       "      <td>0.0</td>\n",
       "      <td>NaN</td>\n",
       "      <td>NaN</td>\n",
       "      <td>NaN</td>\n",
       "      <td>NaN</td>\n",
       "      <td>NaN</td>\n",
       "      <td>0.0</td>\n",
       "      <td>NaN</td>\n",
       "      <td>NaN</td>\n",
       "      <td>NaN</td>\n",
       "      <td>NaN</td>\n",
       "      <td>NaN</td>\n",
       "      <td>NaN</td>\n",
       "      <td>NaN</td>\n",
       "      <td>168.0</td>\n",
       "      <td>210.0</td>\n",
       "      <td>NaN</td>\n",
       "      <td>2.0</td>\n",
       "      <td>24.0</td>\n",
       "      <td>NaN</td>\n",
       "      <td>NaN</td>\n",
       "      <td>353.52</td>\n",
       "      <td>NaN</td>\n",
       "      <td>NaN</td>\n",
       "      <td>NaN</td>\n",
       "      <td>NaN</td>\n",
       "      <td>NaN</td>\n",
       "      <td>NaN</td>\n",
       "      <td>0.0</td>\n",
       "      <td>NaN</td>\n",
       "      <td>NaN</td>\n",
       "      <td>4764966.0</td>\n",
       "      <td>NaN</td>\n",
       "      <td>NaN</td>\n",
       "      <td>NaN</td>\n",
       "      <td>NaN</td>\n",
       "      <td>NaN</td>\n",
       "      <td>0.0</td>\n",
       "      <td>NaN</td>\n",
       "      <td>NaN</td>\n",
       "      <td>NaN</td>\n",
       "      <td>NaN</td>\n",
       "      <td>NaN</td>\n",
       "      <td>NaN</td>\n",
       "      <td>NaN</td>\n",
       "      <td>NaN</td>\n",
       "      <td>NaN</td>\n",
       "      <td>NaN</td>\n",
       "      <td>NaN</td>\n",
       "      <td>NaN</td>\n",
       "      <td>5.408032</td>\n",
       "      <td>NaN</td>\n",
       "      <td>NaN</td>\n",
       "      <td>NaN</td>\n",
       "      <td>NaN</td>\n",
       "      <td>NaN</td>\n",
       "      <td>NaN</td>\n",
       "      <td>NaN</td>\n",
       "      <td>9.0</td>\n",
       "      <td>NaN</td>\n",
       "      <td>NaN</td>\n",
       "      <td>NaN</td>\n",
       "      <td>NaN</td>\n",
       "      <td>NaN</td>\n",
       "      <td>NaN</td>\n",
       "      <td>3.0</td>\n",
       "      <td>26</td>\n",
       "      <td>0.0</td>\n",
       "      <td>NaN</td>\n",
       "      <td>2872928.0</td>\n",
       "      <td>NaN</td>\n",
       "      <td>3.0</td>\n",
       "      <td>NaN</td>\n",
       "      <td>NaN</td>\n",
       "      <td>151098.90</td>\n",
       "      <td>NaN</td>\n",
       "      <td>25.0</td>\n",
       "      <td>NaN</td>\n",
       "      <td>2.0</td>\n",
       "      <td>NaN</td>\n",
       "      <td>NaN</td>\n",
       "      <td>NaN</td>\n",
       "      <td>NaN</td>\n",
       "      <td>NaN</td>\n",
       "      <td>NaN</td>\n",
       "      <td>NaN</td>\n",
       "      <td>NaN</td>\n",
       "      <td>58158.0</td>\n",
       "      <td>NaN</td>\n",
       "      <td>NaN</td>\n",
       "      <td>NaN</td>\n",
       "      <td>NaN</td>\n",
       "      <td>NaN</td>\n",
       "      <td>NaN</td>\n",
       "      <td>NaN</td>\n",
       "      <td>NaN</td>\n",
       "      <td>NaN</td>\n",
       "      <td>NaN</td>\n",
       "      <td>NaN</td>\n",
       "      <td>NaN</td>\n",
       "      <td>NaN</td>\n",
       "      <td>NaN</td>\n",
       "      <td>40.0</td>\n",
       "      <td>NaN</td>\n",
       "      <td>NaN</td>\n",
       "      <td>40.0</td>\n",
       "      <td>-356411.60</td>\n",
       "      <td>NaN</td>\n",
       "      <td>NaN</td>\n",
       "      <td>NaN</td>\n",
       "      <td>NaN</td>\n",
       "      <td>NaN</td>\n",
       "      <td>590.0</td>\n",
       "      <td>NaN</td>\n",
       "      <td>NaN</td>\n",
       "      <td>NaN</td>\n",
       "      <td>72.0</td>\n",
       "      <td>NaN</td>\n",
       "      <td>0.0</td>\n",
       "      <td>NaN</td>\n",
       "      <td>NaN</td>\n",
       "      <td>NaN</td>\n",
       "      <td>NaN</td>\n",
       "      <td>NaN</td>\n",
       "      <td>NaN</td>\n",
       "      <td>8.0</td>\n",
       "      <td>4136430.0</td>\n",
       "      <td>357038.0</td>\n",
       "      <td>NaN</td>\n",
       "      <td>NaN</td>\n",
       "      <td>NaN</td>\n",
       "      <td>NaN</td>\n",
       "      <td>NaN</td>\n",
       "      <td>0.0</td>\n",
       "      <td>NaN</td>\n",
       "      <td>NaN</td>\n",
       "      <td>0.0</td>\n",
       "      <td>9.0</td>\n",
       "      <td>NaN</td>\n",
       "      <td>NaN</td>\n",
       "      <td>NaN</td>\n",
       "      <td>NaN</td>\n",
       "      <td>278334.0</td>\n",
       "      <td>NaN</td>\n",
       "      <td>NaN</td>\n",
       "      <td>NaN</td>\n",
       "      <td>10439160.0</td>\n",
       "      <td>NaN</td>\n",
       "      <td>NaN</td>\n",
       "      <td>NaN</td>\n",
       "      <td>NaN</td>\n",
       "      <td>NaN</td>\n",
       "      <td>NaN</td>\n",
       "      <td>32.0</td>\n",
       "      <td>NaN</td>\n",
       "      <td>NaN</td>\n",
       "      <td>238572.0</td>\n",
       "      <td>NaN</td>\n",
       "      <td>NaN</td>\n",
       "      <td>NaN</td>\n",
       "      <td>NaN</td>\n",
       "      <td>NaN</td>\n",
       "      <td>NaN</td>\n",
       "      <td>NaN</td>\n",
       "      <td>NaN</td>\n",
       "      <td>NaN</td>\n",
       "      <td>0.0</td>\n",
       "      <td>NaN</td>\n",
       "      <td>NaN</td>\n",
       "      <td>NaN</td>\n",
       "      <td>NaN</td>\n",
       "      <td>NaN</td>\n",
       "      <td>NaN</td>\n",
       "      <td>NaN</td>\n",
       "      <td>0.0</td>\n",
       "      <td>NaN</td>\n",
       "      <td>NaN</td>\n",
       "      <td>NaN</td>\n",
       "      <td>NaN</td>\n",
       "      <td>NaN</td>\n",
       "      <td>NaN</td>\n",
       "      <td>NaN</td>\n",
       "      <td>NaN</td>\n",
       "      <td>NaN</td>\n",
       "      <td>NaN</td>\n",
       "      <td>CEat0G8rTN</td>\n",
       "      <td>RO12</td>\n",
       "      <td>NaN</td>\n",
       "      <td>taul</td>\n",
       "      <td>1K8T</td>\n",
       "      <td>2Ix5</td>\n",
       "      <td>qEdASpP</td>\n",
       "      <td>y2LIM01bE1</td>\n",
       "      <td>NaN</td>\n",
       "      <td>NaN</td>\n",
       "      <td>lg1t</td>\n",
       "      <td>9_Y1</td>\n",
       "      <td>k13i</td>\n",
       "      <td>sJzTlal</td>\n",
       "      <td>zm5i</td>\n",
       "      <td>me75fM6ugJ</td>\n",
       "      <td>kIsH</td>\n",
       "      <td>NaN</td>\n",
       "      <td>uKAI</td>\n",
       "      <td>L84s</td>\n",
       "      <td>NhsEn4L</td>\n",
       "      <td>NaN</td>\n",
       "      <td>NaN</td>\n",
       "      <td>NaN</td>\n",
       "      <td>kZJyVg2</td>\n",
       "      <td>NaN</td>\n",
       "      <td>NaN</td>\n",
       "      <td>FzaX</td>\n",
       "      <td>0AJo2f2</td>\n",
       "      <td>oslk</td>\n",
       "      <td>2Kb5FSF</td>\n",
       "      <td>LM8l689qOp</td>\n",
       "      <td>NaN</td>\n",
       "      <td>NaN</td>\n",
       "      <td>fKCe</td>\n",
       "      <td>RAYp</td>\n",
       "      <td>F2FyR07IdsN7I</td>\n",
       "      <td>NaN</td>\n",
       "      <td>NaN</td>\n",
       "    </tr>\n",
       "    <tr>\n",
       "      <th>2</th>\n",
       "      <td>NaN</td>\n",
       "      <td>NaN</td>\n",
       "      <td>NaN</td>\n",
       "      <td>NaN</td>\n",
       "      <td>NaN</td>\n",
       "      <td>5236.0</td>\n",
       "      <td>7.0</td>\n",
       "      <td>NaN</td>\n",
       "      <td>NaN</td>\n",
       "      <td>NaN</td>\n",
       "      <td>NaN</td>\n",
       "      <td>NaN</td>\n",
       "      <td>904.0</td>\n",
       "      <td>NaN</td>\n",
       "      <td>NaN</td>\n",
       "      <td>NaN</td>\n",
       "      <td>NaN</td>\n",
       "      <td>NaN</td>\n",
       "      <td>NaN</td>\n",
       "      <td>NaN</td>\n",
       "      <td>1212.0</td>\n",
       "      <td>1515.0</td>\n",
       "      <td>NaN</td>\n",
       "      <td>26.0</td>\n",
       "      <td>816.0</td>\n",
       "      <td>NaN</td>\n",
       "      <td>NaN</td>\n",
       "      <td>220.08</td>\n",
       "      <td>NaN</td>\n",
       "      <td>NaN</td>\n",
       "      <td>NaN</td>\n",
       "      <td>NaN</td>\n",
       "      <td>NaN</td>\n",
       "      <td>NaN</td>\n",
       "      <td>0.0</td>\n",
       "      <td>NaN</td>\n",
       "      <td>NaN</td>\n",
       "      <td>5883894.0</td>\n",
       "      <td>NaN</td>\n",
       "      <td>NaN</td>\n",
       "      <td>NaN</td>\n",
       "      <td>NaN</td>\n",
       "      <td>NaN</td>\n",
       "      <td>0.0</td>\n",
       "      <td>NaN</td>\n",
       "      <td>NaN</td>\n",
       "      <td>NaN</td>\n",
       "      <td>NaN</td>\n",
       "      <td>NaN</td>\n",
       "      <td>NaN</td>\n",
       "      <td>NaN</td>\n",
       "      <td>NaN</td>\n",
       "      <td>NaN</td>\n",
       "      <td>NaN</td>\n",
       "      <td>NaN</td>\n",
       "      <td>NaN</td>\n",
       "      <td>6.599658</td>\n",
       "      <td>NaN</td>\n",
       "      <td>NaN</td>\n",
       "      <td>NaN</td>\n",
       "      <td>NaN</td>\n",
       "      <td>NaN</td>\n",
       "      <td>NaN</td>\n",
       "      <td>NaN</td>\n",
       "      <td>9.0</td>\n",
       "      <td>NaN</td>\n",
       "      <td>NaN</td>\n",
       "      <td>NaN</td>\n",
       "      <td>NaN</td>\n",
       "      <td>NaN</td>\n",
       "      <td>NaN</td>\n",
       "      <td>NaN</td>\n",
       "      <td>130</td>\n",
       "      <td>518.0</td>\n",
       "      <td>NaN</td>\n",
       "      <td>1675776.0</td>\n",
       "      <td>NaN</td>\n",
       "      <td>0.0</td>\n",
       "      <td>NaN</td>\n",
       "      <td>NaN</td>\n",
       "      <td>16211.58</td>\n",
       "      <td>NaN</td>\n",
       "      <td>40.0</td>\n",
       "      <td>NaN</td>\n",
       "      <td>58.0</td>\n",
       "      <td>NaN</td>\n",
       "      <td>NaN</td>\n",
       "      <td>NaN</td>\n",
       "      <td>NaN</td>\n",
       "      <td>NaN</td>\n",
       "      <td>NaN</td>\n",
       "      <td>NaN</td>\n",
       "      <td>NaN</td>\n",
       "      <td>NaN</td>\n",
       "      <td>NaN</td>\n",
       "      <td>NaN</td>\n",
       "      <td>NaN</td>\n",
       "      <td>NaN</td>\n",
       "      <td>NaN</td>\n",
       "      <td>NaN</td>\n",
       "      <td>NaN</td>\n",
       "      <td>NaN</td>\n",
       "      <td>NaN</td>\n",
       "      <td>NaN</td>\n",
       "      <td>NaN</td>\n",
       "      <td>NaN</td>\n",
       "      <td>NaN</td>\n",
       "      <td>NaN</td>\n",
       "      <td>312.0</td>\n",
       "      <td>NaN</td>\n",
       "      <td>NaN</td>\n",
       "      <td>336.0</td>\n",
       "      <td>405104.00</td>\n",
       "      <td>NaN</td>\n",
       "      <td>NaN</td>\n",
       "      <td>NaN</td>\n",
       "      <td>NaN</td>\n",
       "      <td>NaN</td>\n",
       "      <td>3230.0</td>\n",
       "      <td>NaN</td>\n",
       "      <td>NaN</td>\n",
       "      <td>NaN</td>\n",
       "      <td>114.0</td>\n",
       "      <td>NaN</td>\n",
       "      <td>5967.0</td>\n",
       "      <td>-28.0</td>\n",
       "      <td>NaN</td>\n",
       "      <td>NaN</td>\n",
       "      <td>NaN</td>\n",
       "      <td>NaN</td>\n",
       "      <td>NaN</td>\n",
       "      <td>0.0</td>\n",
       "      <td>3478905.0</td>\n",
       "      <td>248932.0</td>\n",
       "      <td>NaN</td>\n",
       "      <td>NaN</td>\n",
       "      <td>NaN</td>\n",
       "      <td>NaN</td>\n",
       "      <td>NaN</td>\n",
       "      <td>800.0</td>\n",
       "      <td>NaN</td>\n",
       "      <td>NaN</td>\n",
       "      <td>0.0</td>\n",
       "      <td>36.0</td>\n",
       "      <td>NaN</td>\n",
       "      <td>NaN</td>\n",
       "      <td>NaN</td>\n",
       "      <td>NaN</td>\n",
       "      <td>320565.0</td>\n",
       "      <td>NaN</td>\n",
       "      <td>NaN</td>\n",
       "      <td>NaN</td>\n",
       "      <td>9826360.0</td>\n",
       "      <td>NaN</td>\n",
       "      <td>NaN</td>\n",
       "      <td>NaN</td>\n",
       "      <td>NaN</td>\n",
       "      <td>NaN</td>\n",
       "      <td>NaN</td>\n",
       "      <td>206.0</td>\n",
       "      <td>NaN</td>\n",
       "      <td>NaN</td>\n",
       "      <td>434946.0</td>\n",
       "      <td>NaN</td>\n",
       "      <td>NaN</td>\n",
       "      <td>NaN</td>\n",
       "      <td>NaN</td>\n",
       "      <td>NaN</td>\n",
       "      <td>NaN</td>\n",
       "      <td>NaN</td>\n",
       "      <td>NaN</td>\n",
       "      <td>NaN</td>\n",
       "      <td>0.0</td>\n",
       "      <td>NaN</td>\n",
       "      <td>NaN</td>\n",
       "      <td>NaN</td>\n",
       "      <td>NaN</td>\n",
       "      <td>NaN</td>\n",
       "      <td>NaN</td>\n",
       "      <td>NaN</td>\n",
       "      <td>0.0</td>\n",
       "      <td>NaN</td>\n",
       "      <td>NaN</td>\n",
       "      <td>NaN</td>\n",
       "      <td>NaN</td>\n",
       "      <td>NaN</td>\n",
       "      <td>NaN</td>\n",
       "      <td>NaN</td>\n",
       "      <td>NaN</td>\n",
       "      <td>NaN</td>\n",
       "      <td>NaN</td>\n",
       "      <td>eOQt0GoOh3</td>\n",
       "      <td>AERks4l</td>\n",
       "      <td>SEuy</td>\n",
       "      <td>taul</td>\n",
       "      <td>1K8T</td>\n",
       "      <td>ffXs</td>\n",
       "      <td>NldASpP</td>\n",
       "      <td>y4g9XoZ</td>\n",
       "      <td>vynJTq9</td>\n",
       "      <td>smXZ</td>\n",
       "      <td>4bTR</td>\n",
       "      <td>9_Y1</td>\n",
       "      <td>MGOA</td>\n",
       "      <td>VpdQ</td>\n",
       "      <td>haYg</td>\n",
       "      <td>DHn_WUyBhW_whjA88g9bvA64_</td>\n",
       "      <td>kIsH</td>\n",
       "      <td>NaN</td>\n",
       "      <td>uKAI</td>\n",
       "      <td>L84s</td>\n",
       "      <td>UbxQ8lZ</td>\n",
       "      <td>NaN</td>\n",
       "      <td>TTGHfSv</td>\n",
       "      <td>NaN</td>\n",
       "      <td>pMWAe2U</td>\n",
       "      <td>bHR7</td>\n",
       "      <td>UYBR</td>\n",
       "      <td>FzaX</td>\n",
       "      <td>JFM1BiF</td>\n",
       "      <td>Al6ZaUT</td>\n",
       "      <td>NKv4yOc</td>\n",
       "      <td>jySVZNlOJy</td>\n",
       "      <td>NaN</td>\n",
       "      <td>kG3k</td>\n",
       "      <td>Qu4f</td>\n",
       "      <td>02N6s8f</td>\n",
       "      <td>ib5G6X1eUxUn6</td>\n",
       "      <td>am7c</td>\n",
       "      <td>NaN</td>\n",
       "    </tr>\n",
       "    <tr>\n",
       "      <th>3</th>\n",
       "      <td>NaN</td>\n",
       "      <td>NaN</td>\n",
       "      <td>NaN</td>\n",
       "      <td>NaN</td>\n",
       "      <td>NaN</td>\n",
       "      <td>NaN</td>\n",
       "      <td>0.0</td>\n",
       "      <td>NaN</td>\n",
       "      <td>NaN</td>\n",
       "      <td>NaN</td>\n",
       "      <td>NaN</td>\n",
       "      <td>NaN</td>\n",
       "      <td>0.0</td>\n",
       "      <td>NaN</td>\n",
       "      <td>NaN</td>\n",
       "      <td>NaN</td>\n",
       "      <td>NaN</td>\n",
       "      <td>NaN</td>\n",
       "      <td>NaN</td>\n",
       "      <td>NaN</td>\n",
       "      <td>NaN</td>\n",
       "      <td>0.0</td>\n",
       "      <td>NaN</td>\n",
       "      <td>NaN</td>\n",
       "      <td>0.0</td>\n",
       "      <td>NaN</td>\n",
       "      <td>NaN</td>\n",
       "      <td>22.08</td>\n",
       "      <td>NaN</td>\n",
       "      <td>NaN</td>\n",
       "      <td>NaN</td>\n",
       "      <td>NaN</td>\n",
       "      <td>NaN</td>\n",
       "      <td>NaN</td>\n",
       "      <td>0.0</td>\n",
       "      <td>NaN</td>\n",
       "      <td>NaN</td>\n",
       "      <td>0.0</td>\n",
       "      <td>NaN</td>\n",
       "      <td>NaN</td>\n",
       "      <td>NaN</td>\n",
       "      <td>NaN</td>\n",
       "      <td>NaN</td>\n",
       "      <td>0.0</td>\n",
       "      <td>NaN</td>\n",
       "      <td>NaN</td>\n",
       "      <td>NaN</td>\n",
       "      <td>NaN</td>\n",
       "      <td>NaN</td>\n",
       "      <td>NaN</td>\n",
       "      <td>NaN</td>\n",
       "      <td>NaN</td>\n",
       "      <td>NaN</td>\n",
       "      <td>NaN</td>\n",
       "      <td>NaN</td>\n",
       "      <td>NaN</td>\n",
       "      <td>1.988250</td>\n",
       "      <td>NaN</td>\n",
       "      <td>NaN</td>\n",
       "      <td>NaN</td>\n",
       "      <td>NaN</td>\n",
       "      <td>NaN</td>\n",
       "      <td>NaN</td>\n",
       "      <td>NaN</td>\n",
       "      <td>9.0</td>\n",
       "      <td>NaN</td>\n",
       "      <td>NaN</td>\n",
       "      <td>NaN</td>\n",
       "      <td>NaN</td>\n",
       "      <td>NaN</td>\n",
       "      <td>NaN</td>\n",
       "      <td>NaN</td>\n",
       "      <td>12</td>\n",
       "      <td>0.0</td>\n",
       "      <td>NaN</td>\n",
       "      <td>0.0</td>\n",
       "      <td>NaN</td>\n",
       "      <td>0.0</td>\n",
       "      <td>NaN</td>\n",
       "      <td>NaN</td>\n",
       "      <td>NaN</td>\n",
       "      <td>NaN</td>\n",
       "      <td>0.0</td>\n",
       "      <td>NaN</td>\n",
       "      <td>0.0</td>\n",
       "      <td>NaN</td>\n",
       "      <td>NaN</td>\n",
       "      <td>NaN</td>\n",
       "      <td>NaN</td>\n",
       "      <td>NaN</td>\n",
       "      <td>NaN</td>\n",
       "      <td>NaN</td>\n",
       "      <td>NaN</td>\n",
       "      <td>NaN</td>\n",
       "      <td>NaN</td>\n",
       "      <td>NaN</td>\n",
       "      <td>NaN</td>\n",
       "      <td>NaN</td>\n",
       "      <td>NaN</td>\n",
       "      <td>NaN</td>\n",
       "      <td>NaN</td>\n",
       "      <td>NaN</td>\n",
       "      <td>NaN</td>\n",
       "      <td>NaN</td>\n",
       "      <td>NaN</td>\n",
       "      <td>NaN</td>\n",
       "      <td>NaN</td>\n",
       "      <td>NaN</td>\n",
       "      <td>NaN</td>\n",
       "      <td>NaN</td>\n",
       "      <td>NaN</td>\n",
       "      <td>0.0</td>\n",
       "      <td>-275703.60</td>\n",
       "      <td>NaN</td>\n",
       "      <td>NaN</td>\n",
       "      <td>NaN</td>\n",
       "      <td>NaN</td>\n",
       "      <td>NaN</td>\n",
       "      <td>NaN</td>\n",
       "      <td>NaN</td>\n",
       "      <td>NaN</td>\n",
       "      <td>NaN</td>\n",
       "      <td>0.0</td>\n",
       "      <td>NaN</td>\n",
       "      <td>0.0</td>\n",
       "      <td>-14.0</td>\n",
       "      <td>NaN</td>\n",
       "      <td>NaN</td>\n",
       "      <td>NaN</td>\n",
       "      <td>NaN</td>\n",
       "      <td>NaN</td>\n",
       "      <td>0.0</td>\n",
       "      <td>0.0</td>\n",
       "      <td>0.0</td>\n",
       "      <td>NaN</td>\n",
       "      <td>NaN</td>\n",
       "      <td>NaN</td>\n",
       "      <td>NaN</td>\n",
       "      <td>NaN</td>\n",
       "      <td>0.0</td>\n",
       "      <td>NaN</td>\n",
       "      <td>NaN</td>\n",
       "      <td>0.0</td>\n",
       "      <td>NaN</td>\n",
       "      <td>NaN</td>\n",
       "      <td>NaN</td>\n",
       "      <td>NaN</td>\n",
       "      <td>NaN</td>\n",
       "      <td>NaN</td>\n",
       "      <td>NaN</td>\n",
       "      <td>NaN</td>\n",
       "      <td>NaN</td>\n",
       "      <td>0.0</td>\n",
       "      <td>NaN</td>\n",
       "      <td>NaN</td>\n",
       "      <td>NaN</td>\n",
       "      <td>NaN</td>\n",
       "      <td>NaN</td>\n",
       "      <td>NaN</td>\n",
       "      <td>0.0</td>\n",
       "      <td>NaN</td>\n",
       "      <td>NaN</td>\n",
       "      <td>0.0</td>\n",
       "      <td>NaN</td>\n",
       "      <td>NaN</td>\n",
       "      <td>NaN</td>\n",
       "      <td>NaN</td>\n",
       "      <td>NaN</td>\n",
       "      <td>NaN</td>\n",
       "      <td>NaN</td>\n",
       "      <td>NaN</td>\n",
       "      <td>NaN</td>\n",
       "      <td>0.0</td>\n",
       "      <td>NaN</td>\n",
       "      <td>NaN</td>\n",
       "      <td>NaN</td>\n",
       "      <td>NaN</td>\n",
       "      <td>NaN</td>\n",
       "      <td>NaN</td>\n",
       "      <td>NaN</td>\n",
       "      <td>0.0</td>\n",
       "      <td>NaN</td>\n",
       "      <td>NaN</td>\n",
       "      <td>NaN</td>\n",
       "      <td>NaN</td>\n",
       "      <td>NaN</td>\n",
       "      <td>NaN</td>\n",
       "      <td>NaN</td>\n",
       "      <td>NaN</td>\n",
       "      <td>NaN</td>\n",
       "      <td>NaN</td>\n",
       "      <td>jg69tYsGvO</td>\n",
       "      <td>RO12</td>\n",
       "      <td>NaN</td>\n",
       "      <td>taul</td>\n",
       "      <td>1K8T</td>\n",
       "      <td>ssAy</td>\n",
       "      <td>_ybO0dd</td>\n",
       "      <td>4hMlgkf58mhwh</td>\n",
       "      <td>NaN</td>\n",
       "      <td>NaN</td>\n",
       "      <td>W8mQ</td>\n",
       "      <td>9_Y1</td>\n",
       "      <td>YULl</td>\n",
       "      <td>VpdQ</td>\n",
       "      <td>NaN</td>\n",
       "      <td>me75fM6ugJ</td>\n",
       "      <td>kIsH</td>\n",
       "      <td>NaN</td>\n",
       "      <td>uKAI</td>\n",
       "      <td>Mtgm</td>\n",
       "      <td>NhsEn4L</td>\n",
       "      <td>NaN</td>\n",
       "      <td>NaN</td>\n",
       "      <td>NaN</td>\n",
       "      <td>kq0dQfu</td>\n",
       "      <td>eKej</td>\n",
       "      <td>UYBR</td>\n",
       "      <td>FzaX</td>\n",
       "      <td>L91KIiz</td>\n",
       "      <td>oslk</td>\n",
       "      <td>CE7uk3u</td>\n",
       "      <td>LM8l689qOp</td>\n",
       "      <td>NaN</td>\n",
       "      <td>NaN</td>\n",
       "      <td>FSa2</td>\n",
       "      <td>RAYp</td>\n",
       "      <td>F2FyR07IdsN7I</td>\n",
       "      <td>NaN</td>\n",
       "      <td>NaN</td>\n",
       "    </tr>\n",
       "    <tr>\n",
       "      <th>4</th>\n",
       "      <td>NaN</td>\n",
       "      <td>NaN</td>\n",
       "      <td>NaN</td>\n",
       "      <td>NaN</td>\n",
       "      <td>NaN</td>\n",
       "      <td>1029.0</td>\n",
       "      <td>7.0</td>\n",
       "      <td>NaN</td>\n",
       "      <td>NaN</td>\n",
       "      <td>NaN</td>\n",
       "      <td>NaN</td>\n",
       "      <td>NaN</td>\n",
       "      <td>3216.0</td>\n",
       "      <td>NaN</td>\n",
       "      <td>NaN</td>\n",
       "      <td>NaN</td>\n",
       "      <td>NaN</td>\n",
       "      <td>NaN</td>\n",
       "      <td>NaN</td>\n",
       "      <td>NaN</td>\n",
       "      <td>64.0</td>\n",
       "      <td>80.0</td>\n",
       "      <td>NaN</td>\n",
       "      <td>4.0</td>\n",
       "      <td>64.0</td>\n",
       "      <td>NaN</td>\n",
       "      <td>NaN</td>\n",
       "      <td>200.00</td>\n",
       "      <td>NaN</td>\n",
       "      <td>NaN</td>\n",
       "      <td>NaN</td>\n",
       "      <td>NaN</td>\n",
       "      <td>NaN</td>\n",
       "      <td>NaN</td>\n",
       "      <td>0.0</td>\n",
       "      <td>NaN</td>\n",
       "      <td>NaN</td>\n",
       "      <td>0.0</td>\n",
       "      <td>NaN</td>\n",
       "      <td>NaN</td>\n",
       "      <td>NaN</td>\n",
       "      <td>NaN</td>\n",
       "      <td>NaN</td>\n",
       "      <td>0.0</td>\n",
       "      <td>NaN</td>\n",
       "      <td>NaN</td>\n",
       "      <td>NaN</td>\n",
       "      <td>NaN</td>\n",
       "      <td>NaN</td>\n",
       "      <td>NaN</td>\n",
       "      <td>NaN</td>\n",
       "      <td>NaN</td>\n",
       "      <td>NaN</td>\n",
       "      <td>NaN</td>\n",
       "      <td>NaN</td>\n",
       "      <td>NaN</td>\n",
       "      <td>4.552446</td>\n",
       "      <td>NaN</td>\n",
       "      <td>NaN</td>\n",
       "      <td>NaN</td>\n",
       "      <td>NaN</td>\n",
       "      <td>NaN</td>\n",
       "      <td>NaN</td>\n",
       "      <td>NaN</td>\n",
       "      <td>18.0</td>\n",
       "      <td>NaN</td>\n",
       "      <td>NaN</td>\n",
       "      <td>NaN</td>\n",
       "      <td>NaN</td>\n",
       "      <td>NaN</td>\n",
       "      <td>NaN</td>\n",
       "      <td>3.0</td>\n",
       "      <td>82</td>\n",
       "      <td>224.0</td>\n",
       "      <td>NaN</td>\n",
       "      <td>784448.0</td>\n",
       "      <td>NaN</td>\n",
       "      <td>0.0</td>\n",
       "      <td>NaN</td>\n",
       "      <td>NaN</td>\n",
       "      <td>37423.50</td>\n",
       "      <td>NaN</td>\n",
       "      <td>0.0</td>\n",
       "      <td>NaN</td>\n",
       "      <td>0.0</td>\n",
       "      <td>NaN</td>\n",
       "      <td>NaN</td>\n",
       "      <td>NaN</td>\n",
       "      <td>NaN</td>\n",
       "      <td>NaN</td>\n",
       "      <td>NaN</td>\n",
       "      <td>NaN</td>\n",
       "      <td>NaN</td>\n",
       "      <td>89754.0</td>\n",
       "      <td>NaN</td>\n",
       "      <td>NaN</td>\n",
       "      <td>NaN</td>\n",
       "      <td>NaN</td>\n",
       "      <td>NaN</td>\n",
       "      <td>NaN</td>\n",
       "      <td>NaN</td>\n",
       "      <td>NaN</td>\n",
       "      <td>NaN</td>\n",
       "      <td>NaN</td>\n",
       "      <td>NaN</td>\n",
       "      <td>NaN</td>\n",
       "      <td>NaN</td>\n",
       "      <td>NaN</td>\n",
       "      <td>32.0</td>\n",
       "      <td>NaN</td>\n",
       "      <td>NaN</td>\n",
       "      <td>56.0</td>\n",
       "      <td>10714.84</td>\n",
       "      <td>NaN</td>\n",
       "      <td>NaN</td>\n",
       "      <td>NaN</td>\n",
       "      <td>NaN</td>\n",
       "      <td>NaN</td>\n",
       "      <td>215.0</td>\n",
       "      <td>NaN</td>\n",
       "      <td>NaN</td>\n",
       "      <td>NaN</td>\n",
       "      <td>0.0</td>\n",
       "      <td>NaN</td>\n",
       "      <td>15111.0</td>\n",
       "      <td>58.0</td>\n",
       "      <td>NaN</td>\n",
       "      <td>NaN</td>\n",
       "      <td>NaN</td>\n",
       "      <td>NaN</td>\n",
       "      <td>NaN</td>\n",
       "      <td>0.0</td>\n",
       "      <td>150650.0</td>\n",
       "      <td>66046.0</td>\n",
       "      <td>NaN</td>\n",
       "      <td>NaN</td>\n",
       "      <td>NaN</td>\n",
       "      <td>NaN</td>\n",
       "      <td>NaN</td>\n",
       "      <td>3255.0</td>\n",
       "      <td>NaN</td>\n",
       "      <td>NaN</td>\n",
       "      <td>0.0</td>\n",
       "      <td>9.0</td>\n",
       "      <td>NaN</td>\n",
       "      <td>NaN</td>\n",
       "      <td>NaN</td>\n",
       "      <td>NaN</td>\n",
       "      <td>267162.0</td>\n",
       "      <td>NaN</td>\n",
       "      <td>NaN</td>\n",
       "      <td>NaN</td>\n",
       "      <td>644836.0</td>\n",
       "      <td>NaN</td>\n",
       "      <td>NaN</td>\n",
       "      <td>NaN</td>\n",
       "      <td>NaN</td>\n",
       "      <td>NaN</td>\n",
       "      <td>NaN</td>\n",
       "      <td>2.0</td>\n",
       "      <td>NaN</td>\n",
       "      <td>NaN</td>\n",
       "      <td>0.0</td>\n",
       "      <td>NaN</td>\n",
       "      <td>NaN</td>\n",
       "      <td>NaN</td>\n",
       "      <td>NaN</td>\n",
       "      <td>NaN</td>\n",
       "      <td>NaN</td>\n",
       "      <td>NaN</td>\n",
       "      <td>NaN</td>\n",
       "      <td>NaN</td>\n",
       "      <td>0.0</td>\n",
       "      <td>NaN</td>\n",
       "      <td>NaN</td>\n",
       "      <td>NaN</td>\n",
       "      <td>NaN</td>\n",
       "      <td>NaN</td>\n",
       "      <td>NaN</td>\n",
       "      <td>NaN</td>\n",
       "      <td>0.0</td>\n",
       "      <td>NaN</td>\n",
       "      <td>NaN</td>\n",
       "      <td>NaN</td>\n",
       "      <td>NaN</td>\n",
       "      <td>NaN</td>\n",
       "      <td>NaN</td>\n",
       "      <td>NaN</td>\n",
       "      <td>NaN</td>\n",
       "      <td>NaN</td>\n",
       "      <td>NaN</td>\n",
       "      <td>IXSgUHShse</td>\n",
       "      <td>RO12</td>\n",
       "      <td>SEuy</td>\n",
       "      <td>taul</td>\n",
       "      <td>1K8T</td>\n",
       "      <td>uNkU</td>\n",
       "      <td>EKR938I</td>\n",
       "      <td>ThrHXVS</td>\n",
       "      <td>0v21jmy</td>\n",
       "      <td>smXZ</td>\n",
       "      <td>xklU</td>\n",
       "      <td>9_Y1</td>\n",
       "      <td>RVjC</td>\n",
       "      <td>sJzTlal</td>\n",
       "      <td>6JmL</td>\n",
       "      <td>me75fM6ugJ</td>\n",
       "      <td>kIsH</td>\n",
       "      <td>NaN</td>\n",
       "      <td>uKAI</td>\n",
       "      <td>L84s</td>\n",
       "      <td>XfqtO3UdzaXh_</td>\n",
       "      <td>NaN</td>\n",
       "      <td>SJs3duv</td>\n",
       "      <td>NaN</td>\n",
       "      <td>11p4mKe</td>\n",
       "      <td>H3p7</td>\n",
       "      <td>UYBR</td>\n",
       "      <td>FzaX</td>\n",
       "      <td>OrnLfvc</td>\n",
       "      <td>oslk</td>\n",
       "      <td>1J2cvxe</td>\n",
       "      <td>LM8l689qOp</td>\n",
       "      <td>NaN</td>\n",
       "      <td>kG3k</td>\n",
       "      <td>FSa2</td>\n",
       "      <td>RAYp</td>\n",
       "      <td>F2FyR07IdsN7I</td>\n",
       "      <td>mj86</td>\n",
       "      <td>NaN</td>\n",
       "    </tr>\n",
       "  </tbody>\n",
       "</table>\n",
       "</div>"
      ],
      "text/plain": [
       "   Var1  Var2  Var3  Var4  Var5    Var6  Var7  Var8  Var9  Var10  Var11  \\\n",
       "0   NaN   NaN   NaN   NaN   NaN  1526.0   7.0   NaN   NaN    NaN    NaN   \n",
       "1   NaN   NaN   NaN   NaN   NaN   525.0   0.0   NaN   NaN    NaN    NaN   \n",
       "2   NaN   NaN   NaN   NaN   NaN  5236.0   7.0   NaN   NaN    NaN    NaN   \n",
       "3   NaN   NaN   NaN   NaN   NaN     NaN   0.0   NaN   NaN    NaN    NaN   \n",
       "4   NaN   NaN   NaN   NaN   NaN  1029.0   7.0   NaN   NaN    NaN    NaN   \n",
       "\n",
       "   Var12   Var13  Var14  Var15  Var16  Var17  Var18  Var19  Var20   Var21  \\\n",
       "0    NaN   184.0    NaN    NaN    NaN    NaN    NaN    NaN    NaN   464.0   \n",
       "1    NaN     0.0    NaN    NaN    NaN    NaN    NaN    NaN    NaN   168.0   \n",
       "2    NaN   904.0    NaN    NaN    NaN    NaN    NaN    NaN    NaN  1212.0   \n",
       "3    NaN     0.0    NaN    NaN    NaN    NaN    NaN    NaN    NaN     NaN   \n",
       "4    NaN  3216.0    NaN    NaN    NaN    NaN    NaN    NaN    NaN    64.0   \n",
       "\n",
       "    Var22  Var23  Var24  Var25  Var26  Var27   Var28  Var29  Var30  Var31  \\\n",
       "0   580.0    NaN   14.0  128.0    NaN    NaN  166.56    NaN    NaN    NaN   \n",
       "1   210.0    NaN    2.0   24.0    NaN    NaN  353.52    NaN    NaN    NaN   \n",
       "2  1515.0    NaN   26.0  816.0    NaN    NaN  220.08    NaN    NaN    NaN   \n",
       "3     0.0    NaN    NaN    0.0    NaN    NaN   22.08    NaN    NaN    NaN   \n",
       "4    80.0    NaN    4.0   64.0    NaN    NaN  200.00    NaN    NaN    NaN   \n",
       "\n",
       "   Var32  Var33  Var34  Var35  Var36  Var37      Var38  Var39  Var40  Var41  \\\n",
       "0    NaN    NaN    NaN    0.0    NaN    NaN     3570.0    NaN    NaN    NaN   \n",
       "1    NaN    NaN    NaN    0.0    NaN    NaN  4764966.0    NaN    NaN    NaN   \n",
       "2    NaN    NaN    NaN    0.0    NaN    NaN  5883894.0    NaN    NaN    NaN   \n",
       "3    NaN    NaN    NaN    0.0    NaN    NaN        0.0    NaN    NaN    NaN   \n",
       "4    NaN    NaN    NaN    0.0    NaN    NaN        0.0    NaN    NaN    NaN   \n",
       "\n",
       "   Var42  Var43  Var44  Var45  Var46  Var47  Var48  Var49  Var50  Var51  \\\n",
       "0    NaN    NaN    0.0    NaN    NaN    NaN    NaN    NaN    NaN    NaN   \n",
       "1    NaN    NaN    0.0    NaN    NaN    NaN    NaN    NaN    NaN    NaN   \n",
       "2    NaN    NaN    0.0    NaN    NaN    NaN    NaN    NaN    NaN    NaN   \n",
       "3    NaN    NaN    0.0    NaN    NaN    NaN    NaN    NaN    NaN    NaN   \n",
       "4    NaN    NaN    0.0    NaN    NaN    NaN    NaN    NaN    NaN    NaN   \n",
       "\n",
       "   Var52  Var53  Var54  Var55  Var56     Var57  Var58  Var59  Var60  Var61  \\\n",
       "0    NaN    NaN    NaN    NaN    NaN  4.076907    NaN    NaN    NaN    NaN   \n",
       "1    NaN    NaN    NaN    NaN    NaN  5.408032    NaN    NaN    NaN    NaN   \n",
       "2    NaN    NaN    NaN    NaN    NaN  6.599658    NaN    NaN    NaN    NaN   \n",
       "3    NaN    NaN    NaN    NaN    NaN  1.988250    NaN    NaN    NaN    NaN   \n",
       "4    NaN    NaN    NaN    NaN    NaN  4.552446    NaN    NaN    NaN    NaN   \n",
       "\n",
       "   Var62  Var63  Var64  Var65  Var66  Var67  Var68  Var69  Var70  Var71  \\\n",
       "0    NaN    NaN    NaN    9.0    NaN    NaN    NaN    NaN    NaN    NaN   \n",
       "1    NaN    NaN    NaN    9.0    NaN    NaN    NaN    NaN    NaN    NaN   \n",
       "2    NaN    NaN    NaN    9.0    NaN    NaN    NaN    NaN    NaN    NaN   \n",
       "3    NaN    NaN    NaN    9.0    NaN    NaN    NaN    NaN    NaN    NaN   \n",
       "4    NaN    NaN    NaN   18.0    NaN    NaN    NaN    NaN    NaN    NaN   \n",
       "\n",
       "   Var72  Var73  Var74  Var75      Var76  Var77  Var78  Var79  Var80  \\\n",
       "0    NaN     36   35.0    NaN  1350864.0    NaN    0.0    NaN    NaN   \n",
       "1    3.0     26    0.0    NaN  2872928.0    NaN    3.0    NaN    NaN   \n",
       "2    NaN    130  518.0    NaN  1675776.0    NaN    0.0    NaN    NaN   \n",
       "3    NaN     12    0.0    NaN        0.0    NaN    0.0    NaN    NaN   \n",
       "4    3.0     82  224.0    NaN   784448.0    NaN    0.0    NaN    NaN   \n",
       "\n",
       "       Var81  Var82  Var83  Var84  Var85  Var86  Var87  Var88  Var89  Var90  \\\n",
       "0    7333.11    NaN    5.0    NaN   12.0    NaN    NaN    NaN    NaN    NaN   \n",
       "1  151098.90    NaN   25.0    NaN    2.0    NaN    NaN    NaN    NaN    NaN   \n",
       "2   16211.58    NaN   40.0    NaN   58.0    NaN    NaN    NaN    NaN    NaN   \n",
       "3        NaN    NaN    0.0    NaN    0.0    NaN    NaN    NaN    NaN    NaN   \n",
       "4   37423.50    NaN    0.0    NaN    0.0    NaN    NaN    NaN    NaN    NaN   \n",
       "\n",
       "   Var91  Var92  Var93    Var94  Var95  Var96  Var97  Var98  Var99  Var100  \\\n",
       "0    NaN    NaN    NaN      NaN    NaN    NaN    NaN    NaN    NaN     NaN   \n",
       "1    NaN    NaN    NaN  58158.0    NaN    NaN    NaN    NaN    NaN     NaN   \n",
       "2    NaN    NaN    NaN      NaN    NaN    NaN    NaN    NaN    NaN     NaN   \n",
       "3    NaN    NaN    NaN      NaN    NaN    NaN    NaN    NaN    NaN     NaN   \n",
       "4    NaN    NaN    NaN  89754.0    NaN    NaN    NaN    NaN    NaN     NaN   \n",
       "\n",
       "   Var101  Var102  Var103  Var104  Var105  Var106  Var107  Var108  Var109  \\\n",
       "0     NaN     NaN     NaN     NaN     NaN     NaN     NaN     NaN   104.0   \n",
       "1     NaN     NaN     NaN     NaN     NaN     NaN     NaN     NaN    40.0   \n",
       "2     NaN     NaN     NaN     NaN     NaN     NaN     NaN     NaN   312.0   \n",
       "3     NaN     NaN     NaN     NaN     NaN     NaN     NaN     NaN     NaN   \n",
       "4     NaN     NaN     NaN     NaN     NaN     NaN     NaN     NaN    32.0   \n",
       "\n",
       "   Var110  Var111  Var112     Var113  Var114  Var115  Var116  Var117  Var118  \\\n",
       "0     NaN     NaN   168.0  117625.60     NaN     NaN     NaN     NaN     NaN   \n",
       "1     NaN     NaN    40.0 -356411.60     NaN     NaN     NaN     NaN     NaN   \n",
       "2     NaN     NaN   336.0  405104.00     NaN     NaN     NaN     NaN     NaN   \n",
       "3     NaN     NaN     0.0 -275703.60     NaN     NaN     NaN     NaN     NaN   \n",
       "4     NaN     NaN    56.0   10714.84     NaN     NaN     NaN     NaN     NaN   \n",
       "\n",
       "   Var119  Var120  Var121  Var122  Var123  Var124   Var125  Var126  Var127  \\\n",
       "0  1175.0     NaN     NaN     NaN     6.0     NaN    720.0     8.0     NaN   \n",
       "1   590.0     NaN     NaN     NaN    72.0     NaN      0.0     NaN     NaN   \n",
       "2  3230.0     NaN     NaN     NaN   114.0     NaN   5967.0   -28.0     NaN   \n",
       "3     NaN     NaN     NaN     NaN     0.0     NaN      0.0   -14.0     NaN   \n",
       "4   215.0     NaN     NaN     NaN     0.0     NaN  15111.0    58.0     NaN   \n",
       "\n",
       "   Var128  Var129  Var130  Var131  Var132     Var133    Var134  Var135  \\\n",
       "0     NaN     NaN     NaN     NaN     0.0  1212385.0   69134.0     NaN   \n",
       "1     NaN     NaN     NaN     NaN     8.0  4136430.0  357038.0     NaN   \n",
       "2     NaN     NaN     NaN     NaN     0.0  3478905.0  248932.0     NaN   \n",
       "3     NaN     NaN     NaN     NaN     0.0        0.0       0.0     NaN   \n",
       "4     NaN     NaN     NaN     NaN     0.0   150650.0   66046.0     NaN   \n",
       "\n",
       "   Var136  Var137  Var138  Var139  Var140  Var141  Var142  Var143  Var144  \\\n",
       "0     NaN     NaN     NaN     NaN   185.0     NaN     NaN     0.0     9.0   \n",
       "1     NaN     NaN     NaN     NaN     0.0     NaN     NaN     0.0     9.0   \n",
       "2     NaN     NaN     NaN     NaN   800.0     NaN     NaN     0.0    36.0   \n",
       "3     NaN     NaN     NaN     NaN     0.0     NaN     NaN     0.0     NaN   \n",
       "4     NaN     NaN     NaN     NaN  3255.0     NaN     NaN     0.0     9.0   \n",
       "\n",
       "   Var145  Var146  Var147  Var148    Var149  Var150  Var151  Var152  \\\n",
       "0     NaN     NaN     NaN     NaN  397579.0     NaN     NaN     NaN   \n",
       "1     NaN     NaN     NaN     NaN  278334.0     NaN     NaN     NaN   \n",
       "2     NaN     NaN     NaN     NaN  320565.0     NaN     NaN     NaN   \n",
       "3     NaN     NaN     NaN     NaN       NaN     NaN     NaN     NaN   \n",
       "4     NaN     NaN     NaN     NaN  267162.0     NaN     NaN     NaN   \n",
       "\n",
       "       Var153  Var154  Var155  Var156  Var157  Var158  Var159  Var160  Var161  \\\n",
       "0   1812252.0     NaN     NaN     NaN     NaN     NaN     NaN   142.0     NaN   \n",
       "1  10439160.0     NaN     NaN     NaN     NaN     NaN     NaN    32.0     NaN   \n",
       "2   9826360.0     NaN     NaN     NaN     NaN     NaN     NaN   206.0     NaN   \n",
       "3         0.0     NaN     NaN     NaN     NaN     NaN     NaN     0.0     NaN   \n",
       "4    644836.0     NaN     NaN     NaN     NaN     NaN     NaN     2.0     NaN   \n",
       "\n",
       "   Var162    Var163  Var164  Var165  Var166  Var167  Var168  Var169  Var170  \\\n",
       "0     NaN   38418.0     NaN     NaN     NaN     NaN     NaN     NaN     NaN   \n",
       "1     NaN  238572.0     NaN     NaN     NaN     NaN     NaN     NaN     NaN   \n",
       "2     NaN  434946.0     NaN     NaN     NaN     NaN     NaN     NaN     NaN   \n",
       "3     NaN       0.0     NaN     NaN     NaN     NaN     NaN     NaN     NaN   \n",
       "4     NaN       0.0     NaN     NaN     NaN     NaN     NaN     NaN     NaN   \n",
       "\n",
       "   Var171  Var172  Var173  Var174  Var175  Var176  Var177  Var178  Var179  \\\n",
       "0     NaN     NaN     0.0     NaN     NaN     NaN     NaN     NaN     NaN   \n",
       "1     NaN     NaN     0.0     NaN     NaN     NaN     NaN     NaN     NaN   \n",
       "2     NaN     NaN     0.0     NaN     NaN     NaN     NaN     NaN     NaN   \n",
       "3     NaN     NaN     0.0     NaN     NaN     NaN     NaN     NaN     NaN   \n",
       "4     NaN     NaN     0.0     NaN     NaN     NaN     NaN     NaN     NaN   \n",
       "\n",
       "   Var180  Var181  Var182  Var183  Var184  Var185  Var186  Var187  Var188  \\\n",
       "0     NaN     0.0     NaN     NaN     NaN     NaN     NaN     NaN     NaN   \n",
       "1     NaN     0.0     NaN     NaN     NaN     NaN     NaN     NaN     NaN   \n",
       "2     NaN     0.0     NaN     NaN     NaN     NaN     NaN     NaN     NaN   \n",
       "3     NaN     0.0     NaN     NaN     NaN     NaN     NaN     NaN     NaN   \n",
       "4     NaN     0.0     NaN     NaN     NaN     NaN     NaN     NaN     NaN   \n",
       "\n",
       "   Var189  Var190 Var191      Var192   Var193 Var194 Var195 Var196 Var197  \\\n",
       "0   462.0     NaN    NaN  bZkvyxLkBI     RO12    NaN   taul   1K8T   lK27   \n",
       "1     NaN     NaN    NaN  CEat0G8rTN     RO12    NaN   taul   1K8T   2Ix5   \n",
       "2     NaN     NaN    NaN  eOQt0GoOh3  AERks4l   SEuy   taul   1K8T   ffXs   \n",
       "3     NaN     NaN    NaN  jg69tYsGvO     RO12    NaN   taul   1K8T   ssAy   \n",
       "4     NaN     NaN    NaN  IXSgUHShse     RO12   SEuy   taul   1K8T   uNkU   \n",
       "\n",
       "    Var198         Var199   Var200 Var201 Var202 Var203 Var204   Var205  \\\n",
       "0  ka_ns41     nQUveAzAF7      NaN    NaN   dXGu   9_Y1   FbIm     VpdQ   \n",
       "1  qEdASpP     y2LIM01bE1      NaN    NaN   lg1t   9_Y1   k13i  sJzTlal   \n",
       "2  NldASpP        y4g9XoZ  vynJTq9   smXZ   4bTR   9_Y1   MGOA     VpdQ   \n",
       "3  _ybO0dd  4hMlgkf58mhwh      NaN    NaN   W8mQ   9_Y1   YULl     VpdQ   \n",
       "4  EKR938I        ThrHXVS  0v21jmy   smXZ   xklU   9_Y1   RVjC  sJzTlal   \n",
       "\n",
       "  Var206                     Var207 Var208  Var209 Var210 Var211  \\\n",
       "0   haYg                 me75fM6ugJ   kIsH     NaN   uKAI   L84s   \n",
       "1   zm5i                 me75fM6ugJ   kIsH     NaN   uKAI   L84s   \n",
       "2   haYg  DHn_WUyBhW_whjA88g9bvA64_   kIsH     NaN   uKAI   L84s   \n",
       "3    NaN                 me75fM6ugJ   kIsH     NaN   uKAI   Mtgm   \n",
       "4   6JmL                 me75fM6ugJ   kIsH     NaN   uKAI   L84s   \n",
       "\n",
       "          Var212 Var213   Var214 Var215   Var216 Var217 Var218 Var219  \\\n",
       "0  XfqtO3UdzaXh_    NaN      NaN    NaN  XTbPUYD   sH5Z   cJvF   FzaX   \n",
       "1        NhsEn4L    NaN      NaN    NaN  kZJyVg2    NaN    NaN   FzaX   \n",
       "2        UbxQ8lZ    NaN  TTGHfSv    NaN  pMWAe2U   bHR7   UYBR   FzaX   \n",
       "3        NhsEn4L    NaN      NaN    NaN  kq0dQfu   eKej   UYBR   FzaX   \n",
       "4  XfqtO3UdzaXh_    NaN  SJs3duv    NaN  11p4mKe   H3p7   UYBR   FzaX   \n",
       "\n",
       "    Var220   Var221   Var222      Var223 Var224 Var225 Var226   Var227  \\\n",
       "0  1YVfGrO     oslk  fXVEsaq  jySVZNlOJy    NaN    NaN   xb3V     RAYp   \n",
       "1  0AJo2f2     oslk  2Kb5FSF  LM8l689qOp    NaN    NaN   fKCe     RAYp   \n",
       "2  JFM1BiF  Al6ZaUT  NKv4yOc  jySVZNlOJy    NaN   kG3k   Qu4f  02N6s8f   \n",
       "3  L91KIiz     oslk  CE7uk3u  LM8l689qOp    NaN    NaN   FSa2     RAYp   \n",
       "4  OrnLfvc     oslk  1J2cvxe  LM8l689qOp    NaN   kG3k   FSa2     RAYp   \n",
       "\n",
       "          Var228 Var229  Var230  \n",
       "0  F2FyR07IdsN7I    NaN     NaN  \n",
       "1  F2FyR07IdsN7I    NaN     NaN  \n",
       "2  ib5G6X1eUxUn6   am7c     NaN  \n",
       "3  F2FyR07IdsN7I    NaN     NaN  \n",
       "4  F2FyR07IdsN7I   mj86     NaN  "
      ]
     },
     "execution_count": 34,
     "metadata": {},
     "output_type": "execute_result"
    }
   ],
   "source": [
    "# Looking at the data - looks like there are a lot of NAs\n",
    "data.head()"
   ]
  },
  {
   "cell_type": "code",
   "execution_count": 36,
   "metadata": {},
   "outputs": [
    {
     "data": {
      "image/png": "[encoded data removed]",
      "text/plain": [
       "<Figure size 1800x720 with 2 Axes>"
      ]
     },
     "metadata": {
      "needs_background": "light"
     },
     "output_type": "display_data"
    }
   ],
   "source": [
    "msn.matrix(data);"
   ]
  },
  {
   "cell_type": "markdown",
   "metadata": {},
   "source": [
    "As we can see there are a lot of missing values - some variables are entirely non-usable, we probably will have to discard them later. There are several features (both categorical and numerical) that seem to practically not have missing values. However, it's clear that the final result will depend on the quality of the preprocessing. \n",
    "\n",
    "On another note, as all features are anonimized, it prevents from any qualitative analysis or feature generation based on common sense. Given the sheer amount of the features (mind, that this is a small dataset, original one includes 14,740 variables), it is reasonable to suggest that all the possible features have already been generated before, either using pairwise combinations or other available methods. Thus, we will not focus on feature engeneering in this project."
   ]
  },
  {
   "cell_type": "code",
   "execution_count": 59,
   "metadata": {
    "scrolled": true
   },
   "outputs": [
    {
     "name": "stdout",
     "output_type": "stream",
     "text": [
      "Eliminating ...Var1, percentage missing: 98.6 %\n",
      "Eliminating ...Var2, percentage missing: 97.5 %\n",
      "Eliminating ...Var3, percentage missing: 97.5 %\n",
      "Eliminating ...Var4, percentage missing: 96.8 %\n",
      "Eliminating ...Var5, percentage missing: 97.0 %\n",
      "Eliminating ...Var8, percentage missing: 100.0 %\n",
      "Eliminating ...Var9, percentage missing: 98.6 %\n",
      "Eliminating ...Var10, percentage missing: 97.0 %\n",
      "Eliminating ...Var11, percentage missing: 97.5 %\n",
      "Eliminating ...Var12, percentage missing: 98.9 %\n",
      "Eliminating ...Var14, percentage missing: 97.5 %\n",
      "Eliminating ...Var15, percentage missing: 100.0 %\n",
      "Eliminating ...Var16, percentage missing: 97.0 %\n",
      "Eliminating ...Var17, percentage missing: 96.8 %\n",
      "Eliminating ...Var18, percentage missing: 96.8 %\n",
      "Eliminating ...Var19, percentage missing: 96.8 %\n",
      "Eliminating ...Var20, percentage missing: 100.0 %\n",
      "Eliminating ...Var23, percentage missing: 97.0 %\n",
      "Eliminating ...Var26, percentage missing: 97.0 %\n",
      "Eliminating ...Var27, percentage missing: 97.0 %\n",
      "Eliminating ...Var29, percentage missing: 98.6 %\n",
      "Eliminating ...Var30, percentage missing: 98.6 %\n",
      "Eliminating ...Var31, percentage missing: 100.0 %\n",
      "Eliminating ...Var32, percentage missing: 100.0 %\n",
      "Eliminating ...Var33, percentage missing: 98.3 %\n",
      "Eliminating ...Var34, percentage missing: 97.5 %\n",
      "Eliminating ...Var36, percentage missing: 97.5 %\n",
      "Eliminating ...Var37, percentage missing: 96.8 %\n",
      "Eliminating ...Var39, percentage missing: 100.0 %\n",
      "Eliminating ...Var40, percentage missing: 97.5 %\n",
      "Eliminating ...Var41, percentage missing: 98.6 %\n",
      "Eliminating ...Var42, percentage missing: 100.0 %\n",
      "Eliminating ...Var43, percentage missing: 97.5 %\n",
      "Eliminating ...Var45, percentage missing: 99.3 %\n",
      "Eliminating ...Var46, percentage missing: 97.5 %\n",
      "Eliminating ...Var47, percentage missing: 98.6 %\n",
      "Eliminating ...Var48, percentage missing: 100.0 %\n",
      "Eliminating ...Var49, percentage missing: 97.5 %\n",
      "Eliminating ...Var50, percentage missing: 98.6 %\n",
      "Eliminating ...Var51, percentage missing: 92.5 %\n",
      "Eliminating ...Var52, percentage missing: 100.0 %\n",
      "Eliminating ...Var53, percentage missing: 98.6 %\n",
      "Eliminating ...Var54, percentage missing: 97.5 %\n",
      "Eliminating ...Var55, percentage missing: 100.0 %\n",
      "Eliminating ...Var56, percentage missing: 98.7 %\n",
      "Eliminating ...Var58, percentage missing: 98.6 %\n",
      "Eliminating ...Var59, percentage missing: 98.4 %\n",
      "Eliminating ...Var60, percentage missing: 97.0 %\n",
      "Eliminating ...Var61, percentage missing: 98.3 %\n",
      "Eliminating ...Var62, percentage missing: 98.9 %\n",
      "Eliminating ...Var63, percentage missing: 98.6 %\n",
      "Eliminating ...Var64, percentage missing: 99.5 %\n",
      "Eliminating ...Var66, percentage missing: 98.6 %\n",
      "Eliminating ...Var67, percentage missing: 97.0 %\n",
      "Eliminating ...Var68, percentage missing: 97.5 %\n",
      "Eliminating ...Var69, percentage missing: 97.0 %\n",
      "Eliminating ...Var70, percentage missing: 97.0 %\n",
      "Eliminating ...Var71, percentage missing: 97.7 %\n",
      "Eliminating ...Var72, percentage missing: 44.8 %\n",
      "Eliminating ...Var75, percentage missing: 97.5 %\n",
      "Eliminating ...Var77, percentage missing: 98.6 %\n",
      "Eliminating ...Var79, percentage missing: 100.0 %\n",
      "Eliminating ...Var80, percentage missing: 97.0 %\n",
      "Eliminating ...Var82, percentage missing: 96.8 %\n",
      "Eliminating ...Var84, percentage missing: 97.5 %\n",
      "Eliminating ...Var86, percentage missing: 98.6 %\n",
      "Eliminating ...Var87, percentage missing: 98.6 %\n",
      "Eliminating ...Var88, percentage missing: 97.8 %\n",
      "Eliminating ...Var89, percentage missing: 98.7 %\n",
      "Eliminating ...Var90, percentage missing: 98.6 %\n",
      "Eliminating ...Var91, percentage missing: 97.7 %\n",
      "Eliminating ...Var92, percentage missing: 99.7 %\n",
      "Eliminating ...Var93, percentage missing: 97.0 %\n",
      "Eliminating ...Var94, percentage missing: 44.8 %\n",
      "Eliminating ...Var95, percentage missing: 97.5 %\n",
      "Eliminating ...Var96, percentage missing: 97.5 %\n",
      "Eliminating ...Var97, percentage missing: 97.0 %\n",
      "Eliminating ...Var98, percentage missing: 98.9 %\n",
      "Eliminating ...Var99, percentage missing: 96.8 %\n",
      "Eliminating ...Var100, percentage missing: 98.6 %\n",
      "Eliminating ...Var101, percentage missing: 98.3 %\n",
      "Eliminating ...Var102, percentage missing: 99.1 %\n",
      "Eliminating ...Var103, percentage missing: 97.0 %\n",
      "Eliminating ...Var104, percentage missing: 98.4 %\n",
      "Eliminating ...Var105, percentage missing: 98.4 %\n",
      "Eliminating ...Var106, percentage missing: 96.8 %\n",
      "Eliminating ...Var107, percentage missing: 97.0 %\n",
      "Eliminating ...Var108, percentage missing: 98.6 %\n",
      "Eliminating ...Var110, percentage missing: 98.6 %\n",
      "Eliminating ...Var111, percentage missing: 97.7 %\n",
      "Eliminating ...Var114, percentage missing: 97.5 %\n",
      "Eliminating ...Var115, percentage missing: 98.4 %\n",
      "Eliminating ...Var116, percentage missing: 98.6 %\n",
      "Eliminating ...Var117, percentage missing: 96.8 %\n",
      "Eliminating ...Var118, percentage missing: 99.7 %\n",
      "Eliminating ...Var120, percentage missing: 97.0 %\n",
      "Eliminating ...Var121, percentage missing: 98.6 %\n",
      "Eliminating ...Var122, percentage missing: 97.5 %\n",
      "Eliminating ...Var124, percentage missing: 96.8 %\n",
      "Eliminating ...Var127, percentage missing: 97.8 %\n",
      "Eliminating ...Var128, percentage missing: 97.8 %\n",
      "Eliminating ...Var129, percentage missing: 98.6 %\n",
      "Eliminating ...Var130, percentage missing: 97.5 %\n",
      "Eliminating ...Var131, percentage missing: 98.6 %\n",
      "Eliminating ...Var135, percentage missing: 96.8 %\n",
      "Eliminating ...Var136, percentage missing: 98.6 %\n",
      "Eliminating ...Var137, percentage missing: 98.6 %\n",
      "Eliminating ...Var138, percentage missing: 96.8 %\n",
      "Eliminating ...Var139, percentage missing: 97.0 %\n",
      "Eliminating ...Var141, percentage missing: 100.0 %\n",
      "Eliminating ...Var142, percentage missing: 98.6 %\n",
      "Eliminating ...Var145, percentage missing: 96.8 %\n",
      "Eliminating ...Var146, percentage missing: 97.0 %\n",
      "Eliminating ...Var147, percentage missing: 97.0 %\n",
      "Eliminating ...Var148, percentage missing: 97.0 %\n",
      "Eliminating ...Var150, percentage missing: 96.8 %\n",
      "Eliminating ...Var151, percentage missing: 98.3 %\n",
      "Eliminating ...Var152, percentage missing: 96.8 %\n",
      "Eliminating ...Var154, percentage missing: 98.6 %\n",
      "Eliminating ...Var155, percentage missing: 96.8 %\n",
      "Eliminating ...Var156, percentage missing: 98.6 %\n",
      "Eliminating ...Var157, percentage missing: 97.7 %\n",
      "Eliminating ...Var158, percentage missing: 98.3 %\n",
      "Eliminating ...Var159, percentage missing: 97.5 %\n",
      "Eliminating ...Var161, percentage missing: 96.8 %\n",
      "Eliminating ...Var162, percentage missing: 97.5 %\n",
      "Eliminating ...Var164, percentage missing: 96.8 %\n",
      "Eliminating ...Var165, percentage missing: 98.3 %\n",
      "Eliminating ...Var166, percentage missing: 97.0 %\n",
      "Eliminating ...Var167, percentage missing: 100.0 %\n",
      "Eliminating ...Var168, percentage missing: 98.6 %\n",
      "Eliminating ...Var169, percentage missing: 100.0 %\n",
      "Eliminating ...Var170, percentage missing: 97.5 %\n",
      "Eliminating ...Var171, percentage missing: 97.8 %\n",
      "Eliminating ...Var172, percentage missing: 97.0 %\n",
      "Eliminating ...Var174, percentage missing: 96.8 %\n",
      "Eliminating ...Var175, percentage missing: 100.0 %\n",
      "Eliminating ...Var176, percentage missing: 97.5 %\n",
      "Eliminating ...Var177, percentage missing: 97.5 %\n",
      "Eliminating ...Var178, percentage missing: 98.7 %\n",
      "Eliminating ...Var179, percentage missing: 96.8 %\n",
      "Eliminating ...Var180, percentage missing: 98.6 %\n",
      "Eliminating ...Var182, percentage missing: 96.8 %\n",
      "Eliminating ...Var183, percentage missing: 97.5 %\n",
      "Eliminating ...Var184, percentage missing: 97.5 %\n",
      "Eliminating ...Var185, percentage missing: 100.0 %\n",
      "Eliminating ...Var186, percentage missing: 98.6 %\n",
      "Eliminating ...Var187, percentage missing: 98.6 %\n",
      "Eliminating ...Var188, percentage missing: 97.5 %\n",
      "Eliminating ...Var189, percentage missing: 58.0 %\n",
      "Eliminating ...Var190, percentage missing: 99.3 %\n",
      "Eliminating ...Var191, percentage missing: 97.8 %\n",
      "Eliminating ...Var194, percentage missing: 74.4 %\n",
      "Eliminating ...Var200, percentage missing: 50.8 %\n",
      "Eliminating ...Var201, percentage missing: 74.4 %\n",
      "Eliminating ...Var209, percentage missing: 100.0 %\n",
      "Eliminating ...Var213, percentage missing: 97.7 %\n",
      "Eliminating ...Var214, percentage missing: 50.8 %\n",
      "Eliminating ...Var215, percentage missing: 98.6 %\n",
      "Eliminating ...Var224, percentage missing: 98.4 %\n",
      "Eliminating ...Var225, percentage missing: 52.3 %\n",
      "Eliminating ...Var229, percentage missing: 56.9 %\n",
      "Eliminating ...Var230, percentage missing: 100.0 %\n",
      "Totally removed 163 columns\n"
     ]
    }
   ],
   "source": [
    "# Removing all data with NAs more than 30% - those columns can't be used because it will purely be imputed data\n",
    "\n",
    "columns = data.columns\n",
    "\n",
    "counter = 0\n",
    "columns_to_drop = []\n",
    "\n",
    "for i in columns:\n",
    "    if data[i].isna().sum()/len(data[i]) >= 0.3:\n",
    "        print('Eliminating ...%s, percentage missing: %s %%' %(i, round(data[i].isna().sum()*100/len(data[i]), 1)))\n",
    "        counter +=1\n",
    "        columns_to_drop.append(i)\n",
    "              \n",
    "print('Totally removed %s columns' %counter)\n",
    "data_cleaned = data.drop(columns_to_drop, axis = 1)"
   ]
  },
  {
   "cell_type": "markdown",
   "metadata": {},
   "source": [
    "As we can see the majority of removed columns didn't have any values at all, they are no use for prediction. However, now we're left with only 68 columns. Let's check missing values there."
   ]
  },
  {
   "cell_type": "code",
   "execution_count": 60,
   "metadata": {},
   "outputs": [
    {
     "data": {
      "text/plain": [
       "0.10018    20\n",
       "0.00000    20\n",
       "0.11078     6\n",
       "0.11058     6\n",
       "0.00286     3\n",
       "0.14460     3\n",
       "0.01406     2\n",
       "0.10422     2\n",
       "0.00738     1\n",
       "0.00008     1\n",
       "0.00002     1\n",
       "0.10022     1\n",
       "0.03868     1\n",
       "0.27840     1\n",
       "dtype: int64"
      ]
     },
     "execution_count": 60,
     "metadata": {},
     "output_type": "execute_result"
    }
   ],
   "source": [
    "(data_cleaned.isna().sum()/data_cleaned.shape[0]).value_counts()"
   ]
  },
  {
   "cell_type": "markdown",
   "metadata": {},
   "source": [
    "We have one more variable that is almost 30% missing values, 20 with no missing values and 38 with about 10%. We will have to impute those variables. For the one that has 27.8% NAs - let's drop it too."
   ]
  },
  {
   "cell_type": "code",
   "execution_count": 61,
   "metadata": {},
   "outputs": [
    {
     "data": {
      "text/plain": [
       "[None]"
      ]
     },
     "execution_count": 61,
     "metadata": {},
     "output_type": "execute_result"
    }
   ],
   "source": [
    "[data_cleaned.drop(i, axis = 1, inplace = True)  for i in data_cleaned.columns if data_cleaned[i].isna().sum()/data_cleaned.shape[0] > 0.25]"
   ]
  },
  {
   "cell_type": "code",
   "execution_count": 64,
   "metadata": {},
   "outputs": [
    {
     "data": {
      "text/plain": [
       "0.10018    20\n",
       "0.00000    20\n",
       "0.11078     6\n",
       "0.11058     6\n",
       "0.00286     3\n",
       "0.14460     3\n",
       "0.01406     2\n",
       "0.10422     2\n",
       "0.00738     1\n",
       "0.00008     1\n",
       "0.00002     1\n",
       "0.10022     1\n",
       "0.03868     1\n",
       "dtype: int64"
      ]
     },
     "execution_count": 64,
     "metadata": {},
     "output_type": "execute_result"
    }
   ],
   "source": [
    "(data_cleaned.isna().sum()/data_cleaned.shape[0]).value_counts()"
   ]
  },
  {
   "cell_type": "markdown",
   "metadata": {},
   "source": [
    "Let's take a look at correlations and distributions of the variables that are left"
   ]
  },
  {
   "cell_type": "code",
   "execution_count": 80,
   "metadata": {},
   "outputs": [
    {
     "data": {
      "image/png": "[encoded data removed]",
      "text/plain": [
       "<Figure size 1080x1080 with 2 Axes>"
      ]
     },
     "metadata": {},
     "output_type": "display_data"
    }
   ],
   "source": [
    "sns.set_style('white')\n",
    "# Correlation of crimes of different types\n",
    "corr_df = data_cleaned.corr()\n",
    "\n",
    "# Generate a mask for the upper triangle\n",
    "mask = np.triu(np.ones_like(corr_df, dtype=np.bool))\n",
    "\n",
    "fig, ax = plt.subplots(figsize = (15, 15))\n",
    "sns.heatmap(corr_df, cmap = sns.diverging_palette(220, 10, as_cmap=True), vmin=0, vmax=1, linewidths=.3, square = True, mask = mask)\n",
    "\n",
    "#Adjusting bottom and top rows\n",
    "bottom, top = ax.get_ylim()\n",
    "ax.set_ylim(bottom + 0.5, top - 0.5);"
   ]
  },
  {
   "cell_type": "markdown",
   "metadata": {},
   "source": [
    "As we can see, there are some variables that highly correlate with each other. We should drop either of them not to introduce multicollinearity in the model. Another approach might be to use PCA technique to reduce the number of dimentions. Candidates for eliminating given their almost perfect correlation with some other variables:  \n",
    "- `Var160`\n",
    "- `Var22`"
   ]
  },
  {
   "cell_type": "code",
   "execution_count": 114,
   "metadata": {},
   "outputs": [
    {
     "data": {
      "text/plain": [
       "Var65\n",
       "9.0        4.357992\n",
       "18.0       8.041357\n",
       "27.0      12.199131\n",
       "36.0      16.019296\n",
       "45.0      19.784800\n",
       "54.0      20.524887\n",
       "63.0      21.160920\n",
       "72.0      25.344828\n",
       "81.0      18.812500\n",
       "90.0      22.750000\n",
       "99.0      16.000000\n",
       "108.0     24.500000\n",
       "117.0     28.000000\n",
       "126.0     38.500000\n",
       "180.0    140.000000\n",
       "Name: Var7, dtype: float64"
      ]
     },
     "execution_count": 114,
     "metadata": {},
     "output_type": "execute_result"
    }
   ],
   "source": [
    "data_cleaned.groupby('Var65')['Var7'].mean()"
   ]
  },
  {
   "cell_type": "code",
   "execution_count": 115,
   "metadata": {
    "scrolled": true
   },
   "outputs": [
    {
     "data": {
      "text/plain": [
       "Var6      0.11058\n",
       "Var7      0.11078\n",
       "Var13     0.11078\n",
       "Var21     0.11058\n",
       "Var22     0.10018\n",
       "Var24     0.14460\n",
       "Var25     0.10018\n",
       "Var28     0.10022\n",
       "Var35     0.10018\n",
       "Var38     0.10018\n",
       "Var44     0.10018\n",
       "Var57     0.00000\n",
       "Var65     0.11078\n",
       "Var73     0.00000\n",
       "Var74     0.11078\n",
       "Var76     0.10018\n",
       "Var78     0.10018\n",
       "Var81     0.11058\n",
       "Var83     0.10018\n",
       "Var85     0.10018\n",
       "Var109    0.14460\n",
       "Var112    0.10018\n",
       "Var113    0.00000\n",
       "Var119    0.11058\n",
       "Var123    0.10018\n",
       "Var125    0.11078\n",
       "Var132    0.10018\n",
       "Var133    0.10018\n",
       "Var134    0.10018\n",
       "Var140    0.11078\n",
       "Var143    0.10018\n",
       "Var144    0.11058\n",
       "Var149    0.14460\n",
       "Var153    0.10018\n",
       "Var160    0.10018\n",
       "Var163    0.10018\n",
       "Var173    0.10018\n",
       "Var181    0.10018\n",
       "Var192    0.00738\n",
       "Var193    0.00000\n",
       "Var195    0.00000\n",
       "Var196    0.00000\n",
       "Var197    0.00286\n",
       "Var198    0.00000\n",
       "Var199    0.00008\n",
       "Var202    0.00002\n",
       "Var203    0.00286\n",
       "Var204    0.00000\n",
       "Var205    0.03868\n",
       "Var206    0.11058\n",
       "Var207    0.00000\n",
       "Var208    0.00286\n",
       "Var210    0.00000\n",
       "Var211    0.00000\n",
       "Var212    0.00000\n",
       "Var216    0.00000\n",
       "Var217    0.01406\n",
       "Var218    0.01406\n",
       "Var219    0.10422\n",
       "Var220    0.00000\n",
       "Var221    0.00000\n",
       "Var222    0.00000\n",
       "Var223    0.10422\n",
       "Var226    0.00000\n",
       "Var227    0.00000\n",
       "Var228    0.00000\n",
       "target    0.00000\n",
       "dtype: float64"
      ]
     },
     "execution_count": 115,
     "metadata": {},
     "output_type": "execute_result"
    }
   ],
   "source": [
    "# Looking at each variable individually\n",
    "data_cleaned.isna().sum()/data_cleaned.shape[0]"
   ]
  },
  {
   "cell_type": "code",
   "execution_count": 195,
   "metadata": {},
   "outputs": [],
   "source": [
    "# Casting proper types\n",
    "data_cleaned['target'] = data_cleaned['target'].astype('category')\n",
    "for i in data_cleaned.select_dtypes(np.object).columns:\n",
    "    data_cleaned[i] = data_cleaned[i].astype('category')"
   ]
  },
  {
   "cell_type": "code",
   "execution_count": 196,
   "metadata": {},
   "outputs": [
    {
     "name": "stdout",
     "output_type": "stream",
     "text": [
      "<class 'pandas.core.frame.DataFrame'>\n",
      "RangeIndex: 50000 entries, 0 to 49999\n",
      "Data columns (total 67 columns):\n",
      "Var6      44471 non-null float64\n",
      "Var7      44461 non-null float64\n",
      "Var13     44461 non-null float64\n",
      "Var21     44471 non-null float64\n",
      "Var22     44991 non-null float64\n",
      "Var24     42770 non-null float64\n",
      "Var25     44991 non-null float64\n",
      "Var28     44989 non-null float64\n",
      "Var35     44991 non-null float64\n",
      "Var38     44991 non-null float64\n",
      "Var44     44991 non-null float64\n",
      "Var57     50000 non-null float64\n",
      "Var65     44461 non-null float64\n",
      "Var73     50000 non-null int64\n",
      "Var74     44461 non-null float64\n",
      "Var76     44991 non-null float64\n",
      "Var78     44991 non-null float64\n",
      "Var81     44471 non-null float64\n",
      "Var83     44991 non-null float64\n",
      "Var85     44991 non-null float64\n",
      "Var109    42770 non-null float64\n",
      "Var112    44991 non-null float64\n",
      "Var113    50000 non-null float64\n",
      "Var119    44471 non-null float64\n",
      "Var123    44991 non-null float64\n",
      "Var125    44461 non-null float64\n",
      "Var132    44991 non-null float64\n",
      "Var133    44991 non-null float64\n",
      "Var134    44991 non-null float64\n",
      "Var140    44461 non-null float64\n",
      "Var143    44991 non-null float64\n",
      "Var144    44471 non-null float64\n",
      "Var149    42770 non-null float64\n",
      "Var153    44991 non-null float64\n",
      "Var160    44991 non-null float64\n",
      "Var163    44991 non-null float64\n",
      "Var173    44991 non-null float64\n",
      "Var181    44991 non-null float64\n",
      "Var192    49631 non-null category\n",
      "Var193    50000 non-null category\n",
      "Var195    50000 non-null category\n",
      "Var196    50000 non-null category\n",
      "Var197    49857 non-null category\n",
      "Var198    50000 non-null category\n",
      "Var199    49996 non-null category\n",
      "Var202    49999 non-null category\n",
      "Var203    49857 non-null category\n",
      "Var204    50000 non-null category\n",
      "Var205    48066 non-null category\n",
      "Var206    44471 non-null category\n",
      "Var207    50000 non-null category\n",
      "Var208    49857 non-null category\n",
      "Var210    50000 non-null category\n",
      "Var211    50000 non-null category\n",
      "Var212    50000 non-null category\n",
      "Var216    50000 non-null category\n",
      "Var217    49297 non-null category\n",
      "Var218    49297 non-null category\n",
      "Var219    44789 non-null category\n",
      "Var220    50000 non-null category\n",
      "Var221    50000 non-null category\n",
      "Var222    50000 non-null category\n",
      "Var223    44789 non-null category\n",
      "Var226    50000 non-null category\n",
      "Var227    50000 non-null category\n",
      "Var228    50000 non-null category\n",
      "target    50000 non-null category\n",
      "dtypes: category(29), float64(37), int64(1)\n",
      "memory usage: 18.1 MB\n"
     ]
    }
   ],
   "source": [
    "#Checking types\n",
    "data_cleaned.info()"
   ]
  },
  {
   "cell_type": "markdown",
   "metadata": {},
   "source": [
    "## 2. Looking at the target and class imbalance"
   ]
  },
  {
   "cell_type": "code",
   "execution_count": 109,
   "metadata": {},
   "outputs": [
    {
     "data": {
      "image/png": "[encoded data removed]",
      "text/plain": [
       "<Figure size 576x396 with 1 Axes>"
      ]
     },
     "metadata": {},
     "output_type": "display_data"
    }
   ],
   "source": [
    "ax = sns.countplot(x = data_cleaned.target, palette = 'GnBu_d')\n",
    "ax.set_title('Class imbalance of the target', fontsize = 15)\n",
    "ax.set_xlabel('Target', fontsize = 12)\n",
    "ax.set_ylabel('Count', fontsize = 12);"
   ]
  },
  {
   "cell_type": "code",
   "execution_count": 104,
   "metadata": {},
   "outputs": [
    {
     "name": "stdout",
     "output_type": "stream",
     "text": [
      "Total class imbalance is: 98.22 % negative labels to 1.78 % positive ones\n"
     ]
    }
   ],
   "source": [
    "print('Total class imbalance is: %s %% negative labels to %s %% positive ones' %(round(sum(data_cleaned.target == -1)*100/len(data_cleaned.target),2), \n",
    "                                                round(sum(data_cleaned.target == 1)*100/len(data_cleaned.target),2)))"
   ]
  },
  {
   "cell_type": "code",
   "execution_count": 106,
   "metadata": {},
   "outputs": [
    {
     "data": {
      "text/plain": [
       "array([ 0.50906129, 28.08988764])"
      ]
     },
     "execution_count": 106,
     "metadata": {},
     "output_type": "execute_result"
    }
   ],
   "source": [
    "# Calculate the weights of the class\n",
    "compute_class_weight('balanced', np.unique(data_cleaned.target), data_cleaned.target)"
   ]
  },
  {
   "cell_type": "markdown",
   "metadata": {},
   "source": [
    "The dataset is heavily imbalanced. This can lead to algorithms performing worse if it's not treated properly. Moreover, it's clear that we can't use such metric as accuracy, since it's gonna give us biased perception of the performance of the model (detecting the majority of cases where the person will not buy the new product may result in about 97% accuracy but the model might be very bad at detecting the people we are actually interested in). Thus, extra attention should be paid to confusion matrix/Precision/Recall/F1 score/AUC.\n",
    "\n",
    "There are several techniques that we can apply to improve model performance with highly imbalanced data:\n",
    "- Using `class_balance` parameter when running models with calculated weights of the class;  \n",
    "- Resampling:  \n",
    "    - Oversampling the minority class  \n",
    "    - Undersampling the majority class (probably will perform worse since we only have 890 observations of minority class)  \n",
    "- Generating synthetic samples (SMOTE)"
   ]
  },
  {
   "cell_type": "markdown",
   "metadata": {},
   "source": [
    "## 3. Machine Learning"
   ]
  },
  {
   "cell_type": "markdown",
   "metadata": {},
   "source": [
    "### 3.1 Random Forest w/o PCA and resampling"
   ]
  },
  {
   "cell_type": "markdown",
   "metadata": {},
   "source": [
    "Before machine learning we split the set into test and train. I prefer stratified split given highly imbalanced data."
   ]
  },
  {
   "cell_type": "code",
   "execution_count": 189,
   "metadata": {},
   "outputs": [],
   "source": [
    "# using stratified shuffle split from sklean to initiate the split\n",
    "split = StratifiedShuffleSplit(n_splits = 1, test_size = 0.2, random_state=42)\n",
    "\n",
    "# writing a loop to stratify by category and store in train test\n",
    "for train_index, test_index in split.split(data_cleaned, data_cleaned[\"target\"]):\n",
    "    strat_train = data_cleaned.loc[train_index]\n",
    "    strat_test = data_cleaned.loc[test_index]\n",
    "    \n",
    "## creating the x_train, x_test, y_train & y_test\n",
    "X_train = strat_train.drop('target', axis = 1)\n",
    "X_test = strat_test.drop('target', axis = 1)\n",
    "\n",
    "y_train = strat_train['target']\n",
    "y_test = strat_test['target']"
   ]
  },
  {
   "cell_type": "code",
   "execution_count": 247,
   "metadata": {
    "scrolled": true
   },
   "outputs": [
    {
     "name": "stdout",
     "output_type": "stream",
     "text": [
      "Fitting 5 folds for each of 48 candidates, totalling 240 fits\n"
     ]
    },
    {
     "name": "stderr",
     "output_type": "stream",
     "text": [
      "[Parallel(n_jobs=-1)]: Using backend LokyBackend with 16 concurrent workers.\n",
      "[Parallel(n_jobs=-1)]: Done   9 tasks      | elapsed:   10.5s\n",
      "[Parallel(n_jobs=-1)]: Done  18 tasks      | elapsed:   19.1s\n",
      "[Parallel(n_jobs=-1)]: Done  29 tasks      | elapsed:   23.8s\n",
      "[Parallel(n_jobs=-1)]: Done  40 tasks      | elapsed:   32.9s\n",
      "[Parallel(n_jobs=-1)]: Done  53 tasks      | elapsed:   42.2s\n",
      "[Parallel(n_jobs=-1)]: Done  66 tasks      | elapsed:   49.7s\n",
      "[Parallel(n_jobs=-1)]: Done  81 tasks      | elapsed:  1.1min\n",
      "[Parallel(n_jobs=-1)]: Done  96 tasks      | elapsed:  1.3min\n",
      "[Parallel(n_jobs=-1)]: Done 113 tasks      | elapsed:  1.5min\n",
      "[Parallel(n_jobs=-1)]: Done 130 tasks      | elapsed:  1.7min\n",
      "[Parallel(n_jobs=-1)]: Done 149 tasks      | elapsed:  2.0min\n",
      "[Parallel(n_jobs=-1)]: Done 168 tasks      | elapsed:  2.3min\n",
      "[Parallel(n_jobs=-1)]: Done 189 tasks      | elapsed:  2.8min\n",
      "[Parallel(n_jobs=-1)]: Done 234 out of 240 | elapsed:  4.1min remaining:    6.3s\n",
      "[Parallel(n_jobs=-1)]: Done 240 out of 240 | elapsed:  4.2min finished\n"
     ]
    }
   ],
   "source": [
    "transformation_pipeline = Pipeline([\n",
    "    ('count_encoder', CountEncoder(handle_unknown=0)),\n",
    "    ('imputer', SimpleImputer(strategy = 'mean')),\n",
    "    ('scaler', StandardScaler())\n",
    "])\n",
    "\n",
    "X_train_prep = transformation_pipeline.fit_transform(X_train)\n",
    "\n",
    "rf = RandomForestClassifier()\n",
    "params_grid = {'max_depth': [4, 5,7, None],\n",
    "                'n_estimators': [50, 100, 200, 150], \n",
    "                'min_samples_leaf': [3, 4, 5]}\n",
    "\n",
    "grid_rf = GridSearchCV(rf, param_grid = params_grid, cv = StratifiedKFold(n_splits=5), n_jobs = -1,verbose = 10, scoring = 'roc_auc').fit(X_train_prep, y_train)"
   ]
  },
  {
   "cell_type": "code",
   "execution_count": 248,
   "metadata": {},
   "outputs": [
    {
     "data": {
      "text/plain": [
       "{'max_depth': 5, 'min_samples_leaf': 3, 'n_estimators': 200}"
      ]
     },
     "execution_count": 248,
     "metadata": {},
     "output_type": "execute_result"
    }
   ],
   "source": [
    "# Getting best parameters\n",
    "grid_rf.best_params_"
   ]
  },
  {
   "cell_type": "code",
   "execution_count": 251,
   "metadata": {},
   "outputs": [
    {
     "name": "stdout",
     "output_type": "stream",
     "text": [
      "Train performance on Random Forest w/o PCA:  0.9822\n",
      "Test performance on Random Forest w/o PCA roc_auc:  0.5\n",
      "Test performance on Random Forest w/o PCA f1-score:  0.0\n",
      "              precision    recall  f1-score   support\n",
      "\n",
      "    class_-1       0.98      1.00      0.99      9822\n",
      "     class_1       0.00      0.00      0.00       178\n",
      "\n",
      "    accuracy                           0.98     10000\n",
      "   macro avg       0.49      0.50      0.50     10000\n",
      "weighted avg       0.96      0.98      0.97     10000\n",
      "\n"
     ]
    }
   ],
   "source": [
    "y_pred = grid_rf.best_estimator_.predict(transformation_pipeline.fit_transform(X_test))\n",
    "\n",
    "print('Train performance on Random Forest w/o PCA: ',  grid_rf.best_estimator_.score(X_train_prep, y_train))\n",
    "print('Test performance on Random Forest w/o PCA roc_auc: ',roc_auc_score(y_test, y_pred))\n",
    "print('Test performance on Random Forest w/o PCA f1-score: ', f1_score(y_test, y_pred))\n",
    "\n",
    "target_names = ['class_-1', 'class_1']\n",
    "print(classification_report(y_test, y_pred, target_names=target_names))"
   ]
  },
  {
   "cell_type": "code",
   "execution_count": 254,
   "metadata": {},
   "outputs": [
    {
     "data": {
      "text/plain": [
       "-1    10000\n",
       "Name: 0, dtype: int64"
      ]
     },
     "execution_count": 254,
     "metadata": {},
     "output_type": "execute_result"
    }
   ],
   "source": [
    "#Checking predictions - we had 10k observations in the test set\n",
    "predictions = pd.DataFrame(y_pred)\n",
    "predictions[0].value_counts()"
   ]
  },
  {
   "cell_type": "markdown",
   "metadata": {},
   "source": [
    "As we can see, there is a massive overfitting here. We are predicting all the observations as majority class. Let's try resampling."
   ]
  },
  {
   "cell_type": "markdown",
   "metadata": {},
   "source": [
    "### 3.1.1 Random Forest, w/o PCA, Oversampling minority class"
   ]
  },
  {
   "cell_type": "markdown",
   "metadata": {},
   "source": [
    "Oversampling can be defined as adding more copies of the minority class. Oversampling can be a good choice when we don’t have a a lot of data.\n",
    "\n",
    "It's crucial to remember that we must not conduct any resampling techniques before splitting into test and train since that allows the exact same observations to be present in both the test and train sets. This can allow our model to simply memorize specific data points and cause overfitting and poor generalization to the test data."
   ]
  },
  {
   "cell_type": "code",
   "execution_count": 260,
   "metadata": {},
   "outputs": [
    {
     "data": {
      "text/plain": [
       "-1    39288\n",
       " 1    39288\n",
       "Name: target, dtype: int64"
      ]
     },
     "execution_count": 260,
     "metadata": {},
     "output_type": "execute_result"
    }
   ],
   "source": [
    "from sklearn.utils import resample\n",
    "\n",
    "# concatenate our training data back together\n",
    "X = pd.concat([X_train, y_train], axis=1)\n",
    "\n",
    "# separate minority and majority classes\n",
    "didnt_buy = X[X.target==-1]\n",
    "bought = X[X.target==1]\n",
    "\n",
    "# upsample minority\n",
    "bought_upsampled = resample(bought,\n",
    "                          replace=True, # sample with replacement\n",
    "                          n_samples=len(didnt_buy), # match number in majority class\n",
    "                          random_state=27) \n",
    "\n",
    "# combine majority and upsampled minority\n",
    "data_upsampled = pd.concat([didnt_buy, bought_upsampled])\n",
    "\n",
    "X_train = data_upsampled.drop('target', axis = 1)\n",
    "y_train = data_upsampled.target\n",
    "\n",
    "# check new class counts\n",
    "data_upsampled.target.value_counts()"
   ]
  },
  {
   "cell_type": "code",
   "execution_count": 261,
   "metadata": {},
   "outputs": [
    {
     "name": "stdout",
     "output_type": "stream",
     "text": [
      "Fitting 5 folds for each of 48 candidates, totalling 240 fits\n"
     ]
    },
    {
     "name": "stderr",
     "output_type": "stream",
     "text": [
      "[Parallel(n_jobs=-1)]: Using backend LokyBackend with 16 concurrent workers.\n",
      "[Parallel(n_jobs=-1)]: Done   9 tasks      | elapsed:   22.1s\n",
      "[Parallel(n_jobs=-1)]: Done  18 tasks      | elapsed:   39.8s\n",
      "[Parallel(n_jobs=-1)]: Done  29 tasks      | elapsed:   49.9s\n",
      "[Parallel(n_jobs=-1)]: Done  40 tasks      | elapsed:  1.1min\n",
      "[Parallel(n_jobs=-1)]: Done  53 tasks      | elapsed:  1.4min\n",
      "[Parallel(n_jobs=-1)]: Done  66 tasks      | elapsed:  1.7min\n",
      "[Parallel(n_jobs=-1)]: Done  81 tasks      | elapsed:  2.2min\n",
      "[Parallel(n_jobs=-1)]: Done  96 tasks      | elapsed:  2.6min\n",
      "[Parallel(n_jobs=-1)]: Done 113 tasks      | elapsed:  3.0min\n",
      "[Parallel(n_jobs=-1)]: Done 130 tasks      | elapsed:  3.5min\n",
      "[Parallel(n_jobs=-1)]: Done 149 tasks      | elapsed:  4.2min\n",
      "[Parallel(n_jobs=-1)]: Done 168 tasks      | elapsed:  4.9min\n",
      "[Parallel(n_jobs=-1)]: Done 189 tasks      | elapsed:  6.1min\n",
      "[Parallel(n_jobs=-1)]: Done 234 out of 240 | elapsed:  8.9min remaining:   13.7s\n",
      "[Parallel(n_jobs=-1)]: Done 240 out of 240 | elapsed:  9.0min finished\n"
     ]
    }
   ],
   "source": [
    "transformation_pipeline = Pipeline([\n",
    "    ('count_encoder', CountEncoder(handle_unknown=0)),\n",
    "    ('imputer', SimpleImputer(strategy = 'mean')),\n",
    "    ('scaler', StandardScaler())\n",
    "])\n",
    "\n",
    "X_train_prep = transformation_pipeline.fit_transform(X_train)\n",
    "\n",
    "rf = RandomForestClassifier()\n",
    "params_grid = {'max_depth': [4, 5,7, None],\n",
    "                'n_estimators': [50, 100, 200, 150], \n",
    "                'min_samples_leaf': [3,  4, 5]}\n",
    "\n",
    "grid_rf = GridSearchCV(rf, param_grid = params_grid, cv = StratifiedKFold(n_splits=5), n_jobs = -1,verbose = 10, scoring = 'roc_auc').fit(X_train_prep, y_train)"
   ]
  },
  {
   "cell_type": "code",
   "execution_count": 262,
   "metadata": {},
   "outputs": [
    {
     "data": {
      "text/plain": [
       "{'max_depth': None, 'min_samples_leaf': 3, 'n_estimators': 50}"
      ]
     },
     "execution_count": 262,
     "metadata": {},
     "output_type": "execute_result"
    }
   ],
   "source": [
    "# Getting best parameters\n",
    "grid_rf.best_params_"
   ]
  },
  {
   "cell_type": "code",
   "execution_count": 263,
   "metadata": {},
   "outputs": [
    {
     "name": "stdout",
     "output_type": "stream",
     "text": [
      "Train performance on Random Forest w/o PCA:  0.999949093870902\n",
      "Test performance on Random Forest w/o PCA roc_auc:  0.5078435477339337\n",
      "Test performance on Random Forest w/o PCA f1-score:  0.0332409972299169\n",
      "              precision    recall  f1-score   support\n",
      "\n",
      "    class_-1       0.98      0.98      0.98      9822\n",
      "     class_1       0.03      0.03      0.03       178\n",
      "\n",
      "    accuracy                           0.97     10000\n",
      "   macro avg       0.51      0.51      0.51     10000\n",
      "weighted avg       0.97      0.97      0.97     10000\n",
      "\n"
     ]
    }
   ],
   "source": [
    "y_pred = grid_rf.best_estimator_.predict(transformation_pipeline.fit_transform(X_test))\n",
    "\n",
    "print('Train performance on Random Forest w/o PCA: ',  grid_rf.best_estimator_.score(X_train_prep, y_train))\n",
    "print('Test performance on Random Forest w/o PCA roc_auc: ',roc_auc_score(y_test, y_pred))\n",
    "print('Test performance on Random Forest w/o PCA f1-score: ', f1_score(y_test, y_pred))\n",
    "\n",
    "target_names = ['class_-1', 'class_1']\n",
    "print(classification_report(y_test, y_pred, target_names=target_names))"
   ]
  },
  {
   "cell_type": "markdown",
   "metadata": {},
   "source": [
    "The results are still bad but we can see some improvement: now we are predicting that some clients will buy our product."
   ]
  },
  {
   "cell_type": "code",
   "execution_count": 264,
   "metadata": {},
   "outputs": [
    {
     "data": {
      "image/png": "[encoded data removed]",
      "text/plain": [
       "<Figure size 360x360 with 1 Axes>"
      ]
     },
     "metadata": {},
     "output_type": "display_data"
    }
   ],
   "source": [
    "# Plotting roc_curve\n",
    "def draw_roc(actual, probs):\n",
    "    fpr, tpr, thresholds = roc_curve(actual, probs, drop_intermediate=False)\n",
    "    auc_score = roc_auc_score(actual, probs)\n",
    "    plt.figure(figsize=(5, 5))\n",
    "    plt.plot(fpr, tpr, label=\"ROC curve (area = %0.2f)\" % auc_score)\n",
    "    plt.plot([0, 1], [0, 1], \"k--\")\n",
    "    plt.xlim([0.0, 1.0])\n",
    "    plt.ylim([0.0, 1.05])\n",
    "    plt.xlabel(\"False Positive Rate or [1 - True Negative Rate]\")\n",
    "    plt.ylabel(\"True Positive Rate\")\n",
    "    plt.title(\"Receiver operating characteristic example\")\n",
    "    plt.legend(loc=\"lower right\")\n",
    "    plt.show()\n",
    "    return None\n",
    "\n",
    "\n",
    "fpr, tpr, thresholds = roc_curve(y_test,y_pred,drop_intermediate=False)\n",
    "\n",
    "draw_roc(y_test, y_pred)"
   ]
  },
  {
   "cell_type": "markdown",
   "metadata": {},
   "source": [
    "For now, the model's predicting power is very weak: it's close to random."
   ]
  },
  {
   "cell_type": "markdown",
   "metadata": {},
   "source": [
    "### 3.1.2 Random Forest, w/o PCA, Undersampling majority class"
   ]
  },
  {
   "cell_type": "markdown",
   "metadata": {},
   "source": [
    "Undersampling is removing some observations of the majority class. Undersampling can be a good choice when we have a lot of data(which is not the case now). But a crucial drawback is that we are removing information that may be valuable. This could lead to underfitting and poor generalization to the test set. \n",
    "\n",
    "We will still be using the separate classes from the previous oversampling exercise."
   ]
  },
  {
   "cell_type": "code",
   "execution_count": 266,
   "metadata": {},
   "outputs": [
    {
     "data": {
      "text/plain": [
       "-1    39288\n",
       " 1    39288\n",
       "Name: target, dtype: int64"
      ]
     },
     "execution_count": 266,
     "metadata": {},
     "output_type": "execute_result"
    }
   ],
   "source": [
    "# downsample majority\n",
    "didnt_buy_downsampled = resample(didnt_buy,\n",
    "                                replace = False, # sample without replacement\n",
    "                                n_samples = len(bought), # match minority n\n",
    "                                random_state = 27) # reproducible results\n",
    "\n",
    "# combine minority and downsampled majority\n",
    "data_downsampled = pd.concat([didnt_buy_downsampled, bought])\n",
    "\n",
    "# checking counts\n",
    "data_downsampled.target.value_counts()\n",
    "\n",
    "X_train = data_downsampled.drop('target', axis = 1)\n",
    "y_train = data_downsampled.target\n",
    "\n",
    "# check new class counts\n",
    "data_downsampled.target.value_counts()"
   ]
  },
  {
   "cell_type": "code",
   "execution_count": 278,
   "metadata": {},
   "outputs": [
    {
     "name": "stdout",
     "output_type": "stream",
     "text": [
      "Fitting 5 folds for each of 24 candidates, totalling 120 fits\n"
     ]
    },
    {
     "name": "stderr",
     "output_type": "stream",
     "text": [
      "[Parallel(n_jobs=-1)]: Using backend LokyBackend with 16 concurrent workers.\n",
      "[Parallel(n_jobs=-1)]: Done   9 tasks      | elapsed:   24.8s\n",
      "[Parallel(n_jobs=-1)]: Done  18 tasks      | elapsed:   50.0s\n",
      "[Parallel(n_jobs=-1)]: Done  29 tasks      | elapsed:   53.1s\n",
      "[Parallel(n_jobs=-1)]: Done  40 tasks      | elapsed:  1.3min\n",
      "[Parallel(n_jobs=-1)]: Done  53 tasks      | elapsed:  1.4min\n",
      "[Parallel(n_jobs=-1)]: Done  66 tasks      | elapsed:  1.4min\n",
      "[Parallel(n_jobs=-1)]: Done  81 tasks      | elapsed:  1.4min\n",
      "[Parallel(n_jobs=-1)]: Done 102 out of 120 | elapsed:  1.4min remaining:   15.1s\n",
      "[Parallel(n_jobs=-1)]: Done 115 out of 120 | elapsed:  1.6min remaining:    4.1s\n",
      "[Parallel(n_jobs=-1)]: Done 120 out of 120 | elapsed:  1.6min finished\n"
     ]
    }
   ],
   "source": [
    "transformation_pipeline = Pipeline([\n",
    "    ('count_encoder', CountEncoder(handle_unknown=0)),\n",
    "    ('imputer', SimpleImputer(strategy = 'mean')),\n",
    "    ('scaler', StandardScaler())\n",
    "])\n",
    "\n",
    "X_train_prep = transformation_pipeline.fit_transform(X_train)\n",
    "\n",
    "rf = RandomForestClassifier()\n",
    "\n",
    "params_grid = {'max_depth': [None],\n",
    "                'n_estimators': [50, 55,45], \n",
    "                'min_samples_leaf': [1,None], \n",
    "              'random_state': [42, 27, 901, 926]}\n",
    "\n",
    "grid_rf = GridSearchCV(rf, param_grid = params_grid, cv = StratifiedKFold(n_splits=5), n_jobs = -1,verbose = 10, scoring = 'roc_auc').fit(X_train_prep, y_train)"
   ]
  },
  {
   "cell_type": "code",
   "execution_count": 279,
   "metadata": {},
   "outputs": [
    {
     "data": {
      "text/plain": [
       "{'max_depth': None,\n",
       " 'min_samples_leaf': 1,\n",
       " 'n_estimators': 50,\n",
       " 'random_state': 42}"
      ]
     },
     "execution_count": 279,
     "metadata": {},
     "output_type": "execute_result"
    }
   ],
   "source": [
    "# Getting best parameters\n",
    "grid_rf.best_params_"
   ]
  },
  {
   "cell_type": "code",
   "execution_count": 280,
   "metadata": {},
   "outputs": [
    {
     "name": "stdout",
     "output_type": "stream",
     "text": [
      "Train performance on Random Forest w/o PCA:  1.0\n",
      "Test performance on Random Forest w/o PCA roc_auc:  0.5018926784402818\n",
      "Test performance on Random Forest w/o PCA f1-score:  0.01015228426395939\n",
      "              precision    recall  f1-score   support\n",
      "\n",
      "    class_-1       0.98      1.00      0.99      9822\n",
      "     class_1       0.05      0.01      0.01       178\n",
      "\n",
      "    accuracy                           0.98     10000\n",
      "   macro avg       0.52      0.50      0.50     10000\n",
      "weighted avg       0.97      0.98      0.97     10000\n",
      "\n"
     ]
    }
   ],
   "source": [
    "y_pred = grid_rf.best_estimator_.predict(transformation_pipeline.fit_transform(X_test))\n",
    "\n",
    "print('Train performance on Random Forest w/o PCA: ',  grid_rf.best_estimator_.score(X_train_prep, y_train))\n",
    "print('Test performance on Random Forest w/o PCA roc_auc: ',roc_auc_score(y_test, y_pred))\n",
    "print('Test performance on Random Forest w/o PCA f1-score: ', f1_score(y_test, y_pred))\n",
    "\n",
    "target_names = ['class_-1', 'class_1']\n",
    "print(classification_report(y_test, y_pred, target_names=target_names))"
   ]
  },
  {
   "cell_type": "markdown",
   "metadata": {},
   "source": [
    "The results are worse than with oversampling as expected."
   ]
  },
  {
   "cell_type": "markdown",
   "metadata": {},
   "source": [
    "### 3.1.3 Random Forest, w/o PCA, SMOTE"
   ]
  },
  {
   "cell_type": "markdown",
   "metadata": {},
   "source": [
    "A technique similar to upsampling is SMOTE (Synthetic Minority Oversampling Technique). SMOTE uses a nearest neighbors algorithm to generate new and synthetic data we can use for training our model.\n",
    "Again, it’s important to generate the new samples only in the training set to ensure our model generalizes well to unseen data."
   ]
  },
  {
   "cell_type": "code",
   "execution_count": 297,
   "metadata": {},
   "outputs": [],
   "source": [
    "# using stratified shuffle split from sklean to initiate the split\n",
    "split = StratifiedShuffleSplit(n_splits = 1, test_size = 0.2, random_state=42)\n",
    "\n",
    "# writing a loop to stratify by category and store in train test\n",
    "for train_index, test_index in split.split(data_cleaned, data_cleaned[\"target\"]):\n",
    "    strat_train = data_cleaned.loc[train_index]\n",
    "    strat_test = data_cleaned.loc[test_index]\n",
    "    \n",
    "## creating the x_train, x_test, y_train & y_test\n",
    "X_train = strat_train.drop('target', axis = 1)\n",
    "X_test = strat_test.drop('target', axis = 1)\n",
    "\n",
    "y_train = strat_train['target']\n",
    "y_test = strat_test['target']"
   ]
  },
  {
   "cell_type": "code",
   "execution_count": 298,
   "metadata": {},
   "outputs": [],
   "source": [
    "transformation_pipeline = Pipeline([\n",
    "    ('count_encoder', CountEncoder()),\n",
    "    ('imputer', SimpleImputer(strategy = 'mean')),\n",
    "    ('scaler', StandardScaler())\n",
    "])\n",
    "\n",
    "X_train_prep = transformation_pipeline.fit_transform(X_train)"
   ]
  },
  {
   "cell_type": "code",
   "execution_count": 299,
   "metadata": {},
   "outputs": [
    {
     "name": "stdout",
     "output_type": "stream",
     "text": [
      "Before OverSampling, counts of label '1': 712\n",
      "Before OverSampling, counts of label '-1': 39288 \n",
      "\n",
      "After OverSampling, the shape of train_X: (78576, 66)\n",
      "After OverSampling, the shape of train_y: (78576,) \n",
      "\n",
      "After OverSampling, counts of label '1': 39288\n",
      "After OverSampling, counts of label '-1': 39288\n"
     ]
    }
   ],
   "source": [
    "from imblearn.over_sampling import SMOTE\n",
    "\n",
    "print(\"Before OverSampling, counts of label '1': {}\".format(sum(y_train==1)))\n",
    "print(\"Before OverSampling, counts of label '-1': {} \\n\".format(sum(y_train==-1)))\n",
    "\n",
    "sm = SMOTE(random_state=42, n_jobs = -1)\n",
    "X_train_prep_sm, y_train_sm = sm.fit_sample(X_train_prep, y_train)\n",
    "\n",
    "print('After OverSampling, the shape of train_X: {}'.format(X_train_prep.shape))\n",
    "print('After OverSampling, the shape of train_y: {} \\n'.format(y_train.shape))\n",
    "\n",
    "print(\"After OverSampling, counts of label '1': {}\".format(sum(y_train==1)))\n",
    "print(\"After OverSampling, counts of label '-1': {}\".format(sum(y_train==-1)))"
   ]
  },
  {
   "cell_type": "code",
   "execution_count": 307,
   "metadata": {},
   "outputs": [
    {
     "name": "stdout",
     "output_type": "stream",
     "text": [
      "Fitting 5 folds for each of 12 candidates, totalling 60 fits\n"
     ]
    },
    {
     "name": "stderr",
     "output_type": "stream",
     "text": [
      "[Parallel(n_jobs=-1)]: Using backend LokyBackend with 16 concurrent workers.\n",
      "[Parallel(n_jobs=-1)]: Done   9 tasks      | elapsed:  2.4min\n",
      "[Parallel(n_jobs=-1)]: Done  18 tasks      | elapsed:  4.9min\n",
      "[Parallel(n_jobs=-1)]: Done  29 tasks      | elapsed:  6.2min\n",
      "[Parallel(n_jobs=-1)]: Done  36 out of  60 | elapsed:  8.6min remaining:  5.7min\n",
      "[Parallel(n_jobs=-1)]: Done  43 out of  60 | elapsed:  8.7min remaining:  3.4min\n",
      "[Parallel(n_jobs=-1)]: Done  50 out of  60 | elapsed: 10.7min remaining:  2.1min\n",
      "[Parallel(n_jobs=-1)]: Done  57 out of  60 | elapsed: 11.7min remaining:   37.0s\n",
      "[Parallel(n_jobs=-1)]: Done  60 out of  60 | elapsed: 11.7min finished\n"
     ]
    }
   ],
   "source": [
    "rf = RandomForestClassifier()\n",
    "params_grid = {'max_depth': [None],\n",
    "                'n_estimators': [200,300], \n",
    "                'min_samples_leaf': [2,3,4], \n",
    "              'random_state': [42, 901]}\n",
    "\n",
    "grid_rf = GridSearchCV(rf, param_grid = params_grid, cv = StratifiedKFold(n_splits=5), n_jobs = -1,verbose = 10, scoring = 'roc_auc').fit(X_train_prep_sm, y_train_sm)"
   ]
  },
  {
   "cell_type": "code",
   "execution_count": 366,
   "metadata": {},
   "outputs": [
    {
     "data": {
      "text/plain": [
       "{'max_depth': None,\n",
       " 'min_samples_leaf': 2,\n",
       " 'n_estimators': 300,\n",
       " 'random_state': 901}"
      ]
     },
     "execution_count": 366,
     "metadata": {},
     "output_type": "execute_result"
    }
   ],
   "source": [
    "# Getting best parameters\n",
    "grid_rf.best_params_"
   ]
  },
  {
   "cell_type": "code",
   "execution_count": 367,
   "metadata": {},
   "outputs": [
    {
     "name": "stdout",
     "output_type": "stream",
     "text": [
      "Train performance on Random Forest w/o PCA:  0.6753334351455915\n",
      "Test performance on Random Forest w/o PCA roc_auc:  0.6708615604959287\n",
      "Test performance on Random Forest w/o PCA f1-score:  0.055458055458055454\n",
      "              precision    recall  f1-score   support\n",
      "\n",
      "    class_-1       1.00      0.45      0.62      9822\n",
      "     class_1       0.03      0.89      0.06       178\n",
      "\n",
      "    accuracy                           0.46     10000\n",
      "   macro avg       0.51      0.67      0.34     10000\n",
      "weighted avg       0.98      0.46      0.61     10000\n",
      "\n"
     ]
    }
   ],
   "source": [
    "y_pred = grid_rf.best_estimator_.predict(transformation_pipeline.fit_transform(X_test))\n",
    "\n",
    "print('Train performance on Random Forest w/o PCA: ',  grid_rf.best_estimator_.score(X_train_prep_sm, y_train_sm))\n",
    "print('Test performance on Random Forest w/o PCA roc_auc: ',roc_auc_score(y_test, y_pred))\n",
    "print('Test performance on Random Forest w/o PCA f1-score: ', f1_score(y_test, y_pred))\n",
    "\n",
    "target_names = ['class_-1', 'class_1']\n",
    "print(classification_report(y_test, y_pred, target_names=target_names))"
   ]
  },
  {
   "cell_type": "markdown",
   "metadata": {},
   "source": [
    "We can see that SMOTE deals with imbalancing the best so far. The recall is 61% which means that the model now can detect 61% of all people who could buy from us. At the same time the model is still bad with predicting relevant observations - precision is low."
   ]
  },
  {
   "cell_type": "code",
   "execution_count": 310,
   "metadata": {},
   "outputs": [
    {
     "data": {
      "image/png": "[encoded data removed]",
      "text/plain": [
       "<Figure size 360x360 with 1 Axes>"
      ]
     },
     "metadata": {},
     "output_type": "display_data"
    }
   ],
   "source": [
    "#Roc curve\n",
    "draw_roc(y_test, y_pred)"
   ]
  },
  {
   "cell_type": "markdown",
   "metadata": {},
   "source": [
    "## 3.2 Logistic regression with SMOTE"
   ]
  },
  {
   "cell_type": "code",
   "execution_count": 377,
   "metadata": {},
   "outputs": [
    {
     "name": "stdout",
     "output_type": "stream",
     "text": [
      "Fitting 5 folds for each of 20 candidates, totalling 100 fits\n"
     ]
    },
    {
     "name": "stderr",
     "output_type": "stream",
     "text": [
      "[Parallel(n_jobs=-1)]: Using backend LokyBackend with 16 concurrent workers.\n",
      "[Parallel(n_jobs=-1)]: Done   9 tasks      | elapsed:   10.7s\n",
      "[Parallel(n_jobs=-1)]: Done  18 tasks      | elapsed:   18.5s\n",
      "[Parallel(n_jobs=-1)]: Done  29 tasks      | elapsed:   18.9s\n",
      "[Parallel(n_jobs=-1)]: Done  40 tasks      | elapsed:   26.6s\n",
      "[Parallel(n_jobs=-1)]: Done  53 tasks      | elapsed:   34.3s\n",
      "[Parallel(n_jobs=-1)]: Done  66 tasks      | elapsed:   42.0s\n",
      "[Parallel(n_jobs=-1)]: Done  80 out of 100 | elapsed:   42.9s remaining:   10.7s\n",
      "[Parallel(n_jobs=-1)]: Done  91 out of 100 | elapsed:   50.0s remaining:    4.9s\n",
      "[Parallel(n_jobs=-1)]: Done 100 out of 100 | elapsed:   51.7s finished\n"
     ]
    }
   ],
   "source": [
    "transformation_pipeline = Pipeline([\n",
    "    ('count_encoder', CountEncoder()),\n",
    "    ('imputer', SimpleImputer(strategy = 'mean')),\n",
    "    ('scaler', StandardScaler())\n",
    "])\n",
    "\n",
    "X_train_prep = transformation_pipeline.fit_transform(X_train)\n",
    "\n",
    "sm = SMOTE(random_state=42, n_jobs = -1)\n",
    "X_train_prep_sm, y_train_sm = sm.fit_sample(X_train_prep, y_train)\n",
    "\n",
    "params_grid = {\n",
    "    'C': np.linspace(1, 10, 10),\n",
    "    'random_state': [42, 901]\n",
    "    }\n",
    "\n",
    "logit = LogisticRegression()\n",
    "grid_logit = GridSearchCV(logit, param_grid = params_grid, cv=StratifiedKFold(n_splits=5), verbose=10, n_jobs=-1, scoring = 'roc_auc').fit(X_train_prep_sm, y_train_sm)"
   ]
  },
  {
   "cell_type": "code",
   "execution_count": 378,
   "metadata": {},
   "outputs": [
    {
     "data": {
      "text/plain": [
       "{'C': 6.0, 'random_state': 42}"
      ]
     },
     "execution_count": 378,
     "metadata": {},
     "output_type": "execute_result"
    }
   ],
   "source": [
    "# Getting best parameters\n",
    "grid_logit.best_params_"
   ]
  },
  {
   "cell_type": "code",
   "execution_count": 379,
   "metadata": {},
   "outputs": [
    {
     "name": "stdout",
     "output_type": "stream",
     "text": [
      "Train performance on Random Forest w/o PCA:  0.7260995723885155\n",
      "Test performance on Random Forest w/o PCA roc_auc:  0.6968545732007257\n",
      "Test performance on Random Forest w/o PCA f1-score:  0.07310108509423187\n",
      "              precision    recall  f1-score   support\n",
      "\n",
      "    class_-1       0.99      0.67      0.80      9822\n",
      "     class_1       0.04      0.72      0.07       178\n",
      "\n",
      "    accuracy                           0.68     10000\n",
      "   macro avg       0.52      0.70      0.44     10000\n",
      "weighted avg       0.98      0.68      0.79     10000\n",
      "\n"
     ]
    }
   ],
   "source": [
    "y_pred = grid_logit.best_estimator_.predict(transformation_pipeline.fit_transform(X_test))\n",
    "\n",
    "print('Train performance on Random Forest w/o PCA: ',  grid_logit.best_estimator_.score(X_train_prep_sm, y_train_sm))\n",
    "print('Test performance on Random Forest w/o PCA roc_auc: ',roc_auc_score(y_test, y_pred))\n",
    "print('Test performance on Random Forest w/o PCA f1-score: ', f1_score(y_test, y_pred))\n",
    "\n",
    "target_names = ['class_-1', 'class_1']\n",
    "print(classification_report(y_test, y_pred, target_names=target_names))"
   ]
  },
  {
   "cell_type": "markdown",
   "metadata": {},
   "source": [
    "Test roc_auc is better than Random Forest, f1_scores are more or less the same. Let's check the performance of the same model without any correction of the imbalance."
   ]
  },
  {
   "cell_type": "code",
   "execution_count": 345,
   "metadata": {},
   "outputs": [
    {
     "data": {
      "image/png": "[encoded data removed]",
      "text/plain": [
       "<Figure size 360x360 with 1 Axes>"
      ]
     },
     "metadata": {},
     "output_type": "display_data"
    }
   ],
   "source": [
    "#Roc curve\n",
    "draw_roc(y_test, y_pred)"
   ]
  },
  {
   "cell_type": "markdown",
   "metadata": {},
   "source": [
    "**Baseline Logistic Regression**"
   ]
  },
  {
   "cell_type": "code",
   "execution_count": 334,
   "metadata": {},
   "outputs": [
    {
     "name": "stdout",
     "output_type": "stream",
     "text": [
      "Fitting 5 folds for each of 20 candidates, totalling 100 fits\n"
     ]
    },
    {
     "name": "stderr",
     "output_type": "stream",
     "text": [
      "[Parallel(n_jobs=-1)]: Using backend LokyBackend with 16 concurrent workers.\n",
      "[Parallel(n_jobs=-1)]: Done   9 tasks      | elapsed:    6.6s\n",
      "[Parallel(n_jobs=-1)]: Done  18 tasks      | elapsed:   10.5s\n",
      "[Parallel(n_jobs=-1)]: Done  29 tasks      | elapsed:   10.7s\n",
      "[Parallel(n_jobs=-1)]: Done  40 tasks      | elapsed:   14.5s\n",
      "[Parallel(n_jobs=-1)]: Done  53 tasks      | elapsed:   18.2s\n",
      "[Parallel(n_jobs=-1)]: Done  66 tasks      | elapsed:   21.7s\n",
      "[Parallel(n_jobs=-1)]: Done  80 out of 100 | elapsed:   22.5s remaining:    5.6s\n",
      "[Parallel(n_jobs=-1)]: Done  91 out of 100 | elapsed:   26.2s remaining:    2.6s\n",
      "[Parallel(n_jobs=-1)]: Done 100 out of 100 | elapsed:   26.9s finished\n"
     ]
    }
   ],
   "source": [
    "transformation_pipeline = Pipeline([\n",
    "    ('count_encoder', CountEncoder()),\n",
    "    ('imputer', SimpleImputer(strategy = 'mean')),\n",
    "    ('scaler', StandardScaler())\n",
    "])\n",
    "\n",
    "X_train_prep = transformation_pipeline.fit_transform(X_train)\n",
    "\n",
    "params_grid = {\n",
    "    'C': np.linspace(1, 10, 10),\n",
    "    'random_state': [42, 901]\n",
    "    }\n",
    "\n",
    "logit = LogisticRegression()\n",
    "grid_logit = GridSearchCV(logit, param_grid = params_grid, cv=StratifiedKFold(n_splits=5), verbose=10, n_jobs=-1).fit(X_train_prep, y_train)"
   ]
  },
  {
   "cell_type": "code",
   "execution_count": 335,
   "metadata": {},
   "outputs": [
    {
     "data": {
      "text/plain": [
       "{'C': 3.0, 'random_state': 42}"
      ]
     },
     "execution_count": 335,
     "metadata": {},
     "output_type": "execute_result"
    }
   ],
   "source": [
    "# Getting best parameters\n",
    "grid_logit.best_params_"
   ]
  },
  {
   "cell_type": "code",
   "execution_count": 336,
   "metadata": {},
   "outputs": [
    {
     "name": "stdout",
     "output_type": "stream",
     "text": [
      "Train performance on Random Forest w/o PCA:  0.982225\n",
      "Test performance on Random Forest w/o PCA roc_auc:  0.5\n",
      "Test performance on Random Forest w/o PCA f1-score:  0.0\n",
      "              precision    recall  f1-score   support\n",
      "\n",
      "    class_-1       0.98      1.00      0.99      9822\n",
      "     class_1       0.00      0.00      0.00       178\n",
      "\n",
      "    accuracy                           0.98     10000\n",
      "   macro avg       0.49      0.50      0.50     10000\n",
      "weighted avg       0.96      0.98      0.97     10000\n",
      "\n"
     ]
    }
   ],
   "source": [
    "y_pred = grid_logit.best_estimator_.predict(transformation_pipeline.fit_transform(X_test))\n",
    "\n",
    "print('Train performance on Random Forest w/o PCA: ',  grid_logit.best_estimator_.score(X_train_prep, y_train))\n",
    "print('Test performance on Random Forest w/o PCA roc_auc: ',roc_auc_score(y_test, y_pred))\n",
    "print('Test performance on Random Forest w/o PCA f1-score: ', f1_score(y_test, y_pred))\n",
    "\n",
    "target_names = ['class_-1', 'class_1']\n",
    "print(classification_report(y_test, y_pred, target_names=target_names))"
   ]
  },
  {
   "cell_type": "code",
   "execution_count": 340,
   "metadata": {},
   "outputs": [
    {
     "name": "stdout",
     "output_type": "stream",
     "text": [
      "Precision: 0.0\n",
      "Recall: 0.0\n"
     ]
    }
   ],
   "source": [
    "print('Precision: %s' %precision_score(y_test, y_pred))\n",
    "print('Recall: %s' %recall_score(y_test, y_pred))"
   ]
  },
  {
   "cell_type": "markdown",
   "metadata": {},
   "source": [
    "As we can see SMOTE makes a massive difference. Now, let's experiment with PCA, automatic feature generation, scalers and encoders."
   ]
  },
  {
   "cell_type": "markdown",
   "metadata": {},
   "source": [
    "### 3.2.1 Logistic regression with SMOTE, PCA"
   ]
  },
  {
   "cell_type": "code",
   "execution_count": 346,
   "metadata": {},
   "outputs": [],
   "source": [
    "transformation_pipeline = Pipeline([\n",
    "    ('count_encoder', CountEncoder()),\n",
    "    ('imputer', SimpleImputer(strategy = 'mean')),\n",
    "    ('scaler', StandardScaler()), \n",
    "])\n",
    "\n",
    "X_train_prep = transformation_pipeline.fit_transform(X_train)"
   ]
  },
  {
   "cell_type": "code",
   "execution_count": 355,
   "metadata": {},
   "outputs": [
    {
     "data": {
      "text/plain": [
       "array([0.13434992, 0.24712536, 0.30247637, 0.34503459, 0.38499407,\n",
       "       0.42078583, 0.45158949, 0.47716361, 0.50122618, 0.52307489,\n",
       "       0.54419828, 0.56436001, 0.58366332, 0.60231359, 0.61964897,\n",
       "       0.63653792, 0.65278362, 0.66869512, 0.6838879 , 0.69886071,\n",
       "       0.71368218, 0.72791793, 0.74192603, 0.75548927, 0.76867752,\n",
       "       0.7814642 , 0.7936797 , 0.80572391, 0.81713359, 0.82816578,\n",
       "       0.83909168, 0.8495223 , 0.85969914, 0.86953886, 0.87917138,\n",
       "       0.88867478, 0.89785034, 0.90649365, 0.91470704, 0.92265357,\n",
       "       0.9298501 , 0.93690444, 0.9438107 , 0.9505488 , 0.95599535,\n",
       "       0.96120688, 0.96616082, 0.97043658, 0.97456633, 0.97851433,\n",
       "       0.98215583, 0.98547316, 0.98835897, 0.99055597, 0.99272787,\n",
       "       0.99466481, 0.99659068, 0.99811814, 0.99961452, 0.99983876,\n",
       "       0.99993546, 1.        , 1.        , 1.        , 1.        ,\n",
       "       1.        ])"
      ]
     },
     "execution_count": 355,
     "metadata": {},
     "output_type": "execute_result"
    }
   ],
   "source": [
    "# Choosing number of components\n",
    "pca = PCA()\n",
    "pca.fit(X_train_prep)\n",
    "pca.explained_variance_ratio_.cumsum()"
   ]
  },
  {
   "cell_type": "code",
   "execution_count": 356,
   "metadata": {},
   "outputs": [
    {
     "name": "stdout",
     "output_type": "stream",
     "text": [
      "Fitting 5 folds for each of 20 candidates, totalling 100 fits\n"
     ]
    },
    {
     "name": "stderr",
     "output_type": "stream",
     "text": [
      "[Parallel(n_jobs=-1)]: Using backend LokyBackend with 16 concurrent workers.\n",
      "[Parallel(n_jobs=-1)]: Done   9 tasks      | elapsed:    4.6s\n",
      "[Parallel(n_jobs=-1)]: Done  18 tasks      | elapsed:    6.3s\n",
      "[Parallel(n_jobs=-1)]: Done  29 tasks      | elapsed:    6.4s\n",
      "[Parallel(n_jobs=-1)]: Done  40 tasks      | elapsed:    7.9s\n",
      "[Parallel(n_jobs=-1)]: Done  53 tasks      | elapsed:    9.1s\n",
      "[Parallel(n_jobs=-1)]: Done  66 tasks      | elapsed:    9.3s\n",
      "[Parallel(n_jobs=-1)]: Done  80 out of 100 | elapsed:   10.5s remaining:    2.6s\n",
      "[Parallel(n_jobs=-1)]: Done  91 out of 100 | elapsed:   11.6s remaining:    1.1s\n",
      "[Parallel(n_jobs=-1)]: Done 100 out of 100 | elapsed:   11.8s finished\n"
     ]
    }
   ],
   "source": [
    "transformation_pipeline = Pipeline([\n",
    "    ('count_encoder', CountEncoder()),\n",
    "    ('imputer', SimpleImputer(strategy = 'mean')),\n",
    "    ('scaler', StandardScaler()),\n",
    "    ('pca', PCA(n_components=38))\n",
    "])\n",
    "\n",
    "X_train_prep = transformation_pipeline.fit_transform(X_train)\n",
    "\n",
    "sm = SMOTE(random_state=42, n_jobs = -1)\n",
    "X_train_prep_sm, y_train_sm = sm.fit_sample(X_train_prep, y_train)\n",
    "\n",
    "\n",
    "\n",
    "params_grid = {\n",
    "    'C': np.linspace(1, 10, 10),\n",
    "    'random_state': [42, 901]\n",
    "    }\n",
    "\n",
    "logit = LogisticRegression()\n",
    "grid_logit = GridSearchCV(logit, param_grid = params_grid, cv=StratifiedKFold(n_splits=5), verbose=10, n_jobs=-1).fit(X_train_prep_sm, y_train_sm)"
   ]
  },
  {
   "cell_type": "code",
   "execution_count": 357,
   "metadata": {},
   "outputs": [
    {
     "data": {
      "text/plain": [
       "{'C': 2.0, 'random_state': 42}"
      ]
     },
     "execution_count": 357,
     "metadata": {},
     "output_type": "execute_result"
    }
   ],
   "source": [
    "# Getting best parameters\n",
    "grid_logit.best_params_"
   ]
  },
  {
   "cell_type": "code",
   "execution_count": 359,
   "metadata": {},
   "outputs": [
    {
     "name": "stdout",
     "output_type": "stream",
     "text": [
      "Train performance on Random Forest with PCA:  0.7206017104459377\n",
      "Test performance on Random Forest with PCA roc_auc:  0.5676422340126155\n",
      "Test performance on Random Forest with PCA f1-score:  0.05003523608174771\n",
      "              precision    recall  f1-score   support\n",
      "\n",
      "    class_-1       0.99      0.74      0.84      9822\n",
      "     class_1       0.03      0.40      0.05       178\n",
      "\n",
      "    accuracy                           0.73     10000\n",
      "   macro avg       0.51      0.57      0.45     10000\n",
      "weighted avg       0.97      0.73      0.83     10000\n",
      "\n"
     ]
    }
   ],
   "source": [
    "y_pred = grid_logit.best_estimator_.predict(transformation_pipeline.fit_transform(X_test))\n",
    "\n",
    "print('Train performance on Random Forest with PCA: ',  grid_logit.best_estimator_.score(X_train_prep_sm, y_train_sm))\n",
    "print('Test performance on Random Forest with PCA roc_auc: ',roc_auc_score(y_test, y_pred))\n",
    "print('Test performance on Random Forest with PCA f1-score: ', f1_score(y_test, y_pred))\n",
    "\n",
    "target_names = ['class_-1', 'class_1']\n",
    "print(classification_report(y_test, y_pred, target_names=target_names))"
   ]
  },
  {
   "cell_type": "markdown",
   "metadata": {},
   "source": [
    "The results got worse."
   ]
  },
  {
   "cell_type": "markdown",
   "metadata": {},
   "source": [
    "## 3.3 LGBM"
   ]
  },
  {
   "cell_type": "code",
   "execution_count": 414,
   "metadata": {},
   "outputs": [
    {
     "name": "stdout",
     "output_type": "stream",
     "text": [
      "Fitting 5 folds for each of 8 candidates, totalling 40 fits\n"
     ]
    },
    {
     "name": "stderr",
     "output_type": "stream",
     "text": [
      "[Parallel(n_jobs=-1)]: Using backend LokyBackend with 16 concurrent workers.\n",
      "[Parallel(n_jobs=-1)]: Done   9 tasks      | elapsed:   11.8s\n",
      "[Parallel(n_jobs=-1)]: Done  14 out of  40 | elapsed:   11.9s remaining:   22.2s\n",
      "[Parallel(n_jobs=-1)]: Done  19 out of  40 | elapsed:   21.3s remaining:   23.5s\n",
      "[Parallel(n_jobs=-1)]: Done  24 out of  40 | elapsed:   22.2s remaining:   14.8s\n",
      "[Parallel(n_jobs=-1)]: Done  29 out of  40 | elapsed:   22.9s remaining:    8.7s\n",
      "[Parallel(n_jobs=-1)]: Done  34 out of  40 | elapsed:   27.5s remaining:    4.9s\n",
      "[Parallel(n_jobs=-1)]: Done  40 out of  40 | elapsed:   28.3s finished\n"
     ]
    }
   ],
   "source": [
    "transformation_pipeline = Pipeline([\n",
    "    ('count_encoder', CountEncoder()),\n",
    "    ('imputer', SimpleImputer(strategy = 'mean')),\n",
    "    ('scaler', StandardScaler()),\n",
    "])\n",
    "\n",
    "X_train_prep = transformation_pipeline.fit_transform(X_train)\n",
    "\n",
    "sm = SMOTE(random_state=42, n_jobs = -1)\n",
    "X_train_prep_sm, y_train_sm = sm.fit_sample(X_train_prep, y_train)\n",
    "\n",
    "\n",
    "lgb_params ={ \"objective\" : [\"binary\"],\n",
    "    \"metric\" : [\"auc\"],\n",
    "    \"max_depth\" : [-1],\n",
    "    \"num_leaves\" : [150, 200],\n",
    "    \"learning_rate\" : [0.1],\n",
    "    #\"bagging_freq\": [2,5],\n",
    "   # \"bagging_fraction\" : 0.4,\n",
    "    #\"feature_fraction\" : 0.05,\n",
    "    \"min_data_in_leaf\": [30,40],\n",
    "    \"lambda_l1\" : [40,30],\n",
    "    \"random_state\": [901]} \n",
    "lgb_clf = lgb.LGBMClassifier()\n",
    "grid_lgb = GridSearchCV(lgb_clf, param_grid = lgb_params, cv=StratifiedKFold(n_splits=5), verbose=10, n_jobs=-1, scoring = 'roc_auc').fit(X_train_prep_sm, y_train_sm)"
   ]
  },
  {
   "cell_type": "code",
   "execution_count": 415,
   "metadata": {},
   "outputs": [
    {
     "data": {
      "text/plain": [
       "{'lambda_l1': 30,\n",
       " 'learning_rate': 0.1,\n",
       " 'max_depth': -1,\n",
       " 'metric': 'auc',\n",
       " 'min_data_in_leaf': 30,\n",
       " 'num_leaves': 150,\n",
       " 'objective': 'binary',\n",
       " 'random_state': 901}"
      ]
     },
     "execution_count": 415,
     "metadata": {},
     "output_type": "execute_result"
    }
   ],
   "source": [
    "# Getting best parameters\n",
    "grid_lgb.best_params_"
   ]
  },
  {
   "cell_type": "code",
   "execution_count": 416,
   "metadata": {},
   "outputs": [
    {
     "name": "stdout",
     "output_type": "stream",
     "text": [
      "Train performance on Random Forest with PCA:  0.9909132559560171\n",
      "Test performance on Random Forest with PCA roc_auc:  0.6337029461493231\n",
      "Test performance on Random Forest with PCA f1-score:  0.0474062034403359\n",
      "              precision    recall  f1-score   support\n",
      "\n",
      "    class_-1       1.00      0.28      0.44      9822\n",
      "     class_1       0.02      0.98      0.05       178\n",
      "\n",
      "    accuracy                           0.30     10000\n",
      "   macro avg       0.51      0.63      0.24     10000\n",
      "weighted avg       0.98      0.30      0.44     10000\n",
      "\n"
     ]
    }
   ],
   "source": [
    "y_pred = grid_lgb.best_estimator_.predict(transformation_pipeline.fit_transform(X_test))\n",
    "\n",
    "print('Train performance on Random Forest with PCA: ',  grid_lgb.best_estimator_.score(X_train_prep_sm, y_train_sm))\n",
    "print('Test performance on Random Forest with PCA roc_auc: ',roc_auc_score(y_test, y_pred))\n",
    "print('Test performance on Random Forest with PCA f1-score: ', f1_score(y_test, y_pred))\n",
    "\n",
    "target_names = ['class_-1', 'class_1']\n",
    "print(classification_report(y_test, y_pred, target_names=target_names))"
   ]
  },
  {
   "cell_type": "markdown",
   "metadata": {},
   "source": [
    "## 3.4 XGBoost"
   ]
  },
  {
   "cell_type": "code",
   "execution_count": 424,
   "metadata": {},
   "outputs": [
    {
     "name": "stdout",
     "output_type": "stream",
     "text": [
      "Fitting 5 folds for each of 2 candidates, totalling 10 fits\n"
     ]
    },
    {
     "name": "stderr",
     "output_type": "stream",
     "text": [
      "[Parallel(n_jobs=-1)]: Using backend LokyBackend with 16 concurrent workers.\n",
      "[Parallel(n_jobs=-1)]: Done   3 out of  10 | elapsed:  3.1min remaining:  7.2min\n",
      "[Parallel(n_jobs=-1)]: Done   5 out of  10 | elapsed:  3.1min remaining:  3.1min\n",
      "[Parallel(n_jobs=-1)]: Done   7 out of  10 | elapsed:  3.4min remaining:  1.5min\n",
      "[Parallel(n_jobs=-1)]: Done  10 out of  10 | elapsed:  3.5min finished\n"
     ]
    }
   ],
   "source": [
    "transformation_pipeline = Pipeline([\n",
    "    ('count_encoder', CountEncoder()),\n",
    "    ('imputer', SimpleImputer(strategy = 'mean')),\n",
    "    ('scaler', StandardScaler()),\n",
    "])\n",
    "\n",
    "X_train_prep = transformation_pipeline.fit_transform(X_train)\n",
    "\n",
    "sm = SMOTE(random_state=42, n_jobs = -1)\n",
    "X_train_prep_sm, y_train_sm = sm.fit_sample(X_train_prep, y_train)\n",
    "\n",
    "\n",
    "xgb_params ={ 'max_depth': [20, 40],\n",
    "    'learning_rate': [0.1,],   \n",
    "    \"random_state\": [901]} \n",
    "xgb_clf = xgb.XGBClassifier()\n",
    "grid_xgb = GridSearchCV(xgb_clf, param_grid = xgb_params, cv=StratifiedKFold(n_splits=5), verbose=10, n_jobs=-1, scoring = 'roc_auc').fit(X_train_prep_sm, y_train_sm)"
   ]
  },
  {
   "cell_type": "code",
   "execution_count": 425,
   "metadata": {},
   "outputs": [
    {
     "data": {
      "text/plain": [
       "{'learning_rate': 0.1, 'max_depth': 20, 'random_state': 901}"
      ]
     },
     "execution_count": 425,
     "metadata": {},
     "output_type": "execute_result"
    }
   ],
   "source": [
    "# Getting best parameters\n",
    "grid_xgb.best_params_"
   ]
  },
  {
   "cell_type": "code",
   "execution_count": 426,
   "metadata": {},
   "outputs": [
    {
     "name": "stdout",
     "output_type": "stream",
     "text": [
      "Train performance on Random Forest with PCA:  1.0\n",
      "Test performance on Random Forest with PCA roc_auc:  0.6581035693776183\n",
      "Test performance on Random Forest with PCA f1-score:  0.05474921918059894\n",
      "              precision    recall  f1-score   support\n",
      "\n",
      "    class_-1       0.99      0.48      0.65      9822\n",
      "     class_1       0.03      0.84      0.05       178\n",
      "\n",
      "    accuracy                           0.49     10000\n",
      "   macro avg       0.51      0.66      0.35     10000\n",
      "weighted avg       0.98      0.49      0.64     10000\n",
      "\n"
     ]
    }
   ],
   "source": [
    "y_pred = grid_xgb.best_estimator_.predict(transformation_pipeline.fit_transform(X_test))\n",
    "\n",
    "print('Train performance on Random Forest with PCA: ',  grid_xgb.best_estimator_.score(X_train_prep_sm, y_train_sm))\n",
    "print('Test performance on Random Forest with PCA roc_auc: ',roc_auc_score(y_test, y_pred))\n",
    "print('Test performance on Random Forest with PCA f1-score: ', f1_score(y_test, y_pred))\n",
    "\n",
    "target_names = ['class_-1', 'class_1']\n",
    "print(classification_report(y_test, y_pred, target_names=target_names))"
   ]
  },
  {
   "cell_type": "code",
   "execution_count": 430,
   "metadata": {},
   "outputs": [
    {
     "data": {
      "image/png": "[encoded data removed]",
      "text/plain": [
       "<Figure size 360x360 with 1 Axes>"
      ]
     },
     "metadata": {},
     "output_type": "display_data"
    }
   ],
   "source": [
    "#Roc curve\n",
    "draw_roc(y_test, y_pred)"
   ]
  },
  {
   "cell_type": "markdown",
   "metadata": {},
   "source": [
    "## 3.5 CatBoost"
   ]
  },
  {
   "cell_type": "code",
   "execution_count": null,
   "metadata": {
    "scrolled": true
   },
   "outputs": [],
   "source": [
    "transformation_pipeline = Pipeline([\n",
    "    ('count_encoder', CountEncoder()),\n",
    "    ('imputer', SimpleImputer(strategy = 'mean')),\n",
    "    ('scaler', StandardScaler()),\n",
    "])\n",
    "\n",
    "X_train_prep = transformation_pipeline.fit_transform(X_train)\n",
    "\n",
    "sm = SMOTE(random_state=42, n_jobs = -1)\n",
    "X_train_prep_sm, y_train_sm = sm.fit_sample(X_train_prep, y_train)\n",
    "\n",
    "cat_params ={ \"loss_function\": [\"Logloss\"],\n",
    "                           \"eval_metric\": [\"AUC\"],\n",
    "                           \"learning_rate\" : [0.01],\n",
    "                           \"iterations\" :[7000, 30000],\n",
    "                            \"l2_leaf_reg\" : [50],\n",
    "                           \"random_seed\": [42],\n",
    "                           \"od_type\": [\"Iter\"],\n",
    "                           \"depth\": [5, 20]}\n",
    "cat_clf = cb.CatBoostClassifier()\n",
    "grid_cat = GridSearchCV(cat_clf, param_grid = cat_params, cv=StratifiedKFold(n_splits=5), verbose=10, n_jobs=-1, scoring = 'roc_auc').fit(X_train_prep_sm, y_train_sm)"
   ]
  },
  {
   "cell_type": "code",
   "execution_count": 431,
   "metadata": {},
   "outputs": [
    {
     "data": {
      "text/plain": [
       "{'depth': 5,\n",
       " 'eval_metric': 'AUC',\n",
       " 'iterations': 7000,\n",
       " 'l2_leaf_reg': 50,\n",
       " 'learning_rate': 0.01,\n",
       " 'loss_function': 'Logloss',\n",
       " 'od_type': 'Iter',\n",
       " 'random_seed': 42}"
      ]
     },
     "execution_count": 431,
     "metadata": {},
     "output_type": "execute_result"
    }
   ],
   "source": [
    "# Getting best parameters\n",
    "grid_cat.best_params_"
   ]
  },
  {
   "cell_type": "code",
   "execution_count": 432,
   "metadata": {},
   "outputs": [
    {
     "name": "stdout",
     "output_type": "stream",
     "text": [
      "Train performance on Random Forest with PCA:  0.9908241702300957\n",
      "Test performance on Random Forest with PCA roc_auc:  0.5206913395518888\n",
      "Test performance on Random Forest with PCA f1-score:  0.03644694366343851\n",
      "              precision    recall  f1-score   support\n",
      "\n",
      "    class_-1       0.99      0.06      0.11      9822\n",
      "     class_1       0.02      0.98      0.04       178\n",
      "\n",
      "    accuracy                           0.07     10000\n",
      "   macro avg       0.51      0.52      0.07     10000\n",
      "weighted avg       0.98      0.07      0.11     10000\n",
      "\n"
     ]
    }
   ],
   "source": [
    "y_pred = grid_cat.best_estimator_.predict(transformation_pipeline.fit_transform(X_test))\n",
    "\n",
    "print('Train performance on Random Forest with PCA: ',  grid_cat.best_estimator_.score(X_train_prep_sm, y_train_sm))\n",
    "print('Test performance on Random Forest with PCA roc_auc: ',roc_auc_score(y_test, y_pred))\n",
    "print('Test performance on Random Forest with PCA f1-score: ', f1_score(y_test, y_pred))\n",
    "\n",
    "target_names = ['class_-1', 'class_1']\n",
    "print(classification_report(y_test, y_pred, target_names=target_names))"
   ]
  },
  {
   "cell_type": "markdown",
   "metadata": {},
   "source": [
    "## 4. Conclusion <a id=cat>"
   ]
  },
  {
   "cell_type": "markdown",
   "metadata": {},
   "source": [
    "Resampling techniques were extremely important in modelling churn. Imbalance was stark - there were only 2.8% of the positive labels. Because of that all baseline models performed extremely poorly - AUC was 0.5, recall and precision were 0, the model was determining all the test observations as people from the majority class. \n",
    "\n",
    "In terms of the dealing with the imbalance the efficiency was the following:\n",
    "- adding class_weights (did not change the performance, AUC - 0.5);\n",
    "- oversampling the minority class (improved the performance slightly, AUC - 0.5018);\n",
    "- undersampling the majority class(improved the performance slightly, AUC - 0.5078);\n",
    "- SMOTE (improved the performance significantly, AUC - 0.67086)\n",
    "\n",
    "In terms of the classifiers the best performance was achieved by the simplest Logit (AUC - 0.6969), then RandomForest (AUC - 0.6709), XGBoost (AUC - 0.6581). Given that initial dataset had the majority of columns with all the data missing, it might explain such low metrics.\n",
    "\n",
    "PCA and MinMaxScaler did not achieve high results as well."
   ]
  }
 ],
 "metadata": {
  "kernelspec": {
   "display_name": "Python 3",
   "language": "python",
   "name": "python3"
  },
  "language_info": {
   "codemirror_mode": {
    "name": "ipython",
    "version": 3
   },
   "file_extension": ".py",
   "mimetype": "text/x-python",
   "name": "python",
   "nbconvert_exporter": "python",
   "pygments_lexer": "ipython3",
   "version": "3.7.4"
  }
 },
 "nbformat": 4,
 "nbformat_minor": 4
}
