{
 "cells": [
  {
   "cell_type": "markdown",
   "metadata": {},
   "source": [
    "# Churn analysis and prediction"
   ]
  },
  {
   "cell_type": "markdown",
   "metadata": {},
   "source": [
    "**Description**\n",
    "\n",
    "Customer churn is also known as customer turnover, or customer attrition, is the loss of clients or customers.\n",
    "\n",
    "Telephone service companies, Internet service providers, pay TV companies, insurance firms, and alarm monitoring services, often use customer attrition analysis and customer attrition rates as one of their key business metrics because the cost of retaining an existing customer is far less than acquiring a new one. Companies from these sectors often have customer service branches which attempt to win back defecting clients, because recovered long-term customers can be worth much more to a company than newly recruited clients.\n",
    "\n",
    "Predictive analytics use churn prediction models that predict customer churn by assessing their propensity of risk to churn. Since these models generate a small prioritized list of potential defectors, they are effective at focusing customer retention marketing programs on the subset of the customer base who are most vulnerable to churn.\n",
    "\n",
    "Data is taken from https://www.kaggle.com/puja19/telcom-customer-churn"
   ]
  },
  {
   "cell_type": "markdown",
   "metadata": {},
   "source": [
    "## Table of contents\n",
    "0. [Loading data](#load)\n",
    "1. [Exploratory analysis](#eda)\n",
    "2. [Segmentation of churners](#segm)  \n",
    "    2.1 [Dimensionality reduction](#dim)  \n",
    "    2.2 [Clustering](#cluster)  \n",
    "    2.3 [Analysis of segments](#analysis)\n",
    "3. [Automating Churn Prediction](#ml)   \n",
    "    3.1 [Skewness](#skew)  \n",
    "    3.2 [Metrics, test-train splitting](#split)  \n",
    "    3.3 [Logistic Regression](#logit)   \n",
    "    3.4 [Naive Bayes](#bayes)  \n",
    "    3.5 [Random Forest](#rf)  \n",
    "    3.6 [XGBoost](#xg)\n",
    "4. [Conclusions](#conc)"
   ]
  },
  {
   "cell_type": "code",
   "execution_count": 703,
   "metadata": {},
   "outputs": [],
   "source": [
    "import os\n",
    "import pandas as pd\n",
    "import numpy as np\n",
    "import pandas_profiling\n",
    "import pylab\n",
    "import math\n",
    "\n",
    "import seaborn as sns\n",
    "import matplotlib.pyplot as plt\n",
    "\n",
    "from sklearn.utils.class_weight import compute_class_weight\n",
    "from sklearn.preprocessing import StandardScaler\n",
    "from sklearn.decomposition import PCA\n",
    "from sklearn.model_selection import GridSearchCV, StratifiedShuffleSplit, StratifiedKFold\n",
    "from sklearn.feature_selection import RFE\n",
    "\n",
    "from category_encoders import CountEncoder, OneHotEncoder\n",
    "from sklearn.pipeline import Pipeline\n",
    "from sklearn.metrics import classification_report, f1_score, recall_score, precision_score, confusion_matrix\n",
    "\n",
    "from sklearn.cluster import KMeans, OPTICS, AgglomerativeClustering\n",
    "from sklearn.metrics import silhouette_score\n",
    "\n",
    "from sklearn.ensemble import RandomForestClassifier, VotingClassifier\n",
    "from sklearn.linear_model import LogisticRegression\n",
    "from sklearn.naive_bayes import GaussianNB\n",
    "from sklearn.svm import SVC\n",
    "\n",
    "import xgboost as xgb"
   ]
  },
  {
   "cell_type": "markdown",
   "metadata": {},
   "source": [
    "## 0. Loading data <a id=load>"
   ]
  },
  {
   "cell_type": "code",
   "execution_count": 3,
   "metadata": {},
   "outputs": [],
   "source": [
    "pd.set_option('display.max_rows', 300)\n",
    "pd.set_option('display.max_columns', 300)"
   ]
  },
  {
   "cell_type": "code",
   "execution_count": 475,
   "metadata": {},
   "outputs": [],
   "source": [
    "data = pd.read_csv(os.path.join('Telco-Customer-Churn.csv'))"
   ]
  },
  {
   "cell_type": "code",
   "execution_count": 5,
   "metadata": {},
   "outputs": [
    {
     "data": {
      "text/html": [
       "<div>\n",
       "<style scoped>\n",
       "    .dataframe tbody tr th:only-of-type {\n",
       "        vertical-align: middle;\n",
       "    }\n",
       "\n",
       "    .dataframe tbody tr th {\n",
       "        vertical-align: top;\n",
       "    }\n",
       "\n",
       "    .dataframe thead th {\n",
       "        text-align: right;\n",
       "    }\n",
       "</style>\n",
       "<table border=\"1\" class=\"dataframe\">\n",
       "  <thead>\n",
       "    <tr style=\"text-align: right;\">\n",
       "      <th></th>\n",
       "      <th>customerID</th>\n",
       "      <th>gender</th>\n",
       "      <th>SeniorCitizen</th>\n",
       "      <th>Partner</th>\n",
       "      <th>Dependents</th>\n",
       "      <th>tenure</th>\n",
       "      <th>PhoneService</th>\n",
       "      <th>MultipleLines</th>\n",
       "      <th>InternetService</th>\n",
       "      <th>OnlineSecurity</th>\n",
       "      <th>OnlineBackup</th>\n",
       "      <th>DeviceProtection</th>\n",
       "      <th>TechSupport</th>\n",
       "      <th>StreamingTV</th>\n",
       "      <th>StreamingMovies</th>\n",
       "      <th>Contract</th>\n",
       "      <th>PaperlessBilling</th>\n",
       "      <th>PaymentMethod</th>\n",
       "      <th>MonthlyCharges</th>\n",
       "      <th>TotalCharges</th>\n",
       "      <th>Churn</th>\n",
       "    </tr>\n",
       "  </thead>\n",
       "  <tbody>\n",
       "    <tr>\n",
       "      <th>0</th>\n",
       "      <td>7590-VHVEG</td>\n",
       "      <td>Female</td>\n",
       "      <td>0</td>\n",
       "      <td>Yes</td>\n",
       "      <td>No</td>\n",
       "      <td>1</td>\n",
       "      <td>No</td>\n",
       "      <td>No phone service</td>\n",
       "      <td>DSL</td>\n",
       "      <td>No</td>\n",
       "      <td>Yes</td>\n",
       "      <td>No</td>\n",
       "      <td>No</td>\n",
       "      <td>No</td>\n",
       "      <td>No</td>\n",
       "      <td>Month-to-month</td>\n",
       "      <td>Yes</td>\n",
       "      <td>Electronic check</td>\n",
       "      <td>29.85</td>\n",
       "      <td>29.85</td>\n",
       "      <td>No</td>\n",
       "    </tr>\n",
       "    <tr>\n",
       "      <th>1</th>\n",
       "      <td>5575-GNVDE</td>\n",
       "      <td>Male</td>\n",
       "      <td>0</td>\n",
       "      <td>No</td>\n",
       "      <td>No</td>\n",
       "      <td>34</td>\n",
       "      <td>Yes</td>\n",
       "      <td>No</td>\n",
       "      <td>DSL</td>\n",
       "      <td>Yes</td>\n",
       "      <td>No</td>\n",
       "      <td>Yes</td>\n",
       "      <td>No</td>\n",
       "      <td>No</td>\n",
       "      <td>No</td>\n",
       "      <td>One year</td>\n",
       "      <td>No</td>\n",
       "      <td>Mailed check</td>\n",
       "      <td>56.95</td>\n",
       "      <td>1889.5</td>\n",
       "      <td>No</td>\n",
       "    </tr>\n",
       "    <tr>\n",
       "      <th>2</th>\n",
       "      <td>3668-QPYBK</td>\n",
       "      <td>Male</td>\n",
       "      <td>0</td>\n",
       "      <td>No</td>\n",
       "      <td>No</td>\n",
       "      <td>2</td>\n",
       "      <td>Yes</td>\n",
       "      <td>No</td>\n",
       "      <td>DSL</td>\n",
       "      <td>Yes</td>\n",
       "      <td>Yes</td>\n",
       "      <td>No</td>\n",
       "      <td>No</td>\n",
       "      <td>No</td>\n",
       "      <td>No</td>\n",
       "      <td>Month-to-month</td>\n",
       "      <td>Yes</td>\n",
       "      <td>Mailed check</td>\n",
       "      <td>53.85</td>\n",
       "      <td>108.15</td>\n",
       "      <td>Yes</td>\n",
       "    </tr>\n",
       "    <tr>\n",
       "      <th>3</th>\n",
       "      <td>7795-CFOCW</td>\n",
       "      <td>Male</td>\n",
       "      <td>0</td>\n",
       "      <td>No</td>\n",
       "      <td>No</td>\n",
       "      <td>45</td>\n",
       "      <td>No</td>\n",
       "      <td>No phone service</td>\n",
       "      <td>DSL</td>\n",
       "      <td>Yes</td>\n",
       "      <td>No</td>\n",
       "      <td>Yes</td>\n",
       "      <td>Yes</td>\n",
       "      <td>No</td>\n",
       "      <td>No</td>\n",
       "      <td>One year</td>\n",
       "      <td>No</td>\n",
       "      <td>Bank transfer (automatic)</td>\n",
       "      <td>42.30</td>\n",
       "      <td>1840.75</td>\n",
       "      <td>No</td>\n",
       "    </tr>\n",
       "    <tr>\n",
       "      <th>4</th>\n",
       "      <td>9237-HQITU</td>\n",
       "      <td>Female</td>\n",
       "      <td>0</td>\n",
       "      <td>No</td>\n",
       "      <td>No</td>\n",
       "      <td>2</td>\n",
       "      <td>Yes</td>\n",
       "      <td>No</td>\n",
       "      <td>Fiber optic</td>\n",
       "      <td>No</td>\n",
       "      <td>No</td>\n",
       "      <td>No</td>\n",
       "      <td>No</td>\n",
       "      <td>No</td>\n",
       "      <td>No</td>\n",
       "      <td>Month-to-month</td>\n",
       "      <td>Yes</td>\n",
       "      <td>Electronic check</td>\n",
       "      <td>70.70</td>\n",
       "      <td>151.65</td>\n",
       "      <td>Yes</td>\n",
       "    </tr>\n",
       "  </tbody>\n",
       "</table>\n",
       "</div>"
      ],
      "text/plain": [
       "   customerID  gender  SeniorCitizen Partner Dependents  tenure PhoneService  \\\n",
       "0  7590-VHVEG  Female              0     Yes         No       1           No   \n",
       "1  5575-GNVDE    Male              0      No         No      34          Yes   \n",
       "2  3668-QPYBK    Male              0      No         No       2          Yes   \n",
       "3  7795-CFOCW    Male              0      No         No      45           No   \n",
       "4  9237-HQITU  Female              0      No         No       2          Yes   \n",
       "\n",
       "      MultipleLines InternetService OnlineSecurity OnlineBackup  \\\n",
       "0  No phone service             DSL             No          Yes   \n",
       "1                No             DSL            Yes           No   \n",
       "2                No             DSL            Yes          Yes   \n",
       "3  No phone service             DSL            Yes           No   \n",
       "4                No     Fiber optic             No           No   \n",
       "\n",
       "  DeviceProtection TechSupport StreamingTV StreamingMovies        Contract  \\\n",
       "0               No          No          No              No  Month-to-month   \n",
       "1              Yes          No          No              No        One year   \n",
       "2               No          No          No              No  Month-to-month   \n",
       "3              Yes         Yes          No              No        One year   \n",
       "4               No          No          No              No  Month-to-month   \n",
       "\n",
       "  PaperlessBilling              PaymentMethod  MonthlyCharges TotalCharges  \\\n",
       "0              Yes           Electronic check           29.85        29.85   \n",
       "1               No               Mailed check           56.95       1889.5   \n",
       "2              Yes               Mailed check           53.85       108.15   \n",
       "3               No  Bank transfer (automatic)           42.30      1840.75   \n",
       "4              Yes           Electronic check           70.70       151.65   \n",
       "\n",
       "  Churn  \n",
       "0    No  \n",
       "1    No  \n",
       "2   Yes  \n",
       "3    No  \n",
       "4   Yes  "
      ]
     },
     "execution_count": 5,
     "metadata": {},
     "output_type": "execute_result"
    }
   ],
   "source": [
    "data.head()"
   ]
  },
  {
   "cell_type": "code",
   "execution_count": 10,
   "metadata": {},
   "outputs": [
    {
     "name": "stdout",
     "output_type": "stream",
     "text": [
      "<class 'pandas.core.frame.DataFrame'>\n",
      "RangeIndex: 7043 entries, 0 to 7042\n",
      "Data columns (total 21 columns):\n",
      "customerID          7043 non-null object\n",
      "gender              7043 non-null object\n",
      "SeniorCitizen       7043 non-null int64\n",
      "Partner             7043 non-null object\n",
      "Dependents          7043 non-null object\n",
      "tenure              7043 non-null int64\n",
      "PhoneService        7043 non-null object\n",
      "MultipleLines       7043 non-null object\n",
      "InternetService     7043 non-null object\n",
      "OnlineSecurity      7043 non-null object\n",
      "OnlineBackup        7043 non-null object\n",
      "DeviceProtection    7043 non-null object\n",
      "TechSupport         7043 non-null object\n",
      "StreamingTV         7043 non-null object\n",
      "StreamingMovies     7043 non-null object\n",
      "Contract            7043 non-null object\n",
      "PaperlessBilling    7043 non-null object\n",
      "PaymentMethod       7043 non-null object\n",
      "MonthlyCharges      7043 non-null float64\n",
      "TotalCharges        7043 non-null object\n",
      "Churn               7043 non-null object\n",
      "dtypes: float64(1), int64(2), object(18)\n",
      "memory usage: 1.1+ MB\n"
     ]
    }
   ],
   "source": [
    "# There are no missing values in the dataset\n",
    "data.info()"
   ]
  },
  {
   "cell_type": "code",
   "execution_count": 476,
   "metadata": {},
   "outputs": [],
   "source": [
    "# Correcting columns values\n",
    "data['TotalCharges'] = data['TotalCharges'].replace(\" \", 0).astype('float64')"
   ]
  },
  {
   "cell_type": "code",
   "execution_count": 477,
   "metadata": {},
   "outputs": [],
   "source": [
    "#Changing datatypes\n",
    "data['TotalCharges'] = data['TotalCharges'].astype('float64')\n",
    "data['SeniorCitizen'] = data['SeniorCitizen'].astype('category')"
   ]
  },
  {
   "cell_type": "code",
   "execution_count": 478,
   "metadata": {},
   "outputs": [],
   "source": [
    "data['SeniorCitizen'].replace({0: 'No', 1:'Yes'}, inplace = True)"
   ]
  },
  {
   "cell_type": "code",
   "execution_count": 479,
   "metadata": {},
   "outputs": [
    {
     "name": "stdout",
     "output_type": "stream",
     "text": [
      "Unique values for variable gender: ['Female' 'Male']:\n",
      "Unique values for variable SeniorCitizen: ['No' 'Yes']:\n",
      "Unique values for variable Partner: ['Yes' 'No']:\n",
      "Unique values for variable Dependents: ['No' 'Yes']:\n",
      "Unique values for variable PhoneService: ['No' 'Yes']:\n",
      "Unique values for variable MultipleLines: ['No phone service' 'No' 'Yes']:\n",
      "Unique values for variable InternetService: ['DSL' 'Fiber optic' 'No']:\n",
      "Unique values for variable OnlineSecurity: ['No' 'Yes' 'No internet service']:\n",
      "Unique values for variable OnlineBackup: ['Yes' 'No' 'No internet service']:\n",
      "Unique values for variable DeviceProtection: ['No' 'Yes' 'No internet service']:\n",
      "Unique values for variable TechSupport: ['No' 'Yes' 'No internet service']:\n",
      "Unique values for variable StreamingTV: ['No' 'Yes' 'No internet service']:\n",
      "Unique values for variable StreamingMovies: ['No' 'Yes' 'No internet service']:\n",
      "Unique values for variable Contract: ['Month-to-month' 'One year' 'Two year']:\n",
      "Unique values for variable PaperlessBilling: ['Yes' 'No']:\n",
      "Unique values for variable PaymentMethod: ['Electronic check' 'Mailed check' 'Bank transfer (automatic)'\n",
      " 'Credit card (automatic)']:\n"
     ]
    }
   ],
   "source": [
    "# Checking unique categorical values\n",
    "categoricals = data.select_dtypes('object')\n",
    "for i in categoricals.drop(['Churn', 'customerID'], axis = 1).columns:\n",
    "        print('Unique values for variable %s: %s:' %(i, data[i].unique()))"
   ]
  },
  {
   "cell_type": "code",
   "execution_count": 480,
   "metadata": {},
   "outputs": [],
   "source": [
    "# Changing all the rest object types:\n",
    "for i in categoricals:\n",
    "    data[i]=data[i].astype('category')"
   ]
  },
  {
   "cell_type": "code",
   "execution_count": 13,
   "metadata": {},
   "outputs": [
    {
     "data": {
      "text/plain": [
       "customerID          7043\n",
       "gender                 2\n",
       "SeniorCitizen          2\n",
       "Partner                2\n",
       "Dependents             2\n",
       "tenure                73\n",
       "PhoneService           2\n",
       "MultipleLines          3\n",
       "InternetService        3\n",
       "OnlineSecurity         3\n",
       "OnlineBackup           3\n",
       "DeviceProtection       3\n",
       "TechSupport            3\n",
       "StreamingTV            3\n",
       "StreamingMovies        3\n",
       "Contract               3\n",
       "PaperlessBilling       2\n",
       "PaymentMethod          4\n",
       "MonthlyCharges      1585\n",
       "TotalCharges        6531\n",
       "Churn                  2\n",
       "dtype: int64"
      ]
     },
     "execution_count": 13,
     "metadata": {},
     "output_type": "execute_result"
    }
   ],
   "source": [
    "#Number of uniques\n",
    "data.nunique()"
   ]
  },
  {
   "cell_type": "code",
   "execution_count": 14,
   "metadata": {},
   "outputs": [
    {
     "name": "stdout",
     "output_type": "stream",
     "text": [
      "<class 'pandas.core.frame.DataFrame'>\n",
      "RangeIndex: 7043 entries, 0 to 7042\n",
      "Data columns (total 21 columns):\n",
      "customerID          7043 non-null category\n",
      "gender              7043 non-null category\n",
      "SeniorCitizen       7043 non-null category\n",
      "Partner             7043 non-null category\n",
      "Dependents          7043 non-null category\n",
      "tenure              7043 non-null int64\n",
      "PhoneService        7043 non-null category\n",
      "MultipleLines       7043 non-null category\n",
      "InternetService     7043 non-null category\n",
      "OnlineSecurity      7043 non-null category\n",
      "OnlineBackup        7043 non-null category\n",
      "DeviceProtection    7043 non-null category\n",
      "TechSupport         7043 non-null category\n",
      "StreamingTV         7043 non-null category\n",
      "StreamingMovies     7043 non-null category\n",
      "Contract            7043 non-null category\n",
      "PaperlessBilling    7043 non-null category\n",
      "PaymentMethod       7043 non-null category\n",
      "MonthlyCharges      7043 non-null float64\n",
      "TotalCharges        7043 non-null float64\n",
      "Churn               7043 non-null category\n",
      "dtypes: category(18), float64(2), int64(1)\n",
      "memory usage: 672.7 KB\n"
     ]
    }
   ],
   "source": [
    "#Final check\n",
    "data.info()"
   ]
  },
  {
   "cell_type": "markdown",
   "metadata": {},
   "source": [
    "# 1. Exploratory analysis <a id=eda>"
   ]
  },
  {
   "cell_type": "markdown",
   "metadata": {},
   "source": [
    "Since our goal is to predict churn, first lets look at the ratio of customers who churned and who didn't:"
   ]
  },
  {
   "cell_type": "code",
   "execution_count": 15,
   "metadata": {},
   "outputs": [
    {
     "data": {
      "image/png": "[encoded data removed]",
      "text/plain": [
       "<Figure size 432x432 with 1 Axes>"
      ]
     },
     "metadata": {},
     "output_type": "display_data"
    }
   ],
   "source": [
    "fig = plt.figure(figsize = (6,6))\n",
    "sns.set_style('ticks')\n",
    "a = sns.countplot(data['Churn'], palette = ['#594F4F', '#45ADA8'])\n",
    "a.set_title('Churn imbalance', fontsize = 16);"
   ]
  },
  {
   "cell_type": "code",
   "execution_count": 314,
   "metadata": {},
   "outputs": [
    {
     "name": "stdout",
     "output_type": "stream",
     "text": [
      "Total class imbalance is: 26.54 % negative labels to 73.46 % positive ones. So 1 in 4 customers leaves us.\n"
     ]
    }
   ],
   "source": [
    "print('Total class imbalance is: %s %% negative labels to %s %% positive ones. So 1 in 4 customers leaves us.' %(round(sum(data.Churn == 'Yes')*100/len(data.Churn),2), \n",
    "                                                round(sum(data.Churn == 'No')*100/len(data.Churn == 'Yes'),2)))"
   ]
  },
  {
   "cell_type": "markdown",
   "metadata": {},
   "source": [
    "Let's take a look at the factors that impact churn."
   ]
  },
  {
   "cell_type": "code",
   "execution_count": 292,
   "metadata": {},
   "outputs": [
    {
     "data": {
      "image/png": "[encoded data removed]",
      "text/plain": [
       "<Figure size 701.25x216 with 1 Axes>"
      ]
     },
     "metadata": {},
     "output_type": "display_data"
    },
    {
     "data": {
      "image/png": "[encoded data removed]",
      "text/plain": [
       "<Figure size 701.25x216 with 1 Axes>"
      ]
     },
     "metadata": {},
     "output_type": "display_data"
    },
    {
     "data": {
      "image/png": "[encoded data removed]",
      "text/plain": [
       "<Figure size 701.25x216 with 1 Axes>"
      ]
     },
     "metadata": {},
     "output_type": "display_data"
    }
   ],
   "source": [
    "#Exporing individually numerical variables\n",
    "\n",
    "for col in data.select_dtypes(np.number):\n",
    "    g = sns.FacetGrid(data, hue=\"Churn\", palette = ['#594F4F', '#45ADA8'], aspect = 3 )\n",
    "    g.map(sns.kdeplot, col, shade = True)\n",
    "    g.add_legend()"
   ]
  },
  {
   "cell_type": "markdown",
   "metadata": {},
   "source": [
    "As we can see **numerical variables alone cannot capture the division between churn classes fully**, although the outliers tend to belong to one specific class, especially in Monthly Charges and tenure.\n",
    "\n",
    "The majority of people who leave have very low Total Charges which may imply that **we're loosing a lot of customers on early stages**. There are a lot of **people who leave us because of high Monthly Charges** as well. A lot of **people who churn have low tenure**\n",
    "."
   ]
  },
  {
   "cell_type": "markdown",
   "metadata": {},
   "source": [
    "Now, let's take a look at our categorical variables that emphasize the groups of our clients based on different attributes. For churn analysis it's crucial to consider two points:\n",
    "- **The size of the targeted group**;\n",
    "- **Propensity to churn within the group**. \n",
    "\n",
    "\n",
    "Knowing those features we can prioritize our marketing actions in order to achieve the best efficiency given certain cost on retaining the clients. If we find that customers belonging to a particular demographic or other group tend to churn more, we should first target the big groups with the higher propensity to churn and only then spend the rest of the marketing budget on small groups of our clients that leave us.\n",
    "\n",
    "Now, **let's look into demographic aspect of our customer base**."
   ]
  },
  {
   "cell_type": "markdown",
   "metadata": {},
   "source": [
    "**Gender**"
   ]
  },
  {
   "cell_type": "code",
   "execution_count": 310,
   "metadata": {},
   "outputs": [
    {
     "name": "stdout",
     "output_type": "stream",
     "text": [
      "Total number of customers by gender:\n"
     ]
    },
    {
     "data": {
      "text/plain": [
       "Male      3555\n",
       "Female    3488\n",
       "Name: gender, dtype: int64"
      ]
     },
     "execution_count": 310,
     "metadata": {},
     "output_type": "execute_result"
    }
   ],
   "source": [
    "print('Total number of customers by gender:')\n",
    "data['gender'].value_counts()"
   ]
  },
  {
   "cell_type": "code",
   "execution_count": 347,
   "metadata": {},
   "outputs": [
    {
     "data": {
      "text/plain": [
       "Churn  gender\n",
       "No     Female    2549\n",
       "       Male      2625\n",
       "Yes    Female     939\n",
       "       Male       930\n",
       "Name: Churn, dtype: int64"
      ]
     },
     "execution_count": 347,
     "metadata": {},
     "output_type": "execute_result"
    }
   ],
   "source": [
    "data.groupby(['Churn', 'gender'])['Churn'].count()"
   ]
  },
  {
   "cell_type": "code",
   "execution_count": 350,
   "metadata": {},
   "outputs": [
    {
     "data": {
      "image/png": "[encoded data removed]",
      "text/plain": [
       "<Figure size 432x432 with 1 Axes>"
      ]
     },
     "metadata": {},
     "output_type": "display_data"
    }
   ],
   "source": [
    "fig = plt.gcf()\n",
    "fig.set_size_inches(6, 6)\n",
    "\n",
    "ax = sns.barplot(y = round(data[data['Churn'] == 'Yes']['gender'].value_counts()*100/data['gender'].value_counts(),2), \n",
    "                 x = data['gender'].unique(), palette = ['#594F4F', '#45ADA8'], alpha = 0.7)\n",
    "ax.set_title('Churn Rate by gender', fontsize = 14)\n",
    "ax.set(xlabel='Gender', ylabel='Churn Rate')\n",
    "for p in ax.patches:\n",
    "    ax.annotate(format(p.get_height(), '.2f'), (p.get_x() + p.get_width() / 2., \n",
    "        p.get_height()), ha = 'center', va = 'center', xytext = (0, 10), textcoords = 'offset points', fontsize = 12);"
   ]
  },
  {
   "cell_type": "markdown",
   "metadata": {},
   "source": [
    "**Churn doesn't seem to differ between gender**, neither in absolute, nor relative values(percentage of churned clients)."
   ]
  },
  {
   "cell_type": "markdown",
   "metadata": {},
   "source": [
    "**Senior citizenship**"
   ]
  },
  {
   "cell_type": "code",
   "execution_count": 308,
   "metadata": {},
   "outputs": [
    {
     "name": "stdout",
     "output_type": "stream",
     "text": [
      "Total number of customers by seniority:\n"
     ]
    },
    {
     "data": {
      "text/plain": [
       "No     5901\n",
       "Yes    1142\n",
       "Name: SeniorCitizen, dtype: int64"
      ]
     },
     "execution_count": 308,
     "metadata": {},
     "output_type": "execute_result"
    }
   ],
   "source": [
    "print('Total number of customers by seniority:')\n",
    "data['SeniorCitizen'].value_counts()"
   ]
  },
  {
   "cell_type": "code",
   "execution_count": 251,
   "metadata": {},
   "outputs": [
    {
     "name": "stdout",
     "output_type": "stream",
     "text": [
      "There are 16.21 % senior clients in the database.\n"
     ]
    }
   ],
   "source": [
    "#Number of sinior clients:\n",
    "print('There are %s %% senior clients in the database.' % round(sum(data['SeniorCitizen'] == 'Yes')*100/data.shape[0],2))"
   ]
  },
  {
   "cell_type": "code",
   "execution_count": 346,
   "metadata": {},
   "outputs": [
    {
     "data": {
      "text/plain": [
       "Churn  SeniorCitizen\n",
       "No     No               4508\n",
       "       Yes               666\n",
       "Yes    No               1393\n",
       "       Yes               476\n",
       "Name: Churn, dtype: int64"
      ]
     },
     "execution_count": 346,
     "metadata": {},
     "output_type": "execute_result"
    }
   ],
   "source": [
    "data.groupby(['Churn', 'SeniorCitizen'])['Churn'].count()"
   ]
  },
  {
   "cell_type": "code",
   "execution_count": 352,
   "metadata": {},
   "outputs": [
    {
     "data": {
      "image/png": "[encoded data removed]",
      "text/plain": [
       "<Figure size 432x432 with 1 Axes>"
      ]
     },
     "metadata": {},
     "output_type": "display_data"
    }
   ],
   "source": [
    "fig = plt.gcf()\n",
    "fig.set_size_inches(6, 6)\n",
    "\n",
    "ax = sns.barplot(y = round(data[data['Churn'] == 'Yes']['SeniorCitizen'].value_counts()*100/data['SeniorCitizen'].value_counts(),2), \n",
    "                 x = data['SeniorCitizen'].value_counts().index.tolist(), palette = ['#594F4F', '#45ADA8'], alpha = 0.7)\n",
    "ax.set_title('Churn Rate by seniority', fontsize = 14)\n",
    "ax.set(xlabel='Senior', ylabel='Churn Rate')\n",
    "for p in ax.patches:\n",
    "    ax.annotate(format(p.get_height(), '.2f'), (p.get_x() + p.get_width() / 2., \n",
    "        p.get_height()), ha = 'center', va = 'center', xytext = (0, 10), textcoords = 'offset points', fontsize = 12);"
   ]
  },
  {
   "cell_type": "markdown",
   "metadata": {},
   "source": [
    "We can see that there are a **few senior customers in our business**. However, they seem to have a **significantly higher churn rate** (41.68% compared to only 23.61% amongst non senior citizens). But, given the fact that they comprise only 16% of all clients they should not be priority for marketing actions."
   ]
  },
  {
   "cell_type": "markdown",
   "metadata": {},
   "source": [
    "**Partner**"
   ]
  },
  {
   "cell_type": "code",
   "execution_count": 307,
   "metadata": {},
   "outputs": [
    {
     "name": "stdout",
     "output_type": "stream",
     "text": [
      "Total number of customers by partner:\n"
     ]
    },
    {
     "data": {
      "text/plain": [
       "No     3641\n",
       "Yes    3402\n",
       "Name: Partner, dtype: int64"
      ]
     },
     "execution_count": 307,
     "metadata": {},
     "output_type": "execute_result"
    }
   ],
   "source": [
    "print('Total number of customers by partner:')\n",
    "data['Partner'].value_counts()"
   ]
  },
  {
   "cell_type": "code",
   "execution_count": 354,
   "metadata": {},
   "outputs": [
    {
     "data": {
      "text/plain": [
       "Partner  Churn\n",
       "No       No       2441\n",
       "         Yes      1200\n",
       "Yes      No       2733\n",
       "         Yes       669\n",
       "Name: Churn, dtype: int64"
      ]
     },
     "execution_count": 354,
     "metadata": {},
     "output_type": "execute_result"
    }
   ],
   "source": [
    "data.groupby(['Partner', 'Churn',])['Churn'].count()"
   ]
  },
  {
   "cell_type": "code",
   "execution_count": 457,
   "metadata": {},
   "outputs": [
    {
     "data": {
      "image/png": "[encoded data removed]",
      "text/plain": [
       "<Figure size 432x432 with 1 Axes>"
      ]
     },
     "metadata": {},
     "output_type": "display_data"
    }
   ],
   "source": [
    "fig = plt.gcf()\n",
    "fig.set_size_inches(6, 6)\n",
    "\n",
    "ax = sns.barplot(y = round(data[data['Churn'] == 'Yes']['Partner'].value_counts()*100/data['Partner'].value_counts(),2), \n",
    "                 x = data['Partner'].value_counts().index.tolist(), palette = ['#594F4F', '#45ADA8'], alpha = 0.7)\n",
    "ax.set_title('Churn Rate by Partner', fontsize = 14)\n",
    "ax.set(xlabel='Partner', ylabel='Churn Rate')\n",
    "for p in ax.patches:\n",
    "    ax.annotate(format(p.get_height(), '.2f'), (p.get_x() + p.get_width() / 2., \n",
    "        p.get_height()), ha = 'center', va = 'center', xytext = (0, 10), textcoords = 'offset points', fontsize = 12);"
   ]
  },
  {
   "cell_type": "markdown",
   "metadata": {},
   "source": [
    "**People without a partner seem to churn more than people without**. Given that it refers to more 50% of our customers, we should be careful about that."
   ]
  },
  {
   "cell_type": "markdown",
   "metadata": {},
   "source": [
    "**Dependents**"
   ]
  },
  {
   "cell_type": "code",
   "execution_count": 358,
   "metadata": {},
   "outputs": [
    {
     "name": "stdout",
     "output_type": "stream",
     "text": [
      "Total number of customers by Dependents:\n"
     ]
    },
    {
     "data": {
      "text/plain": [
       "No     4933\n",
       "Yes    2110\n",
       "Name: Dependents, dtype: int64"
      ]
     },
     "execution_count": 358,
     "metadata": {},
     "output_type": "execute_result"
    }
   ],
   "source": [
    "print('Total number of customers by Dependents:')\n",
    "data['Dependents'].value_counts()"
   ]
  },
  {
   "cell_type": "code",
   "execution_count": 359,
   "metadata": {},
   "outputs": [
    {
     "name": "stdout",
     "output_type": "stream",
     "text": [
      "There are 29.96 % clients with dependents in the database.\n"
     ]
    }
   ],
   "source": [
    "#Number of clients with dependents:\n",
    "print('There are %s %% clients with dependents in the database.' % round(sum(data['Dependents'] == 'Yes')*100/data.shape[0],2))"
   ]
  },
  {
   "cell_type": "code",
   "execution_count": 360,
   "metadata": {},
   "outputs": [
    {
     "data": {
      "text/plain": [
       "Dependents  Churn\n",
       "No          No       3390\n",
       "            Yes      1543\n",
       "Yes         No       1784\n",
       "            Yes       326\n",
       "Name: Churn, dtype: int64"
      ]
     },
     "execution_count": 360,
     "metadata": {},
     "output_type": "execute_result"
    }
   ],
   "source": [
    "data.groupby(['Dependents', 'Churn',])['Churn'].count()"
   ]
  },
  {
   "cell_type": "code",
   "execution_count": 458,
   "metadata": {},
   "outputs": [
    {
     "data": {
      "image/png": "[encoded data removed]",
      "text/plain": [
       "<Figure size 432x432 with 1 Axes>"
      ]
     },
     "metadata": {},
     "output_type": "display_data"
    }
   ],
   "source": [
    "fig = plt.gcf()\n",
    "fig.set_size_inches(6, 6)\n",
    "\n",
    "ax = sns.barplot(y = round(data[data['Churn'] == 'Yes']['Dependents'].value_counts()*100/data['Dependents'].value_counts(),2), \n",
    "                 x = data['Dependents'].value_counts().index.tolist(), palette = ['#594F4F', '#45ADA8'], alpha = 0.7)\n",
    "ax.set_title('Churn Rate by Dependents', fontsize = 14)\n",
    "ax.set(xlabel='Dependents', ylabel='Churn Rate')\n",
    "for p in ax.patches:\n",
    "    ax.annotate(format(p.get_height(), '.2f'), (p.get_x() + p.get_width() / 2., \n",
    "        p.get_height()), ha = 'center', va = 'center', xytext = (0, 10), textcoords = 'offset points', fontsize = 12);"
   ]
  },
  {
   "cell_type": "markdown",
   "metadata": {},
   "source": [
    "**People without dependents tend to churn twice as much as people with them**. The majority of our clients don't have any dependents, so their are in the risk group!"
   ]
  },
  {
   "cell_type": "markdown",
   "metadata": {},
   "source": [
    "**Demographics in total**"
   ]
  },
  {
   "cell_type": "markdown",
   "metadata": {},
   "source": [
    "Since gender didn't seem to have any impact let's combine all other factors together:"
   ]
  },
  {
   "cell_type": "code",
   "execution_count": 369,
   "metadata": {},
   "outputs": [
    {
     "name": "stdout",
     "output_type": "stream",
     "text": [
      "Total number of people in the group:\n"
     ]
    },
    {
     "data": {
      "text/plain": [
       "Dependents  Partner  SeniorCitizen\n",
       "No          No       No               2719\n",
       "                     Yes               561\n",
       "            Yes      No               1163\n",
       "                     Yes               490\n",
       "Yes         No       No                353\n",
       "                     Yes                 8\n",
       "            Yes      No               1666\n",
       "                     Yes                83\n",
       "Name: SeniorCitizen, dtype: int64"
      ]
     },
     "execution_count": 369,
     "metadata": {},
     "output_type": "execute_result"
    }
   ],
   "source": [
    "print('Total number of people in the group:')\n",
    "data.groupby(['Dependents', 'Partner', \"SeniorCitizen\"])[\"SeniorCitizen\"].count()"
   ]
  },
  {
   "cell_type": "code",
   "execution_count": 421,
   "metadata": {},
   "outputs": [
    {
     "data": {
      "text/plain": [
       "Dependents  Partner  SeniorCitizen\n",
       "No          No       No               31.15\n",
       "                     Yes              49.20\n",
       "            Yes      No               20.81\n",
       "                     Yes              36.33\n",
       "Yes         No       No               21.25\n",
       "                     Yes              25.00\n",
       "            Yes      No               13.75\n",
       "                     Yes              24.10\n",
       "Name: Dependents, dtype: float64"
      ]
     },
     "execution_count": 421,
     "metadata": {},
     "output_type": "execute_result"
    }
   ],
   "source": [
    "# Churn rates by groups\n",
    "round(data[data['Churn'] == 'Yes'].groupby(['Dependents', 'Partner', \n",
    "                \"SeniorCitizen\"])['Dependents'].count()*100/data.groupby(['Dependents', 'Partner', \"SeniorCitizen\"])['Dependents'].count(),2)"
   ]
  },
  {
   "cell_type": "code",
   "execution_count": 419,
   "metadata": {},
   "outputs": [
    {
     "data": {
      "image/png": "[encoded data removed]",
      "text/plain": [
       "<Figure size 432x432 with 1 Axes>"
      ]
     },
     "metadata": {},
     "output_type": "display_data"
    }
   ],
   "source": [
    "y_axis = ['No No No',\n",
    "'No No Yes',\n",
    "'No Yes No',\n",
    "'No Yes Yes',\n",
    "'Yes No No',\n",
    "'Yes No Yes',\n",
    "'Yes Yes No',\n",
    "'Yes Yes Yes']\n",
    "\n",
    "fig = plt.gcf()\n",
    "fig.set_size_inches(6, 6)\n",
    "\n",
    "ax = sns.barplot(x = round(data[data['Churn'] == 'Yes'].groupby(['Dependents', 'Partner', \n",
    "                \"SeniorCitizen\"])['Dependents'].count()*100/data.groupby(['Dependents', 'Partner', \"SeniorCitizen\"])['Dependents'].count(),2), \n",
    "                  y = y_axis,palette = ['#594F4F', '#45ADA8'], alpha = 0.7)\n",
    "ax.set_title('Churn Rate by Dependents', fontsize = 14)\n",
    "ax.set(xlabel='Churn Rate', ylabel='Dependents, Partner, SeniorCitizen');"
   ]
  },
  {
   "cell_type": "markdown",
   "metadata": {},
   "source": [
    "The **least churning group is young people with dependets and a partner** - 13.75%; **the most - seniors without dependents and partner** - 49.20%. However, this group accounts for only 561 people, which is only 8% of all customers, so it's not that fatal for business. The most concerning group is young people  without dependents and a partner who account for 38% of the clients and who's churn rate is 31.15%."
   ]
  },
  {
   "cell_type": "markdown",
   "metadata": {},
   "source": [
    "**Other categoricals**"
   ]
  },
  {
   "cell_type": "markdown",
   "metadata": {},
   "source": [
    "Finally, let's take a look at people grouped by other attributes."
   ]
  },
  {
   "cell_type": "code",
   "execution_count": 426,
   "metadata": {},
   "outputs": [
    {
     "data": {
      "text/plain": [
       "PhoneService  Churn\n",
       "No            No        512\n",
       "              Yes       170\n",
       "Yes           No       4662\n",
       "              Yes      1699\n",
       "Name: Churn, dtype: int64"
      ]
     },
     "execution_count": 426,
     "metadata": {},
     "output_type": "execute_result"
    }
   ],
   "source": [
    "data.groupby(['PhoneService', 'Churn',])['Churn'].count()"
   ]
  },
  {
   "cell_type": "code",
   "execution_count": 428,
   "metadata": {},
   "outputs": [
    {
     "data": {
      "text/plain": [
       "MultipleLines     Churn\n",
       "No                No       2541\n",
       "                  Yes       849\n",
       "No phone service  No        512\n",
       "                  Yes       170\n",
       "Yes               No       2121\n",
       "                  Yes       850\n",
       "Name: Churn, dtype: int64"
      ]
     },
     "execution_count": 428,
     "metadata": {},
     "output_type": "execute_result"
    }
   ],
   "source": [
    "data.groupby(['MultipleLines', 'Churn',])['Churn'].count()"
   ]
  },
  {
   "cell_type": "code",
   "execution_count": 429,
   "metadata": {},
   "outputs": [
    {
     "data": {
      "text/plain": [
       "InternetService  Churn\n",
       "DSL              No       1962\n",
       "                 Yes       459\n",
       "Fiber optic      No       1799\n",
       "                 Yes      1297\n",
       "No               No       1413\n",
       "                 Yes       113\n",
       "Name: Churn, dtype: int64"
      ]
     },
     "execution_count": 429,
     "metadata": {},
     "output_type": "execute_result"
    }
   ],
   "source": [
    "data.groupby(['InternetService', 'Churn',])['Churn'].count()"
   ]
  },
  {
   "cell_type": "code",
   "execution_count": 430,
   "metadata": {},
   "outputs": [
    {
     "data": {
      "text/plain": [
       "OnlineSecurity       Churn\n",
       "No                   No       2037\n",
       "                     Yes      1461\n",
       "No internet service  No       1413\n",
       "                     Yes       113\n",
       "Yes                  No       1724\n",
       "                     Yes       295\n",
       "Name: Churn, dtype: int64"
      ]
     },
     "execution_count": 430,
     "metadata": {},
     "output_type": "execute_result"
    }
   ],
   "source": [
    "data.groupby(['OnlineSecurity', 'Churn',])['Churn'].count()"
   ]
  },
  {
   "cell_type": "code",
   "execution_count": 431,
   "metadata": {},
   "outputs": [
    {
     "data": {
      "text/plain": [
       "OnlineBackup         Churn\n",
       "No                   No       1855\n",
       "                     Yes      1233\n",
       "No internet service  No       1413\n",
       "                     Yes       113\n",
       "Yes                  No       1906\n",
       "                     Yes       523\n",
       "Name: Churn, dtype: int64"
      ]
     },
     "execution_count": 431,
     "metadata": {},
     "output_type": "execute_result"
    }
   ],
   "source": [
    "data.groupby(['OnlineBackup', 'Churn',])['Churn'].count()"
   ]
  },
  {
   "cell_type": "code",
   "execution_count": 432,
   "metadata": {},
   "outputs": [
    {
     "data": {
      "text/plain": [
       "DeviceProtection     Churn\n",
       "No                   No       1884\n",
       "                     Yes      1211\n",
       "No internet service  No       1413\n",
       "                     Yes       113\n",
       "Yes                  No       1877\n",
       "                     Yes       545\n",
       "Name: Churn, dtype: int64"
      ]
     },
     "execution_count": 432,
     "metadata": {},
     "output_type": "execute_result"
    }
   ],
   "source": [
    "data.groupby(['DeviceProtection', 'Churn',])['Churn'].count()"
   ]
  },
  {
   "cell_type": "code",
   "execution_count": 435,
   "metadata": {},
   "outputs": [
    {
     "data": {
      "text/plain": [
       "TechSupport          Churn\n",
       "No                   No       2027\n",
       "                     Yes      1446\n",
       "No internet service  No       1413\n",
       "                     Yes       113\n",
       "Yes                  No       1734\n",
       "                     Yes       310\n",
       "Name: Churn, dtype: int64"
      ]
     },
     "execution_count": 435,
     "metadata": {},
     "output_type": "execute_result"
    }
   ],
   "source": [
    "data.groupby(['TechSupport', 'Churn',])['Churn'].count()"
   ]
  },
  {
   "cell_type": "code",
   "execution_count": 436,
   "metadata": {},
   "outputs": [
    {
     "data": {
      "text/plain": [
       "StreamingTV          Churn\n",
       "No                   No       1868\n",
       "                     Yes       942\n",
       "No internet service  No       1413\n",
       "                     Yes       113\n",
       "Yes                  No       1893\n",
       "                     Yes       814\n",
       "Name: Churn, dtype: int64"
      ]
     },
     "execution_count": 436,
     "metadata": {},
     "output_type": "execute_result"
    }
   ],
   "source": [
    "data.groupby(['StreamingTV', 'Churn',])['Churn'].count()"
   ]
  },
  {
   "cell_type": "code",
   "execution_count": 437,
   "metadata": {},
   "outputs": [
    {
     "data": {
      "text/plain": [
       "StreamingMovies      Churn\n",
       "No                   No       1847\n",
       "                     Yes       938\n",
       "No internet service  No       1413\n",
       "                     Yes       113\n",
       "Yes                  No       1914\n",
       "                     Yes       818\n",
       "Name: Churn, dtype: int64"
      ]
     },
     "execution_count": 437,
     "metadata": {},
     "output_type": "execute_result"
    }
   ],
   "source": [
    "data.groupby(['StreamingMovies', 'Churn',])['Churn'].count()"
   ]
  },
  {
   "cell_type": "code",
   "execution_count": 438,
   "metadata": {},
   "outputs": [
    {
     "data": {
      "text/plain": [
       "Contract        Churn\n",
       "Month-to-month  No       2220\n",
       "                Yes      1655\n",
       "One year        No       1307\n",
       "                Yes       166\n",
       "Two year        No       1647\n",
       "                Yes        48\n",
       "Name: Churn, dtype: int64"
      ]
     },
     "execution_count": 438,
     "metadata": {},
     "output_type": "execute_result"
    }
   ],
   "source": [
    "data.groupby(['Contract', 'Churn',])['Churn'].count()"
   ]
  },
  {
   "cell_type": "code",
   "execution_count": 439,
   "metadata": {},
   "outputs": [
    {
     "data": {
      "text/plain": [
       "PaperlessBilling  Churn\n",
       "No                No       2403\n",
       "                  Yes       469\n",
       "Yes               No       2771\n",
       "                  Yes      1400\n",
       "Name: Churn, dtype: int64"
      ]
     },
     "execution_count": 439,
     "metadata": {},
     "output_type": "execute_result"
    }
   ],
   "source": [
    "data.groupby(['PaperlessBilling', 'Churn',])['Churn'].count()"
   ]
  },
  {
   "cell_type": "code",
   "execution_count": 464,
   "metadata": {},
   "outputs": [
    {
     "data": {
      "text/plain": [
       "PaymentMethod              Churn\n",
       "Bank transfer (automatic)  No       1286\n",
       "                           Yes       258\n",
       "Credit card (automatic)    No       1290\n",
       "                           Yes       232\n",
       "Electronic check           No       1294\n",
       "                           Yes      1071\n",
       "Mailed check               No       1304\n",
       "                           Yes       308\n",
       "Name: Churn, dtype: int64"
      ]
     },
     "execution_count": 464,
     "metadata": {},
     "output_type": "execute_result"
    }
   ],
   "source": [
    "data.groupby(['PaymentMethod', 'Churn',])['Churn'].count()"
   ]
  },
  {
   "cell_type": "code",
   "execution_count": 472,
   "metadata": {},
   "outputs": [
    {
     "name": "stdout",
     "output_type": "stream",
     "text": [
      "Churn Rate by various attributes: \n",
      "\n"
     ]
    },
    {
     "data": {
      "image/png": "[encoded data removed]",
      "text/plain": [
       "<Figure size 1800x1440 with 12 Axes>"
      ]
     },
     "metadata": {},
     "output_type": "display_data"
    }
   ],
   "source": [
    "categ_columns = data.select_dtypes('category').columns.drop(['customerID', 'gender', 'SeniorCitizen', 'Partner', 'Dependents', 'Churn'])\n",
    "\n",
    "print('Churn Rate by various attributes: \\n')\n",
    "\n",
    "for i in enumerate(categ_columns):\n",
    "\n",
    "    pylab.subplot(4,3,i[0]+1)\n",
    "    ax = sns.barplot(y = round(data[data['Churn'] =='Yes'][i[1]].value_counts()*100/data[i[1]].value_counts(),2),x = data[i[1]].value_counts().index.tolist(), alpha=0.7,  palette = ['#594F4F', '#45ADA8', '#9DE0AD'])\n",
    "    plt.gcf().set_size_inches(25, 20)\n",
    "    plt.ylabel('Churn Rate', fontsize = 15)\n",
    "    ax.set_title(i[1], fontsize = 20)\n",
    "    plt.xticks(fontsize = 15)\n",
    "    plt.tight_layout()\n",
    "    # Adding annotations\n",
    "    for p in ax.patches:\n",
    "        ax.annotate(format(p.get_height(), '.2f'), (p.get_x() + p.get_width() / 2., \n",
    "            p.get_height()), ha = 'center', va = 'center', xytext = (0, 15), textcoords = 'offset points', fontsize = 14)"
   ]
  },
  {
   "cell_type": "markdown",
   "metadata": {},
   "source": [
    "All the groups except from those based on PhoneService and MultipleLines seem to differ in their churn rates.\n",
    "For example,  `InternetServices` might be a good predictor of churn - there is a clear separation between churn rates among different categories, with **the least churn being observed in clients with no internet service and the highest - with Fiber Optic**. There are **a lot of churners among people with no Online Security, no Device Protection, no Tech Support and no Online Backup.** The probability to **churn increases more than twice if the person is paying via electronic check**.The same is true if the person has a month - to month contract, which makes sense since those customers are less likely to be commit to us meaning they aren't sure about our services. There's little we can do about it, only work towards establishing long term relashionship with the customer.\n",
    "\n",
    "Two top churn factors are `Contract` and `Payment Method` but as a company we can't really influence that. However, we can see that almost half of clients with Fiber internet leave us - this is **a clear indication that if we are the providers of Fiber service is doesn't work well**. Moreover, we **can see that customers who purchase complementary services like Online backup and security, Tech support, Device protection seem to churn way less** - it might infer that those services are of good quality and c**ross-sells might be used as way to retain clients**.\n",
    "\n",
    "We can see that 30% of people who use Streaming services also churn. It is interesting to see whether those are mainly people with DSL connection or Fiber since the latter provides better speed. If that is true we could say that streaming customers might leave us because of poor Fiber internet."
   ]
  },
  {
   "cell_type": "code",
   "execution_count": 442,
   "metadata": {},
   "outputs": [
    {
     "data": {
      "text/plain": [
       "Fiber optic    2191\n",
       "DSL            1308\n",
       "No                0\n",
       "Name: InternetService, dtype: int64"
      ]
     },
     "execution_count": 442,
     "metadata": {},
     "output_type": "execute_result"
    }
   ],
   "source": [
    "# Total users of streaming services\n",
    "data[(data['StreamingTV'] == 'Yes') | (data['StreamingMovies'] == 'Yes')]['InternetService'].value_counts()"
   ]
  },
  {
   "cell_type": "code",
   "execution_count": 478,
   "metadata": {},
   "outputs": [
    {
     "name": "stdout",
     "output_type": "stream",
     "text": [
      "Churn rate among all streaming users: 30.32 % - higher than overall churn by 4 percentage points\n",
      "Total number of streaming users: 3499, which is 49.68 % of all customers\n"
     ]
    }
   ],
   "source": [
    "# Churn rate among all streaming users\n",
    "print('Churn rate among all streaming users: %s %% - higher than overall churn by 4 percentage points' %round(sum(((data['StreamingTV'] == 'Yes') | (data['StreamingMovies'] == 'Yes')) & (data['Churn'] == \n",
    "                        'Yes'))*100/sum((data['StreamingTV'] == 'Yes') | (data['StreamingMovies'] == \n",
    "                        'Yes')), 2))\n",
    "print('Total number of streaming users: %s, which is %s %% of all customers' %(sum((data['StreamingTV'] == 'Yes') | (data['StreamingMovies'] == 'Yes')), \n",
    "                            round(sum((data['StreamingTV'] == 'Yes') | (data['StreamingMovies'] == 'Yes'))*100/data.shape[0],2)))"
   ]
  },
  {
   "cell_type": "code",
   "execution_count": 451,
   "metadata": {},
   "outputs": [
    {
     "data": {
      "text/plain": [
       "Fiber optic    39.94\n",
       "DSL            14.22\n",
       "No               NaN\n",
       "Name: InternetService, dtype: float64"
      ]
     },
     "execution_count": 451,
     "metadata": {},
     "output_type": "execute_result"
    }
   ],
   "source": [
    "# Churn rate among streaming users\n",
    "round(data[((data['StreamingTV'] == 'Yes') | (data['StreamingMovies'] == 'Yes')) & (data['Churn'] == \n",
    "                        'Yes')]['InternetService'].value_counts()*100/data[(data['StreamingTV'] == 'Yes') | (data['StreamingMovies'] == \n",
    "                        'Yes')]['InternetService'].value_counts(), 2)"
   ]
  },
  {
   "cell_type": "markdown",
   "metadata": {},
   "source": [
    "Indeed, about half of our streaming customers do use Fiber connection which seems to be poor. So it seems that **our streaming customers are churning because of speed of Fiber internet**. There are 49% of clients who use streaming services with us, so working on the quality of Fiber connection might be a good way to retain considerable number of clients."
   ]
  },
  {
   "cell_type": "markdown",
   "metadata": {},
   "source": [
    "Speaking of **complementary services**, let's look whether people tend to buy services in bundles, i.e. StreamingTV + StreamingMovies, OnlineSecurity + OnlineBackup."
   ]
  },
  {
   "cell_type": "code",
   "execution_count": 141,
   "metadata": {},
   "outputs": [
    {
     "data": {
      "text/plain": [
       "StreamingTV          StreamingMovies    \n",
       "No                   No                     2018\n",
       "                     Yes                     792\n",
       "No internet service  No internet service    1526\n",
       "Yes                  No                      767\n",
       "                     Yes                    1940\n",
       "Name: StreamingMovies, dtype: int64"
      ]
     },
     "execution_count": 141,
     "metadata": {},
     "output_type": "execute_result"
    }
   ],
   "source": [
    "data.groupby(['StreamingTV', 'StreamingMovies'])['StreamingMovies'].count()"
   ]
  },
  {
   "cell_type": "code",
   "execution_count": 138,
   "metadata": {},
   "outputs": [
    {
     "data": {
      "text/plain": [
       "OnlineSecurity       OnlineBackup       \n",
       "No                   No                     2195\n",
       "                     Yes                    1303\n",
       "No internet service  No internet service    1526\n",
       "Yes                  No                      893\n",
       "                     Yes                    1126\n",
       "Name: OnlineBackup, dtype: int64"
      ]
     },
     "execution_count": 138,
     "metadata": {},
     "output_type": "execute_result"
    }
   ],
   "source": [
    "data.groupby(['OnlineSecurity', 'OnlineBackup'])['OnlineBackup'].count()"
   ]
  },
  {
   "cell_type": "markdown",
   "metadata": {},
   "source": [
    "**People who own one Streaming Service tend to own another, however, people who have online security not necessarily have online backup**. Given that other complementary services seem to be good as well, we might increase loyalty by offering the clients those online services that they still don't have."
   ]
  },
  {
   "cell_type": "code",
   "execution_count": 480,
   "metadata": {},
   "outputs": [
    {
     "data": {
      "image/png": "[encoded data removed]",
      "text/plain": [
       "<Figure size 432x432 with 2 Axes>"
      ]
     },
     "metadata": {},
     "output_type": "display_data"
    }
   ],
   "source": [
    "# Checking correlation between numericals\n",
    "# Correlation of crimes of different types\n",
    "corr_df = data.corr()\n",
    "\n",
    "# Generate a mask for the upper triangle\n",
    "mask = np.triu(np.ones_like(corr_df, dtype=np.bool))\n",
    "\n",
    "fig, ax = plt.subplots(figsize = (6, 6))\n",
    "sns.heatmap(corr_df, cmap = ['#594F4F', '#45ADA8', '#9DE0AD'], vmin=0, vmax=1, linewidths=.3, square = True, mask = mask, alpha = 0.8)\n",
    "\n",
    "#Adjusting bottom and top rows\n",
    "bottom, top = ax.get_ylim()\n",
    "ax.set_ylim(bottom + 0.5, top - 0.5);"
   ]
  },
  {
   "cell_type": "markdown",
   "metadata": {},
   "source": [
    "Some of the numerics are correlated - we will have to check the performance of the ML model without them or with PCA."
   ]
  },
  {
   "cell_type": "markdown",
   "metadata": {},
   "source": [
    "## 2. Segmentation of customers who churned <a id=segm>"
   ]
  },
  {
   "cell_type": "markdown",
   "metadata": {},
   "source": [
    "**Customer segmentation** may give insights into what makes certain customers similar, which in turn **may help to shape more effective marketing strategies**. It's important to realise that segmentation is highly dependent on underlying business task. \n",
    "\n",
    "Since we are interested in those who churn, let's subset our dataset for only those people to gain other insights into those customers' characteristics.\n",
    "\n",
    "The **goal of the analysis is to determine sizable and actionable groups among people who churn**. This will allow us to prioritise several clusters depending on our marketing budget and come up with clear insights into the main turn-offs of each cluster.\n",
    "\n",
    "**Technical note**:\n",
    "\n",
    "There are several common algorithms used for clustering, the most popular are K-means, DBSCAN or Optics and Agglomerative Clustering. They have different hyperparameters and vary in how they determine clusters. All of them calculate clusters based on distance measures, thus it is extremely important to scale the dataset not to give false importance to "
   ]
  },
  {
   "cell_type": "markdown",
   "metadata": {},
   "source": [
    "#### K - means clustering"
   ]
  },
  {
   "cell_type": "markdown",
   "metadata": {},
   "source": [
    "K-means bases it's clusters on **finding k cluster centres** (the number k has to be specified manually beforehand) **as the mean of the data points that belong to these clusters**. Therefore, it is highly **dependent on the initial number of clusters**, as well as **initial start point of the centroids**, which is chosen randomly every time. "
   ]
  },
  {
   "cell_type": "markdown",
   "metadata": {},
   "source": [
    "#### Density based algorithms"
   ]
  },
  {
   "cell_type": "markdown",
   "metadata": {},
   "source": [
    "Those base their clusters on density estimations as indicated dy their name.\n",
    "\n",
    "The most well known density based algorithm is **DBSCAN (Density-based spatial clustering of applications with noise)**. It locates regions of high density that are separated from one another by regions of low density. DBSCAN is ideal to deal with large spatial databases since it **can detect noise and outliers**.\n",
    "\n",
    "Main hyperparameters in DBSCAN are *Radius Eps (ϵ)* which specifies how close points should be to each other to be considered a part of a cluster and *minimum number of points (MinPts)* which have to be within this radius to form a dense region. **Main drawback of DBSCAN is that if the database has data points that form clusters of varying density, then DBSCAN will fail to cluster the data points well**, since the clustering depends on ϵ and MinPts parameter, they cannot be chosen separately for all clusters.\n",
    "\n",
    "Another density based algorithm is **Optics**, it is similar to DBSCAN but can deal with varying densities, as well as ir requires very little parameter tuning."
   ]
  },
  {
   "cell_type": "markdown",
   "metadata": {},
   "source": [
    "#### Hierarchical clustering"
   ]
  },
  {
   "cell_type": "markdown",
   "metadata": {},
   "source": [
    "There are two ways of hierarchical clustering:\n",
    "- **Agglomerative clustering** (Bottom-up approach): Each sample is treated as a single cluster and then successively merge (or agglomerate) pairs of clusters until all clusters have been merged into a single cluster.\n",
    "- **Divisive clustering** (top-down): A single cluster of all the samples is portioned recursively into two least similar clusters until there is one cluster for each observation. The divisive clustering algorithm is exactly the reverse of Agglomerative clustering.\n",
    "\n",
    "Hierarchical algorithms are more cumbersome and do not scale well to large datasets."
   ]
  },
  {
   "cell_type": "markdown",
   "metadata": {},
   "source": [
    "### 2.1 Dimensionality reduction <a id=dim>"
   ]
  },
  {
   "cell_type": "markdown",
   "metadata": {},
   "source": [
    "To be able to perform a better clustering, it's might be beneficial to reduce the number of dimensions(variables) in our dataset using one of the dimensionality reduction techniques, for example, PCA or TSNE. The goal in applying those techniques is to **detect certain shapes which might indicate separate clusters**.  "
   ]
  },
  {
   "cell_type": "code",
   "execution_count": null,
   "metadata": {},
   "outputs": [],
   "source": [
    "pca_pipe = Pipeline([('count_encoder', CountEncoder()), \n",
    "                    ('scaler', StandardScaler())\n",
    "                    ])\n",
    "data_prep = pca_pipe.fit_transform(data[data['Churn'] =='Yes'].drop('Churn', axis = 1))\n",
    "\n",
    "pca = PCA()\n",
    "data_pca = pd.DataFrame(pca.fit_transform(data_prep), columns=[\"PC{}\".format(i) for i in range(pca.n_components_)])"
   ]
  },
  {
   "cell_type": "code",
   "execution_count": 251,
   "metadata": {},
   "outputs": [
    {
     "data": {
      "text/plain": [
       "array([0.24005449, 0.41844871, 0.54994699, 0.61800808, 0.67380116,\n",
       "       0.72401681, 0.76963044, 0.81059368, 0.84405606, 0.87457507,\n",
       "       0.90278754, 0.92871497, 0.95323436, 0.97372345, 0.99118756,\n",
       "       0.99576799, 0.99845884, 0.99996861, 0.99999998, 1.        ,\n",
       "       1.        ])"
      ]
     },
     "execution_count": 251,
     "metadata": {},
     "output_type": "execute_result"
    }
   ],
   "source": [
    "# Cumulative explained variance ratio\n",
    "pca.explained_variance_ratio_.cumsum()"
   ]
  },
  {
   "cell_type": "code",
   "execution_count": 256,
   "metadata": {},
   "outputs": [
    {
     "data": {
      "image/png": "[encoded data removed]",
      "text/plain": [
       "<Figure size 576x396 with 1 Axes>"
      ]
     },
     "metadata": {},
     "output_type": "display_data"
    }
   ],
   "source": [
    "sns.set_style('whitegrid')\n",
    "sns.lineplot(x = range(1,22), y= pca.explained_variance_ratio_.cumsum(), color = '#594F4F')\n",
    "plt.xlabel('Number of PCA components')\n",
    "plt.ylabel('Cumulative explained variance')\n",
    "plt.title('Cumulative explained variance', fontsize = 14);"
   ]
  },
  {
   "cell_type": "markdown",
   "metadata": {},
   "source": [
    "We can see that the optimal cutoff for number of components is either 3 or 15. We will capture either 54.9% or 99.1% of information respectively."
   ]
  },
  {
   "cell_type": "code",
   "execution_count": 261,
   "metadata": {},
   "outputs": [
    {
     "data": {
      "image/png": "[encoded data removed]",
      "text/plain": [
       "<Figure size 576x396 with 1 Axes>"
      ]
     },
     "metadata": {},
     "output_type": "display_data"
    }
   ],
   "source": [
    "#Plotting the first two components\n",
    "sns.set_style('white')\n",
    "sns.scatterplot(data_pca.iloc[:, 0], data_pca.iloc[:, 1], alpha=0.5, color = '#45ADA8')\n",
    "plt.xlabel('component 1')\n",
    "plt.ylabel('component 2');"
   ]
  },
  {
   "cell_type": "markdown",
   "metadata": {},
   "source": [
    "It's interesting to see that apparently we do have distinguishible groups of customers, looks like there might be 3 or 4 clusters here."
   ]
  },
  {
   "cell_type": "markdown",
   "metadata": {},
   "source": [
    "### 2.2 Clustering <a id=cluster>"
   ]
  },
  {
   "cell_type": "markdown",
   "metadata": {},
   "source": [
    "**K-means**"
   ]
  },
  {
   "cell_type": "markdown",
   "metadata": {},
   "source": [
    "The most well known way to determine the number of clusters (k) is *elbow method*. Basically it means that we calculate the Within-Cluster-Sum of Squared Errors (WSS) for different values of k, and choose the k for which WSS becomes first starts to diminish.\n",
    "- The Squared Error for each point is the square of the distance of the point from its representation i.e. its predicted cluster center. \n",
    "- The WSS score is the sum of these Squared Errors for all the points.\n",
    "- Any distance metric like the Euclidean Distance or the Manhattan Distance can be used."
   ]
  },
  {
   "cell_type": "code",
   "execution_count": 269,
   "metadata": {},
   "outputs": [],
   "source": [
    "# Dropping last component since it doesn't give us any new information\n",
    "data_pca = data_pca.drop('PC20', axis = 1)"
   ]
  },
  {
   "cell_type": "code",
   "execution_count": 270,
   "metadata": {},
   "outputs": [
    {
     "data": {
      "image/png": "[encoded data removed]",
      "text/plain": [
       "<Figure size 576x396 with 1 Axes>"
      ]
     },
     "metadata": {},
     "output_type": "display_data"
    }
   ],
   "source": [
    "n_clusters = [1,2,3,4,5,6,7,8,9,10]\n",
    "inertia = []\n",
    "\n",
    "for num in n_clusters:\n",
    "    kmeans_model = KMeans(n_clusters=num, n_jobs=-1).fit(data_pca)\n",
    "    wss = kmeans_model.inertia_\n",
    "    inertia.append(wss)\n",
    "    \n",
    "pd.DataFrame({'n_clusters':n_clusters, 'inertia': inertia}).plot(x='n_clusters', y='inertia', color = '#594F4F');"
   ]
  },
  {
   "cell_type": "markdown",
   "metadata": {},
   "source": [
    "The best number of clusters is either 2,3 or 4."
   ]
  },
  {
   "cell_type": "code",
   "execution_count": 297,
   "metadata": {},
   "outputs": [
    {
     "name": "stdout",
     "output_type": "stream",
     "text": [
      "The average silhouette_score with 2 clusters is : 0.462\n"
     ]
    }
   ],
   "source": [
    "#Fitting and getting silhoette score that describes\n",
    "km = KMeans(n_clusters=2)\n",
    "cluster = km.fit(data_pca)\n",
    "cluster_labels = cluster.labels_\n",
    "silhouette_avg = silhouette_score(data_pca, cluster_labels)\n",
    "print(\"The average silhouette_score with 2 clusters is :\", round(silhouette_avg, 3))"
   ]
  },
  {
   "cell_type": "code",
   "execution_count": 272,
   "metadata": {},
   "outputs": [
    {
     "data": {
      "text/html": [
       "<div>\n",
       "<style scoped>\n",
       "    .dataframe tbody tr th:only-of-type {\n",
       "        vertical-align: middle;\n",
       "    }\n",
       "\n",
       "    .dataframe tbody tr th {\n",
       "        vertical-align: top;\n",
       "    }\n",
       "\n",
       "    .dataframe thead th {\n",
       "        text-align: right;\n",
       "    }\n",
       "</style>\n",
       "<table border=\"1\" class=\"dataframe\">\n",
       "  <thead>\n",
       "    <tr style=\"text-align: right;\">\n",
       "      <th></th>\n",
       "      <th>Cluster</th>\n",
       "      <th>Percent of observations in the group</th>\n",
       "    </tr>\n",
       "  </thead>\n",
       "  <tbody>\n",
       "    <tr>\n",
       "      <th>0</th>\n",
       "      <td>0</td>\n",
       "      <td>6.05</td>\n",
       "    </tr>\n",
       "    <tr>\n",
       "      <th>1</th>\n",
       "      <td>1</td>\n",
       "      <td>93.95</td>\n",
       "    </tr>\n",
       "  </tbody>\n",
       "</table>\n",
       "</div>"
      ],
      "text/plain": [
       "   Cluster  Percent of observations in the group\n",
       "0        0                                  6.05\n",
       "1        1                                 93.95"
      ]
     },
     "execution_count": 272,
     "metadata": {},
     "output_type": "execute_result"
    }
   ],
   "source": [
    "# Checking how many observations fall into either of labels - from the business perspective the groups should be sizable enough.\n",
    "unique, counts = np.unique(cluster_labels, return_counts=True)\n",
    "pd.DataFrame({'Cluster': unique, 'Percent of observations in the group': (counts*100/data_pca.shape[0]).round(2)})"
   ]
  },
  {
   "cell_type": "code",
   "execution_count": 273,
   "metadata": {},
   "outputs": [
    {
     "name": "stdout",
     "output_type": "stream",
     "text": [
      "The average silhouette_score with 2 clusters is : 0.387\n"
     ]
    }
   ],
   "source": [
    "#Fitting and getting silhoette score that describes\n",
    "km = KMeans(n_clusters=3)\n",
    "cluster = km.fit(data_pca)\n",
    "cluster_labels = cluster.labels_\n",
    "silhouette_avg = silhouette_score(data_pca, cluster_labels)\n",
    "print(\"The average silhouette_score with 2 clusters is :\", round(silhouette_avg, 3))"
   ]
  },
  {
   "cell_type": "code",
   "execution_count": 274,
   "metadata": {},
   "outputs": [
    {
     "data": {
      "text/html": [
       "<div>\n",
       "<style scoped>\n",
       "    .dataframe tbody tr th:only-of-type {\n",
       "        vertical-align: middle;\n",
       "    }\n",
       "\n",
       "    .dataframe tbody tr th {\n",
       "        vertical-align: top;\n",
       "    }\n",
       "\n",
       "    .dataframe thead th {\n",
       "        text-align: right;\n",
       "    }\n",
       "</style>\n",
       "<table border=\"1\" class=\"dataframe\">\n",
       "  <thead>\n",
       "    <tr style=\"text-align: right;\">\n",
       "      <th></th>\n",
       "      <th>Cluster</th>\n",
       "      <th>Percent of observations in the group</th>\n",
       "    </tr>\n",
       "  </thead>\n",
       "  <tbody>\n",
       "    <tr>\n",
       "      <th>0</th>\n",
       "      <td>0</td>\n",
       "      <td>6.05</td>\n",
       "    </tr>\n",
       "    <tr>\n",
       "      <th>1</th>\n",
       "      <td>1</td>\n",
       "      <td>84.86</td>\n",
       "    </tr>\n",
       "    <tr>\n",
       "      <th>2</th>\n",
       "      <td>2</td>\n",
       "      <td>9.10</td>\n",
       "    </tr>\n",
       "  </tbody>\n",
       "</table>\n",
       "</div>"
      ],
      "text/plain": [
       "   Cluster  Percent of observations in the group\n",
       "0        0                                  6.05\n",
       "1        1                                 84.86\n",
       "2        2                                  9.10"
      ]
     },
     "execution_count": 274,
     "metadata": {},
     "output_type": "execute_result"
    }
   ],
   "source": [
    "# Checking how many observations fall into either of labels - from the business perspective the groups should be sizable enough.\n",
    "unique, counts = np.unique(cluster_labels, return_counts=True)\n",
    "pd.DataFrame({'Cluster': unique, 'Percent of observations in the group': (counts*100/data_pca.shape[0]).round(2)})"
   ]
  },
  {
   "cell_type": "code",
   "execution_count": 275,
   "metadata": {},
   "outputs": [
    {
     "name": "stdout",
     "output_type": "stream",
     "text": [
      "The average silhouette_score with 4 clusters is : 0.284\n"
     ]
    }
   ],
   "source": [
    "#Fitting and getting silhoette score that describes\n",
    "km = KMeans(n_clusters=4)\n",
    "cluster = km.fit(data_pca)\n",
    "cluster_labels = cluster.labels_\n",
    "silhouette_avg = silhouette_score(data_pca, cluster_labels)\n",
    "print(\"The average silhouette_score with 4 clusters is :\", round(silhouette_avg, 3))"
   ]
  },
  {
   "cell_type": "code",
   "execution_count": 276,
   "metadata": {},
   "outputs": [
    {
     "data": {
      "text/html": [
       "<div>\n",
       "<style scoped>\n",
       "    .dataframe tbody tr th:only-of-type {\n",
       "        vertical-align: middle;\n",
       "    }\n",
       "\n",
       "    .dataframe tbody tr th {\n",
       "        vertical-align: top;\n",
       "    }\n",
       "\n",
       "    .dataframe thead th {\n",
       "        text-align: right;\n",
       "    }\n",
       "</style>\n",
       "<table border=\"1\" class=\"dataframe\">\n",
       "  <thead>\n",
       "    <tr style=\"text-align: right;\">\n",
       "      <th></th>\n",
       "      <th>Cluster</th>\n",
       "      <th>Percent of observations in the group</th>\n",
       "    </tr>\n",
       "  </thead>\n",
       "  <tbody>\n",
       "    <tr>\n",
       "      <th>0</th>\n",
       "      <td>0</td>\n",
       "      <td>9.10</td>\n",
       "    </tr>\n",
       "    <tr>\n",
       "      <th>1</th>\n",
       "      <td>1</td>\n",
       "      <td>64.37</td>\n",
       "    </tr>\n",
       "    <tr>\n",
       "      <th>2</th>\n",
       "      <td>2</td>\n",
       "      <td>6.05</td>\n",
       "    </tr>\n",
       "    <tr>\n",
       "      <th>3</th>\n",
       "      <td>3</td>\n",
       "      <td>20.49</td>\n",
       "    </tr>\n",
       "  </tbody>\n",
       "</table>\n",
       "</div>"
      ],
      "text/plain": [
       "   Cluster  Percent of observations in the group\n",
       "0        0                                  9.10\n",
       "1        1                                 64.37\n",
       "2        2                                  6.05\n",
       "3        3                                 20.49"
      ]
     },
     "execution_count": 276,
     "metadata": {},
     "output_type": "execute_result"
    }
   ],
   "source": [
    "# Checking how many observations fall into either of labels - from the business perspective the groups should be sizable enough.\n",
    "unique, counts = np.unique(cluster_labels, return_counts=True)\n",
    "pd.DataFrame({'Cluster': unique, 'Percent of observations in the group': (counts*100/data_pca.shape[0]).round(2)})"
   ]
  },
  {
   "cell_type": "markdown",
   "metadata": {},
   "source": [
    "With 2 clusters out silhoette score is better. However, with only 2 clusters one group seems to be the majority of observations which might not be desirable. At the same time, the minority group has more than 5% of observations which is sizable enough.\n",
    "\n",
    "Let's check other clustering methods.\n"
   ]
  },
  {
   "cell_type": "markdown",
   "metadata": {},
   "source": [
    "**OPTICS**"
   ]
  },
  {
   "cell_type": "code",
   "execution_count": 283,
   "metadata": {},
   "outputs": [
    {
     "name": "stdout",
     "output_type": "stream",
     "text": [
      "Num. clusters: 3\n"
     ]
    }
   ],
   "source": [
    "op = OPTICS(min_samples=90, max_eps=30)\n",
    "cluster2 = op.fit(data_pca)\n",
    "print(\"Num. clusters: {}\".format(len(set(cluster2.labels_))))"
   ]
  },
  {
   "cell_type": "code",
   "execution_count": 284,
   "metadata": {},
   "outputs": [
    {
     "name": "stdout",
     "output_type": "stream",
     "text": [
      "The average silhouette_score is : 0.387\n"
     ]
    }
   ],
   "source": [
    "silhouette_avg = silhouette_score(data_pca, cluster2.labels_)\n",
    "print(\"The average silhouette_score is :\", round(silhouette_avg, 3))"
   ]
  },
  {
   "cell_type": "code",
   "execution_count": 285,
   "metadata": {},
   "outputs": [
    {
     "data": {
      "text/html": [
       "<div>\n",
       "<style scoped>\n",
       "    .dataframe tbody tr th:only-of-type {\n",
       "        vertical-align: middle;\n",
       "    }\n",
       "\n",
       "    .dataframe tbody tr th {\n",
       "        vertical-align: top;\n",
       "    }\n",
       "\n",
       "    .dataframe thead th {\n",
       "        text-align: right;\n",
       "    }\n",
       "</style>\n",
       "<table border=\"1\" class=\"dataframe\">\n",
       "  <thead>\n",
       "    <tr style=\"text-align: right;\">\n",
       "      <th></th>\n",
       "      <th>Cluster</th>\n",
       "      <th>Percent of observations in the group</th>\n",
       "    </tr>\n",
       "  </thead>\n",
       "  <tbody>\n",
       "    <tr>\n",
       "      <th>0</th>\n",
       "      <td>0</td>\n",
       "      <td>84.86</td>\n",
       "    </tr>\n",
       "    <tr>\n",
       "      <th>1</th>\n",
       "      <td>1</td>\n",
       "      <td>9.10</td>\n",
       "    </tr>\n",
       "    <tr>\n",
       "      <th>2</th>\n",
       "      <td>2</td>\n",
       "      <td>6.05</td>\n",
       "    </tr>\n",
       "  </tbody>\n",
       "</table>\n",
       "</div>"
      ],
      "text/plain": [
       "   Cluster  Percent of observations in the group\n",
       "0        0                                 84.86\n",
       "1        1                                  9.10\n",
       "2        2                                  6.05"
      ]
     },
     "execution_count": 285,
     "metadata": {},
     "output_type": "execute_result"
    }
   ],
   "source": [
    "# Checking how many observations fall into either of labels - from the business perspective the groups should be sizable enough.\n",
    "unique, counts = np.unique(cluster2.labels_, return_counts=True)\n",
    "pd.DataFrame({'Cluster': unique, 'Percent of observations in the group': (counts*100/data_pca.shape[0]).round(2)})"
   ]
  },
  {
   "cell_type": "markdown",
   "metadata": {},
   "source": [
    "Looks good both from the silhoette perspective and number of clusters."
   ]
  },
  {
   "cell_type": "markdown",
   "metadata": {},
   "source": [
    "**Agglomerative Clustering**"
   ]
  },
  {
   "cell_type": "code",
   "execution_count": 286,
   "metadata": {},
   "outputs": [
    {
     "name": "stdout",
     "output_type": "stream",
     "text": [
      "The average silhouette_score is : 0.462\n"
     ]
    }
   ],
   "source": [
    "ag = AgglomerativeClustering(n_clusters=2)\n",
    "cluster3 = ag.fit(data_pca)\n",
    "silhouette_avg = silhouette_score(data_pca, cluster3.labels_)\n",
    "print(\"The average silhouette_score is :\", round(silhouette_avg, 3))"
   ]
  },
  {
   "cell_type": "code",
   "execution_count": 287,
   "metadata": {},
   "outputs": [
    {
     "data": {
      "text/html": [
       "<div>\n",
       "<style scoped>\n",
       "    .dataframe tbody tr th:only-of-type {\n",
       "        vertical-align: middle;\n",
       "    }\n",
       "\n",
       "    .dataframe tbody tr th {\n",
       "        vertical-align: top;\n",
       "    }\n",
       "\n",
       "    .dataframe thead th {\n",
       "        text-align: right;\n",
       "    }\n",
       "</style>\n",
       "<table border=\"1\" class=\"dataframe\">\n",
       "  <thead>\n",
       "    <tr style=\"text-align: right;\">\n",
       "      <th></th>\n",
       "      <th>Cluster</th>\n",
       "      <th>Percent of observations in the group</th>\n",
       "    </tr>\n",
       "  </thead>\n",
       "  <tbody>\n",
       "    <tr>\n",
       "      <th>0</th>\n",
       "      <td>0</td>\n",
       "      <td>93.95</td>\n",
       "    </tr>\n",
       "    <tr>\n",
       "      <th>1</th>\n",
       "      <td>1</td>\n",
       "      <td>6.05</td>\n",
       "    </tr>\n",
       "  </tbody>\n",
       "</table>\n",
       "</div>"
      ],
      "text/plain": [
       "   Cluster  Percent of observations in the group\n",
       "0        0                                 93.95\n",
       "1        1                                  6.05"
      ]
     },
     "execution_count": 287,
     "metadata": {},
     "output_type": "execute_result"
    }
   ],
   "source": [
    "# Checking how many observations fall into either of labels - from the business perspective the groups should be sizable enough.\n",
    "unique, counts = np.unique(cluster3.labels_, return_counts=True)\n",
    "pd.DataFrame({'Cluster': unique, 'Percent of observations in the group': (counts*100/data_pca.shape[0]).round(2)})"
   ]
  },
  {
   "cell_type": "markdown",
   "metadata": {},
   "source": [
    "Let's stick with OPTICS clustering - it gives a good balance between number of clusters and silhoette score."
   ]
  },
  {
   "cell_type": "markdown",
   "metadata": {},
   "source": [
    "### 2.3 Analysis of segments <a id=analysis>"
   ]
  },
  {
   "cell_type": "code",
   "execution_count": 483,
   "metadata": {},
   "outputs": [],
   "source": [
    "labeled_data = data[data['Churn'] =='Yes'].drop('Churn', axis = 1)\n",
    "labeled_data['cluster'] = cluster2.labels_"
   ]
  },
  {
   "cell_type": "code",
   "execution_count": 485,
   "metadata": {},
   "outputs": [
    {
     "data": {
      "text/plain": [
       "tenure              37.569965\n",
       "MonthlyCharges      61.265124\n",
       "TotalCharges      2549.911442\n",
       "dtype: float64"
      ]
     },
     "execution_count": 485,
     "metadata": {},
     "output_type": "execute_result"
    }
   ],
   "source": [
    "# Let's compute the mean of each variable for those who didn't churn and see how the clusters differs in their statistics\n",
    "var_means = data[data['Churn'] =='No'].drop('Churn', axis = 1).mean()\n",
    "var_means"
   ]
  },
  {
   "cell_type": "code",
   "execution_count": 416,
   "metadata": {},
   "outputs": [
    {
     "data": {
      "text/html": [
       "<div>\n",
       "<style scoped>\n",
       "    .dataframe tbody tr th:only-of-type {\n",
       "        vertical-align: middle;\n",
       "    }\n",
       "\n",
       "    .dataframe tbody tr th {\n",
       "        vertical-align: top;\n",
       "    }\n",
       "\n",
       "    .dataframe thead th {\n",
       "        text-align: right;\n",
       "    }\n",
       "</style>\n",
       "<table border=\"1\" class=\"dataframe\">\n",
       "  <thead>\n",
       "    <tr style=\"text-align: right;\">\n",
       "      <th></th>\n",
       "      <th>tenure</th>\n",
       "      <th>MonthlyCharges</th>\n",
       "      <th>TotalCharges</th>\n",
       "    </tr>\n",
       "    <tr>\n",
       "      <th>cluster</th>\n",
       "      <th></th>\n",
       "      <th></th>\n",
       "      <th></th>\n",
       "    </tr>\n",
       "  </thead>\n",
       "  <tbody>\n",
       "    <tr>\n",
       "      <th>0</th>\n",
       "      <td>18.902900</td>\n",
       "      <td>82.250000</td>\n",
       "      <td>1719.085120</td>\n",
       "    </tr>\n",
       "    <tr>\n",
       "      <th>1</th>\n",
       "      <td>15.835294</td>\n",
       "      <td>37.533824</td>\n",
       "      <td>687.087941</td>\n",
       "    </tr>\n",
       "    <tr>\n",
       "      <th>2</th>\n",
       "      <td>8.238938</td>\n",
       "      <td>20.368142</td>\n",
       "      <td>173.919912</td>\n",
       "    </tr>\n",
       "  </tbody>\n",
       "</table>\n",
       "</div>"
      ],
      "text/plain": [
       "            tenure  MonthlyCharges  TotalCharges\n",
       "cluster                                         \n",
       "0        18.902900       82.250000   1719.085120\n",
       "1        15.835294       37.533824    687.087941\n",
       "2         8.238938       20.368142    173.919912"
      ]
     },
     "execution_count": 416,
     "metadata": {},
     "output_type": "execute_result"
    }
   ],
   "source": [
    "labeled_data.groupby(\"cluster\").mean()"
   ]
  },
  {
   "cell_type": "code",
   "execution_count": 417,
   "metadata": {},
   "outputs": [],
   "source": [
    "ratio_vs_mean = labeled_data.groupby(\"cluster\").mean() / var_means"
   ]
  },
  {
   "cell_type": "markdown",
   "metadata": {},
   "source": [
    "We visualize the ratio of each cluster's mean vs. the global mean of those who do not churn for each variable. We color-code the values to make them easier to uniderstand.\n",
    "\n",
    "- Value < 0.5 - Blue\n",
    "- 0.5 <= value < 1 - Brown\n",
    "- Value >=1 - Red"
   ]
  },
  {
   "cell_type": "code",
   "execution_count": 418,
   "metadata": {},
   "outputs": [
    {
     "data": {
      "text/html": [
       "<style  type=\"text/css\" >\n",
       "    #T_cbe79480_6d60_11ea_b2ea_a683e71eb127row0_col0 {\n",
       "            color:  #594F4F;\n",
       "        }    #T_cbe79480_6d60_11ea_b2ea_a683e71eb127row0_col1 {\n",
       "            color:  #E8175D;\n",
       "        }    #T_cbe79480_6d60_11ea_b2ea_a683e71eb127row0_col2 {\n",
       "            color:  #594F4F;\n",
       "        }    #T_cbe79480_6d60_11ea_b2ea_a683e71eb127row1_col0 {\n",
       "            color:  #45ADA8;\n",
       "        }    #T_cbe79480_6d60_11ea_b2ea_a683e71eb127row1_col1 {\n",
       "            color:  #594F4F;\n",
       "        }    #T_cbe79480_6d60_11ea_b2ea_a683e71eb127row1_col2 {\n",
       "            color:  #45ADA8;\n",
       "        }    #T_cbe79480_6d60_11ea_b2ea_a683e71eb127row2_col0 {\n",
       "            color:  #45ADA8;\n",
       "        }    #T_cbe79480_6d60_11ea_b2ea_a683e71eb127row2_col1 {\n",
       "            color:  #45ADA8;\n",
       "        }    #T_cbe79480_6d60_11ea_b2ea_a683e71eb127row2_col2 {\n",
       "            color:  #45ADA8;\n",
       "        }</style><table id=\"T_cbe79480_6d60_11ea_b2ea_a683e71eb127\" ><thead>    <tr>        <th class=\"blank level0\" ></th>        <th class=\"col_heading level0 col0\" >tenure</th>        <th class=\"col_heading level0 col1\" >MonthlyCharges</th>        <th class=\"col_heading level0 col2\" >TotalCharges</th>    </tr>    <tr>        <th class=\"index_name level0\" >cluster</th>        <th class=\"blank\" ></th>        <th class=\"blank\" ></th>        <th class=\"blank\" ></th>    </tr></thead><tbody>\n",
       "                <tr>\n",
       "                        <th id=\"T_cbe79480_6d60_11ea_b2ea_a683e71eb127level0_row0\" class=\"row_heading level0 row0\" >0</th>\n",
       "                        <td id=\"T_cbe79480_6d60_11ea_b2ea_a683e71eb127row0_col0\" class=\"data row0 col0\" >0.503139</td>\n",
       "                        <td id=\"T_cbe79480_6d60_11ea_b2ea_a683e71eb127row0_col1\" class=\"data row0 col1\" >1.34253</td>\n",
       "                        <td id=\"T_cbe79480_6d60_11ea_b2ea_a683e71eb127row0_col2\" class=\"data row0 col2\" >0.674174</td>\n",
       "            </tr>\n",
       "            <tr>\n",
       "                        <th id=\"T_cbe79480_6d60_11ea_b2ea_a683e71eb127level0_row1\" class=\"row_heading level0 row1\" >1</th>\n",
       "                        <td id=\"T_cbe79480_6d60_11ea_b2ea_a683e71eb127row1_col0\" class=\"data row1 col0\" >0.421488</td>\n",
       "                        <td id=\"T_cbe79480_6d60_11ea_b2ea_a683e71eb127row1_col1\" class=\"data row1 col1\" >0.612646</td>\n",
       "                        <td id=\"T_cbe79480_6d60_11ea_b2ea_a683e71eb127row1_col2\" class=\"data row1 col2\" >0.269456</td>\n",
       "            </tr>\n",
       "            <tr>\n",
       "                        <th id=\"T_cbe79480_6d60_11ea_b2ea_a683e71eb127level0_row2\" class=\"row_heading level0 row2\" >2</th>\n",
       "                        <td id=\"T_cbe79480_6d60_11ea_b2ea_a683e71eb127row2_col0\" class=\"data row2 col0\" >0.219296</td>\n",
       "                        <td id=\"T_cbe79480_6d60_11ea_b2ea_a683e71eb127row2_col1\" class=\"data row2 col1\" >0.332459</td>\n",
       "                        <td id=\"T_cbe79480_6d60_11ea_b2ea_a683e71eb127row2_col2\" class=\"data row2 col2\" >0.0682063</td>\n",
       "            </tr>\n",
       "    </tbody></table>"
      ],
      "text/plain": [
       "<pandas.io.formats.style.Styler at 0x1a60d07210>"
      ]
     },
     "execution_count": 418,
     "metadata": {},
     "output_type": "execute_result"
    }
   ],
   "source": [
    "def color_scheme(val):\n",
    "    color =  '#594F4F'\n",
    "    if val < 0.5:\n",
    "        color = '#45ADA8'\n",
    "    elif val >= 1:\n",
    "        color = '#E8175D'\n",
    "    return 'color: %s' % color\n",
    " \n",
    "numericals = ratio_vs_mean.style.applymap(color_scheme)\n",
    "numericals"
   ]
  },
  {
   "cell_type": "markdown",
   "metadata": {},
   "source": [
    "We can see that **Cluster_0 is characterised by higher tenure, Total Charges and extremely high Monthly Charges**. These people represent 85% of the churners.\n",
    "\n",
    "**Cluster_1 likely represents people who leave us in the meduim run** given their Total Charges being only 27% of the average of those who don't churn. At the same time those customers tend to have lower Monthly Charges and a lower tenure. There are 9% of those churners.\n",
    "\n",
    "**Cluster_2 is probably people who didn't stay with us long since their Total Charges are only 7% of the average of those who don't churn**. Those are quick churners (6%)."
   ]
  },
  {
   "cell_type": "code",
   "execution_count": 364,
   "metadata": {},
   "outputs": [],
   "source": [
    "#Adding modes of categorical variables\n",
    "cluster_0 = labeled_data[labeled_data['cluster'] == 0].drop('customerID', axis = 1).select_dtypes('category').mode(dropna=True)\n",
    "cluster_1 = labeled_data[labeled_data['cluster'] == 1].drop('customerID', axis = 1).select_dtypes('category').mode(dropna=True)\n",
    "cluster_2 = labeled_data[labeled_data['cluster'] == 2].drop('customerID', axis = 1).select_dtypes('category').mode(dropna=True)"
   ]
  },
  {
   "cell_type": "code",
   "execution_count": 384,
   "metadata": {},
   "outputs": [],
   "source": [
    "clusters_together = pd.concat([cluster_0,cluster_1, cluster_2 ], axis = 0)\n",
    "clusters_together['cluster'] = [0,1,2]\n",
    "clusters_together.set_index('cluster', inplace = True)"
   ]
  },
  {
   "cell_type": "code",
   "execution_count": 395,
   "metadata": {},
   "outputs": [],
   "source": [
    "full_table = ratio_vs_mean.merge(clusters_together, left_on = ratio_vs_mean.index, right_on = clusters_together.index)\n",
    "full_table.rename(columns = {'key_0':'cluster'}, inplace = True)\n",
    "full_table.set_index('cluster', inplace=True)"
   ]
  },
  {
   "cell_type": "code",
   "execution_count": 401,
   "metadata": {},
   "outputs": [
    {
     "data": {
      "text/html": [
       "<div>\n",
       "<style scoped>\n",
       "    .dataframe tbody tr th:only-of-type {\n",
       "        vertical-align: middle;\n",
       "    }\n",
       "\n",
       "    .dataframe tbody tr th {\n",
       "        vertical-align: top;\n",
       "    }\n",
       "\n",
       "    .dataframe thead th {\n",
       "        text-align: right;\n",
       "    }\n",
       "</style>\n",
       "<table border=\"1\" class=\"dataframe\">\n",
       "  <thead>\n",
       "    <tr style=\"text-align: right;\">\n",
       "      <th></th>\n",
       "      <th>tenure</th>\n",
       "      <th>MonthlyCharges</th>\n",
       "      <th>TotalCharges</th>\n",
       "      <th>gender</th>\n",
       "      <th>SeniorCitizen</th>\n",
       "      <th>Partner</th>\n",
       "      <th>Dependents</th>\n",
       "      <th>PhoneService</th>\n",
       "      <th>MultipleLines</th>\n",
       "      <th>InternetService</th>\n",
       "      <th>OnlineSecurity</th>\n",
       "      <th>OnlineBackup</th>\n",
       "      <th>DeviceProtection</th>\n",
       "      <th>TechSupport</th>\n",
       "      <th>StreamingTV</th>\n",
       "      <th>StreamingMovies</th>\n",
       "      <th>Contract</th>\n",
       "      <th>PaperlessBilling</th>\n",
       "      <th>PaymentMethod</th>\n",
       "    </tr>\n",
       "    <tr>\n",
       "      <th>cluster</th>\n",
       "      <th></th>\n",
       "      <th></th>\n",
       "      <th></th>\n",
       "      <th></th>\n",
       "      <th></th>\n",
       "      <th></th>\n",
       "      <th></th>\n",
       "      <th></th>\n",
       "      <th></th>\n",
       "      <th></th>\n",
       "      <th></th>\n",
       "      <th></th>\n",
       "      <th></th>\n",
       "      <th></th>\n",
       "      <th></th>\n",
       "      <th></th>\n",
       "      <th></th>\n",
       "      <th></th>\n",
       "      <th></th>\n",
       "    </tr>\n",
       "  </thead>\n",
       "  <tbody>\n",
       "    <tr>\n",
       "      <th>0</th>\n",
       "      <td>1.05138</td>\n",
       "      <td>1.104897</td>\n",
       "      <td>1.122268</td>\n",
       "      <td>Female</td>\n",
       "      <td>No</td>\n",
       "      <td>No</td>\n",
       "      <td>No</td>\n",
       "      <td>Yes</td>\n",
       "      <td>Yes</td>\n",
       "      <td>Fiber optic</td>\n",
       "      <td>No</td>\n",
       "      <td>No</td>\n",
       "      <td>No</td>\n",
       "      <td>No</td>\n",
       "      <td>No</td>\n",
       "      <td>No</td>\n",
       "      <td>Month-to-month</td>\n",
       "      <td>Yes</td>\n",
       "      <td>Electronic check</td>\n",
       "    </tr>\n",
       "    <tr>\n",
       "      <th>1</th>\n",
       "      <td>0.88076</td>\n",
       "      <td>0.504207</td>\n",
       "      <td>0.448551</td>\n",
       "      <td>Male</td>\n",
       "      <td>No</td>\n",
       "      <td>No</td>\n",
       "      <td>No</td>\n",
       "      <td>No</td>\n",
       "      <td>No phone service</td>\n",
       "      <td>DSL</td>\n",
       "      <td>No</td>\n",
       "      <td>No</td>\n",
       "      <td>No</td>\n",
       "      <td>No</td>\n",
       "      <td>No</td>\n",
       "      <td>No</td>\n",
       "      <td>Month-to-month</td>\n",
       "      <td>Yes</td>\n",
       "      <td>Electronic check</td>\n",
       "    </tr>\n",
       "    <tr>\n",
       "      <th>2</th>\n",
       "      <td>0.45825</td>\n",
       "      <td>0.273613</td>\n",
       "      <td>0.113540</td>\n",
       "      <td>Male</td>\n",
       "      <td>No</td>\n",
       "      <td>No</td>\n",
       "      <td>No</td>\n",
       "      <td>Yes</td>\n",
       "      <td>No</td>\n",
       "      <td>No</td>\n",
       "      <td>No internet service</td>\n",
       "      <td>No internet service</td>\n",
       "      <td>No internet service</td>\n",
       "      <td>No internet service</td>\n",
       "      <td>No internet service</td>\n",
       "      <td>No internet service</td>\n",
       "      <td>Month-to-month</td>\n",
       "      <td>No</td>\n",
       "      <td>Mailed check</td>\n",
       "    </tr>\n",
       "  </tbody>\n",
       "</table>\n",
       "</div>"
      ],
      "text/plain": [
       "          tenure  MonthlyCharges  TotalCharges  gender SeniorCitizen Partner  \\\n",
       "cluster                                                                        \n",
       "0        1.05138        1.104897      1.122268  Female            No      No   \n",
       "1        0.88076        0.504207      0.448551    Male            No      No   \n",
       "2        0.45825        0.273613      0.113540    Male            No      No   \n",
       "\n",
       "        Dependents PhoneService     MultipleLines InternetService  \\\n",
       "cluster                                                             \n",
       "0               No          Yes               Yes     Fiber optic   \n",
       "1               No           No  No phone service             DSL   \n",
       "2               No          Yes                No              No   \n",
       "\n",
       "              OnlineSecurity         OnlineBackup     DeviceProtection  \\\n",
       "cluster                                                                  \n",
       "0                         No                   No                   No   \n",
       "1                         No                   No                   No   \n",
       "2        No internet service  No internet service  No internet service   \n",
       "\n",
       "                 TechSupport          StreamingTV      StreamingMovies  \\\n",
       "cluster                                                                  \n",
       "0                         No                   No                   No   \n",
       "1                         No                   No                   No   \n",
       "2        No internet service  No internet service  No internet service   \n",
       "\n",
       "               Contract PaperlessBilling     PaymentMethod  \n",
       "cluster                                                     \n",
       "0        Month-to-month              Yes  Electronic check  \n",
       "1        Month-to-month              Yes  Electronic check  \n",
       "2        Month-to-month               No      Mailed check  "
      ]
     },
     "execution_count": 401,
     "metadata": {},
     "output_type": "execute_result"
    }
   ],
   "source": [
    "#Looking at the full table with categorical descriptoprs\n",
    "full_table.head()"
   ]
  },
  {
   "cell_type": "code",
   "execution_count": 419,
   "metadata": {},
   "outputs": [
    {
     "data": {
      "text/html": [
       "<div>\n",
       "<style scoped>\n",
       "    .dataframe tbody tr th:only-of-type {\n",
       "        vertical-align: middle;\n",
       "    }\n",
       "\n",
       "    .dataframe tbody tr th {\n",
       "        vertical-align: top;\n",
       "    }\n",
       "\n",
       "    .dataframe thead th {\n",
       "        text-align: right;\n",
       "    }\n",
       "</style>\n",
       "<table border=\"1\" class=\"dataframe\">\n",
       "  <thead>\n",
       "    <tr style=\"text-align: right;\">\n",
       "      <th></th>\n",
       "      <th>gender</th>\n",
       "      <th>SeniorCitizen</th>\n",
       "      <th>Partner</th>\n",
       "      <th>Dependents</th>\n",
       "      <th>PhoneService</th>\n",
       "      <th>MultipleLines</th>\n",
       "      <th>InternetService</th>\n",
       "      <th>OnlineSecurity</th>\n",
       "      <th>OnlineBackup</th>\n",
       "      <th>DeviceProtection</th>\n",
       "      <th>TechSupport</th>\n",
       "      <th>StreamingTV</th>\n",
       "      <th>StreamingMovies</th>\n",
       "      <th>Contract</th>\n",
       "      <th>PaperlessBilling</th>\n",
       "      <th>PaymentMethod</th>\n",
       "    </tr>\n",
       "  </thead>\n",
       "  <tbody>\n",
       "    <tr>\n",
       "      <th>0</th>\n",
       "      <td>Male</td>\n",
       "      <td>No</td>\n",
       "      <td>Yes</td>\n",
       "      <td>No</td>\n",
       "      <td>Yes</td>\n",
       "      <td>No</td>\n",
       "      <td>DSL</td>\n",
       "      <td>No</td>\n",
       "      <td>Yes</td>\n",
       "      <td>No</td>\n",
       "      <td>No</td>\n",
       "      <td>Yes</td>\n",
       "      <td>Yes</td>\n",
       "      <td>Month-to-month</td>\n",
       "      <td>Yes</td>\n",
       "      <td>Mailed check</td>\n",
       "    </tr>\n",
       "  </tbody>\n",
       "</table>\n",
       "</div>"
      ],
      "text/plain": [
       "  gender SeniorCitizen Partner Dependents PhoneService MultipleLines  \\\n",
       "0   Male            No     Yes         No          Yes            No   \n",
       "\n",
       "  InternetService OnlineSecurity OnlineBackup DeviceProtection TechSupport  \\\n",
       "0             DSL             No          Yes               No          No   \n",
       "\n",
       "  StreamingTV StreamingMovies        Contract PaperlessBilling PaymentMethod  \n",
       "0         Yes             Yes  Month-to-month              Yes  Mailed check  "
      ]
     },
     "execution_count": 419,
     "metadata": {},
     "output_type": "execute_result"
    }
   ],
   "source": [
    "# The mode of those customer's who don't churn\n",
    "data[data['Churn'] =='No'].drop(['cluster', 'Churn', 'customerID'], axis = 1).select_dtypes('category').mode(dropna=True)"
   ]
  },
  {
   "cell_type": "markdown",
   "metadata": {},
   "source": [
    "Summing it up:  \n",
    "**Cluster_0**:\n",
    "- Represents 85% of churners;\n",
    "- Consists mostly of females in contrast with other two clusters;\n",
    "- Subscribed to Multiple Lines and Fiber Optic internet;  \n",
    "- Higher tenure, Montly and Total Charges\n",
    "\n",
    "**Cluster_1**:\n",
    "- Represents 9% of churners;\n",
    "- Don't have phone service;\n",
    "- Have DSL internet connection;  \n",
    "- Lower Total Charges, medium Monthly Charges, almost average tenure\n",
    "\n",
    "**Cluster_2**:\n",
    "- Represent 6% of churners;\n",
    "- Don't have Multiple Lines;\n",
    "- Don't have internet service;\n",
    "- Pay with mailed check; \n",
    "- Only use our Phone Services;\n",
    "- Extremely low Total, Montly Charges and tenure"
   ]
  },
  {
   "cell_type": "markdown",
   "metadata": {},
   "source": [
    "Churners don't really seem to differentiate between each other based on Streaming services, Device Pritection, Online Backup, Online Security, Partner, Seniority and Dependents."
   ]
  },
  {
   "cell_type": "markdown",
   "metadata": {},
   "source": [
    "**Recommendations:**  \n",
    "**Cluster_0**:\n",
    "- Look into Fiber connection, the speed or connection are not good;\n",
    "- Monthly charges seem to be 30% higher than the average of those customers who don't churn - either decrease monthy charges or provide better quality services;\n",
    "\n",
    "**Cluster_1**:\n",
    "- Push Streaming services\n",
    "\n",
    "**Cluster_2**:\n",
    "- Try to sell our internet service, push DSL one.\n",
    "\n",
    "**All clusters:**\n",
    "- Push Online backup, security, device protection services."
   ]
  },
  {
   "cell_type": "markdown",
   "metadata": {},
   "source": [
    "## 3. Automating Churn Prediction <a id=ml>"
   ]
  },
  {
   "cell_type": "markdown",
   "metadata": {},
   "source": [
    "Typically we would use Machine Learning model that would determine who are the clients who are gonna churn and then use clustering on the customers who are predicted to churn, so that we can target them with appropriate marketing actions and change their decision to leave in time."
   ]
  },
  {
   "cell_type": "markdown",
   "metadata": {},
   "source": [
    "### 3.1 Checking Skewness <a id=skew>"
   ]
  },
  {
   "cell_type": "markdown",
   "metadata": {},
   "source": [
    "Before proceeding to machine learning let's take a look at skewness of numerical variables."
   ]
  },
  {
   "cell_type": "code",
   "execution_count": 486,
   "metadata": {},
   "outputs": [],
   "source": [
    "from scipy.stats import skew"
   ]
  },
  {
   "cell_type": "code",
   "execution_count": 481,
   "metadata": {},
   "outputs": [
    {
     "data": {
      "image/png": "[encoded data removed]",
      "text/plain": [
       "<Figure size 540x216 with 1 Axes>"
      ]
     },
     "metadata": {},
     "output_type": "display_data"
    },
    {
     "data": {
      "image/png": "[encoded data removed]",
      "text/plain": [
       "<Figure size 540x216 with 1 Axes>"
      ]
     },
     "metadata": {},
     "output_type": "display_data"
    },
    {
     "data": {
      "image/png": "[encoded data removed]",
      "text/plain": [
       "<Figure size 540x216 with 1 Axes>"
      ]
     },
     "metadata": {},
     "output_type": "display_data"
    }
   ],
   "source": [
    "for i in ['MonthlyCharges', 'TotalCharges', 'tenure']:\n",
    "    a = sns.FacetGrid(data[['MonthlyCharges', 'TotalCharges', 'tenure']], aspect = 2.5, palette = '#45ADA8')\n",
    "    a.map(sns.distplot,i,color = '#45ADA8')\n",
    "    plt.show()"
   ]
  },
  {
   "cell_type": "markdown",
   "metadata": {},
   "source": [
    "The variables look skewed, let's calculate it:"
   ]
  },
  {
   "cell_type": "code",
   "execution_count": 223,
   "metadata": {},
   "outputs": [
    {
     "name": "stdout",
     "output_type": "stream",
     "text": [
      "Skewness of MonthlyCharges -0.2204774644391769\n",
      "Skewness of TotalCharges 0.9630294954586066\n",
      "Skewness of Tenure 0.2394887299846216\n"
     ]
    }
   ],
   "source": [
    "print('Skewness of MonthlyCharges %s' %skew(data['MonthlyCharges']))\n",
    "print('Skewness of TotalCharges %s' %skew(data['TotalCharges']))\n",
    "print('Skewness of Tenure %s' %skew(data['tenure']))"
   ]
  },
  {
   "cell_type": "code",
   "execution_count": 235,
   "metadata": {},
   "outputs": [
    {
     "name": "stdout",
     "output_type": "stream",
     "text": [
      "Skewness of TotalCharges, sqrt 0.3076546076982302\n"
     ]
    }
   ],
   "source": [
    "# Dealing with TotalCharges\n",
    "print('Skewness of TotalCharges, sqrt %s' %skew(np.sqrt(data['TotalCharges'])))"
   ]
  },
  {
   "cell_type": "markdown",
   "metadata": {},
   "source": [
    "The square root seems to improve the situation, we'll leave all other variables as they are."
   ]
  },
  {
   "cell_type": "code",
   "execution_count": 487,
   "metadata": {},
   "outputs": [],
   "source": [
    "data['TotalCharges'] = np.sqrt(data['TotalCharges'])"
   ]
  },
  {
   "cell_type": "markdown",
   "metadata": {},
   "source": [
    "### 3.2 Metrics, test-train splitting <a id=split>"
   ]
  },
  {
   "cell_type": "markdown",
   "metadata": {},
   "source": [
    "Before diving into the Machine Learning it's important to discuss metrics.\n",
    "\n",
    "Typical metrics would be accuracy, f1 score, precision, recall and roc auc. However, given the imbalanced dataset accuracy is not a suitable metric. Here **we will optimise for f1 score** which balances precision and recall.\n",
    "\n",
    "Given churn problem, our **False Positives** (people who the model predicted to be churners but in reality are not) **represent money lost on unnecessary marketing campaigns** and our **False Negatives** (people who the model predicted aren't churners but in reality they did churn) **represent people whom we could've retained had we targeted market campaign on them as well**.\n",
    "\n",
    "However, the main task is to correctly determine churners.\n",
    "\n",
    "In any way, it's crucial to monitor the changes in the confusion matrix, so that we choose the model most suitable for the business."
   ]
  },
  {
   "cell_type": "code",
   "execution_count": 650,
   "metadata": {},
   "outputs": [],
   "source": [
    "# Train-test splitting - given imbalanced dataset it's preferable to take a stratified split\n",
    "\n",
    "split = StratifiedShuffleSplit(n_splits = 1, test_size = 0.2, random_state=42)\n",
    "\n",
    "# writing a loop to stratify by category and store in train test\n",
    "for train_index, test_index in split.split(data, data[\"Churn\"]):\n",
    "    strat_train = data.loc[train_index]\n",
    "    strat_test = data.loc[test_index]\n",
    "\n",
    "class_to_num = {'No':0, 'Yes':1}   \n",
    "X_train = strat_train.drop([\"Churn\", \"customerID\"], axis = 1)\n",
    "y_train = strat_train.Churn.replace(class_to_num)\n",
    "\n",
    "X_test = strat_test.drop([\"Churn\", \"customerID\"], axis = 1)\n",
    "y_test = strat_test.Churn.replace(class_to_num)"
   ]
  },
  {
   "cell_type": "code",
   "execution_count": 651,
   "metadata": {},
   "outputs": [],
   "source": [
    "# Setting an ML pipeline - it's desirable to experiment with categorical encoders (possible options are LabelEncoder, CountEncoder, OneHotEncoder, \n",
    "# as wel as scalers - MinMaxScaler, StandardScaler)\n",
    "\n",
    "transformation_pipeline = Pipeline([('count_encoder', CountEncoder()), \n",
    "                    ('scaler', StandardScaler())\n",
    "                    ])\n",
    "\n",
    "X_train_prep = transformation_pipeline.fit_transform(X_train)\n",
    "X_test_prep = transformation_pipeline.fit_transform(X_test) "
   ]
  },
  {
   "cell_type": "markdown",
   "metadata": {},
   "source": [
    "### 3.3 Logistic Regression <a id=logit>"
   ]
  },
  {
   "cell_type": "code",
   "execution_count": 616,
   "metadata": {},
   "outputs": [
    {
     "name": "stdout",
     "output_type": "stream",
     "text": [
      "Ranking of features: [10  8 11  6  9  3  1  1  1  2  7  1  1  1  1  4  5  1  1]\n",
      "Features to keep: ['MultipleLines', 'InternetService', 'OnlineSecurity', 'TechSupport', 'StreamingTV', 'StreamingMovies', 'Contract', 'MonthlyCharges', 'TotalCharges']\n"
     ]
    }
   ],
   "source": [
    "# Checking which columns to eliminate with RFE\n",
    "rfe = RFE(LogisticRegression(), step = 1)\n",
    "rfe = rfe.fit(X_train_prep, y_train)\n",
    "print('Ranking of features:', rfe.ranking_)\n",
    "print('Features to keep:', strat_train.drop(['Churn', \"customerID\"], axis = 1).columns[rfe.support_].tolist())"
   ]
  },
  {
   "cell_type": "markdown",
   "metadata": {},
   "source": [
    "Let's check P-value of those columns suggested - if the P-value is less than 0.05, then we will eliminate the feature."
   ]
  },
  {
   "cell_type": "code",
   "execution_count": 618,
   "metadata": {},
   "outputs": [
    {
     "name": "stdout",
     "output_type": "stream",
     "text": [
      "Optimization terminated successfully.\n",
      "         Current function value: 0.570260\n",
      "         Iterations 6\n",
      "                           Logit Regression Results                           \n",
      "==============================================================================\n",
      "Dep. Variable:                  Churn   No. Observations:                 5634\n",
      "Model:                          Logit   Df Residuals:                     5625\n",
      "Method:                           MLE   Df Model:                            8\n",
      "Date:                Tue, 24 Mar 2020   Pseudo R-squ.:                 0.01438\n",
      "Time:                        16:44:26   Log-Likelihood:                -3212.8\n",
      "converged:                       True   LL-Null:                       -3259.7\n",
      "Covariance Type:            nonrobust   LLR p-value:                 7.944e-17\n",
      "===================================================================================\n",
      "                      coef    std err          z      P>|z|      [0.025      0.975]\n",
      "-----------------------------------------------------------------------------------\n",
      "MultipleLines      -0.2217      0.039     -5.672      0.000      -0.298      -0.145\n",
      "InternetService     0.3436      0.129      2.668      0.008       0.091       0.596\n",
      "OnlineSecurity      0.2468      0.046      5.415      0.000       0.157       0.336\n",
      "TechSupport         0.2632      0.049      5.404      0.000       0.168       0.359\n",
      "StreamingTV        -0.5986      1.120     -0.535      0.593      -2.793       1.596\n",
      "StreamingMovies    -0.0634      1.135     -0.056      0.955      -2.287       2.160\n",
      "Contract            0.1962      0.039      4.982      0.000       0.119       0.273\n",
      "MonthlyCharges      1.0070      0.130      7.768      0.000       0.753       1.261\n",
      "TotalCharges       -0.9601      0.059    -16.249      0.000      -1.076      -0.844\n",
      "===================================================================================\n"
     ]
    }
   ],
   "source": [
    "columns_to_keep = strat_train.drop(['Churn', \"customerID\"], axis = 1).columns[rfe.support_].tolist()\n",
    "train = pd.DataFrame(data = X_train_prep, columns = X_train.columns, index = y_train.index)[columns_to_keep]\n",
    "\n",
    "# Checking P-values - P-values less than 0.05 say that the feature is not important in predicting Churn\n",
    "from statsmodels.discrete.discrete_model import Logit\n",
    "\n",
    "logit_model = Logit(y_train, train)\n",
    "logit_results = logit_model.fit()\n",
    "print(logit_results.summary())"
   ]
  },
  {
   "cell_type": "markdown",
   "metadata": {},
   "source": [
    "We can see that only **Streaming Services seems to be unimportant**, let's remove them. This goes together with previous analysis we did - we saw that the churn rates do not seem to differ between churners and not."
   ]
  },
  {
   "cell_type": "code",
   "execution_count": 667,
   "metadata": {},
   "outputs": [],
   "source": [
    "# Train-test splitting again, to remove the columns- to keep only suggested columns\n",
    "\n",
    "split = StratifiedShuffleSplit(n_splits = 1, test_size = 0.2, random_state=42)\n",
    "\n",
    "# writing a loop to stratify by category and store in train test\n",
    "for train_index, test_index in split.split(data, data[\"Churn\"]):\n",
    "    strat_train = data.loc[train_index]\n",
    "    strat_test = data.loc[test_index]\n",
    "\n",
    "class_to_num = {'No':0, 'Yes':1}   \n",
    "X_train = strat_train[['MultipleLines',\n",
    " 'InternetService',\n",
    " 'OnlineSecurity',\n",
    " 'TechSupport',\n",
    " 'Contract',\n",
    " 'MonthlyCharges',\n",
    " 'TotalCharges']]\n",
    "y_train = strat_train.Churn.replace(class_to_num)\n",
    "\n",
    "X_test = strat_test[['MultipleLines',\n",
    " 'InternetService',\n",
    " 'OnlineSecurity',\n",
    " 'TechSupport',\n",
    " 'Contract',\n",
    " 'MonthlyCharges',\n",
    " 'TotalCharges']]\n",
    "y_test = strat_test.Churn.replace(class_to_num)\n",
    "\n",
    "transformation_pipeline = Pipeline([('count_encoder', CountEncoder()), \n",
    "                    ('scaler', StandardScaler())\n",
    "                    ])\n",
    "\n",
    "X_train_prep = transformation_pipeline.fit_transform(X_train)\n",
    "X_test_prep = transformation_pipeline.fit_transform(X_test) "
   ]
  },
  {
   "cell_type": "code",
   "execution_count": 624,
   "metadata": {},
   "outputs": [
    {
     "name": "stdout",
     "output_type": "stream",
     "text": [
      "Fitting 5 folds for each of 288 candidates, totalling 1440 fits\n"
     ]
    },
    {
     "name": "stderr",
     "output_type": "stream",
     "text": [
      "[Parallel(n_jobs=-1)]: Using backend LokyBackend with 16 concurrent workers.\n",
      "[Parallel(n_jobs=-1)]: Done   9 tasks      | elapsed:    1.6s\n",
      "[Parallel(n_jobs=-1)]: Done  18 tasks      | elapsed:    1.7s\n",
      "[Parallel(n_jobs=-1)]: Done  29 tasks      | elapsed:    1.8s\n",
      "[Parallel(n_jobs=-1)]: Done  40 tasks      | elapsed:    1.8s\n",
      "[Parallel(n_jobs=-1)]: Batch computation too fast (0.1948s.) Setting batch_size=2.\n",
      "[Parallel(n_jobs=-1)]: Done  53 tasks      | elapsed:    1.9s\n",
      "[Parallel(n_jobs=-1)]: Done  66 tasks      | elapsed:    2.0s\n",
      "[Parallel(n_jobs=-1)]: Done  81 tasks      | elapsed:    2.0s\n",
      "[Parallel(n_jobs=-1)]: Done  96 tasks      | elapsed:    2.1s\n",
      "[Parallel(n_jobs=-1)]: Batch computation too fast (0.0896s.) Setting batch_size=4.\n",
      "[Parallel(n_jobs=-1)]: Done 130 tasks      | elapsed:    2.1s\n",
      "[Parallel(n_jobs=-1)]: Batch computation too fast (0.1148s.) Setting batch_size=8.\n",
      "[Parallel(n_jobs=-1)]: Done 168 tasks      | elapsed:    2.2s\n",
      "[Parallel(n_jobs=-1)]: Done 244 tasks      | elapsed:    2.3s\n",
      "[Parallel(n_jobs=-1)]: Batch computation too fast (0.1126s.) Setting batch_size=16.\n",
      "[Parallel(n_jobs=-1)]: Done 352 tasks      | elapsed:    2.5s\n",
      "[Parallel(n_jobs=-1)]: Done 520 tasks      | elapsed:    2.6s\n",
      "[Parallel(n_jobs=-1)]: Batch computation too fast (0.1599s.) Setting batch_size=32.\n",
      "[Parallel(n_jobs=-1)]: Done 832 tasks      | elapsed:    2.9s\n",
      "[Parallel(n_jobs=-1)]: Done 1004 tasks      | elapsed:    3.1s\n",
      "[Parallel(n_jobs=-1)]: Done 1092 tasks      | elapsed:    3.1s\n",
      "[Parallel(n_jobs=-1)]: Done 1170 tasks      | elapsed:    3.2s\n",
      "[Parallel(n_jobs=-1)]: Done 1220 tasks      | elapsed:    3.2s\n",
      "[Parallel(n_jobs=-1)]: Done 1274 tasks      | elapsed:    3.3s\n",
      "[Parallel(n_jobs=-1)]: Done 1328 tasks      | elapsed:    3.4s\n",
      "[Parallel(n_jobs=-1)]: Done 1440 out of 1440 | elapsed:    3.5s finished\n",
      "/Users/ekaterina/anaconda3/lib/python3.7/site-packages/sklearn/linear_model/_logistic.py:1505: UserWarning:\n",
      "\n",
      "Setting penalty='none' will ignore the C and l1_ratio parameters\n",
      "\n"
     ]
    }
   ],
   "source": [
    "# Initialising Grid Search\n",
    "logit_cl = LogisticRegression()\n",
    "\n",
    "params_grid =  {\n",
    "     'penalty': ['l1', 'l2', 'elasticnet', 'none'],\n",
    "     'C': [ 0.001, 0.01, 0.1, 0.0001],\n",
    "     'class_weight': ['balanced', 'none'],\n",
    "     'random_state': [27, 42, 901],\n",
    "     'solver': ['lbfgs', 'liblinear', 'saga']\n",
    "    \n",
    "}\n",
    "\n",
    "grid_logit = GridSearchCV(logit_cl, cv = StratifiedKFold(5), param_grid = params_grid, n_jobs = -1, verbose = 10, \n",
    "                      scoring = 'f1').fit(X_train_prep, y_train)"
   ]
  },
  {
   "cell_type": "code",
   "execution_count": 625,
   "metadata": {},
   "outputs": [
    {
     "data": {
      "text/plain": [
       "{'C': 0.001,\n",
       " 'class_weight': 'balanced',\n",
       " 'penalty': 'none',\n",
       " 'random_state': 27,\n",
       " 'solver': 'lbfgs'}"
      ]
     },
     "execution_count": 625,
     "metadata": {},
     "output_type": "execute_result"
    }
   ],
   "source": [
    "#Best params\n",
    "grid_logit.best_params_"
   ]
  },
  {
   "cell_type": "code",
   "execution_count": 668,
   "metadata": {},
   "outputs": [
    {
     "name": "stdout",
     "output_type": "stream",
     "text": [
      "Train performance on Logistic Regression: 0.619368203003625\n",
      "Test performance on Logistic Regression: 0.6059365404298874 \n",
      "\n",
      "Precision: 0.49087893864013266\n",
      "Recall: 0.7914438502673797\n",
      "\n",
      "               precision    recall  f1-score   support\n",
      "\n",
      "didn't churn       0.90      0.70      0.79      1035\n",
      "       churn       0.49      0.79      0.61       374\n",
      "\n",
      "    accuracy                           0.73      1409\n",
      "   macro avg       0.70      0.75      0.70      1409\n",
      "weighted avg       0.79      0.73      0.74      1409\n",
      "\n",
      "Confusion matrix, optimised for F1 score \n",
      "\n",
      "              pred_didn't churn  pred_churn\n",
      "didn't churn                728         307\n",
      "churn                        78         296\n"
     ]
    }
   ],
   "source": [
    "y_test_pred = grid_logit.best_estimator_.predict(X_test_prep)\n",
    "y_train_pred = grid_logit.best_estimator_.predict(X_train_prep)\n",
    "\n",
    "print('Train performance on Logistic Regression:', f1_score(y_train_pred, y_train))\n",
    "print('Test performance on Logistic Regression: %s \\n'% f1_score(y_test, y_test_pred))\n",
    "print('Precision: %s'% precision_score(y_test, y_test_pred))\n",
    "print('Recall: %s'% recall_score(y_test, y_test_pred))\n",
    "\n",
    "target_class = ['didn\\'t churn', 'churn']\n",
    "print('\\n', classification_report(y_test, y_test_pred, target_names = target_class))\n",
    "print('Confusion matrix, optimised for F1 score \\n')\n",
    "print(pd.DataFrame(confusion_matrix(y_test, y_test_pred),\n",
    "                 columns=['pred_didn\\'t churn', 'pred_churn'], index=['didn\\'t churn', 'churn']))"
   ]
  },
  {
   "cell_type": "code",
   "execution_count": 652,
   "metadata": {},
   "outputs": [
    {
     "data": {
      "text/plain": [
       "0.42796309439318664"
      ]
     },
     "execution_count": 652,
     "metadata": {},
     "output_type": "execute_result"
    }
   ],
   "source": [
    "# Predicted churn rate - we are way overestimating our churn rate\n",
    "(307+296)/(728+78+307+296)"
   ]
  },
  {
   "cell_type": "markdown",
   "metadata": {},
   "source": [
    "### 3.4 Naive Bayes <a id=bayes>"
   ]
  },
  {
   "cell_type": "code",
   "execution_count": 687,
   "metadata": {},
   "outputs": [],
   "source": [
    "# Train-test splitting - taking all the features again\n",
    "\n",
    "split = StratifiedShuffleSplit(n_splits = 1, test_size = 0.2, random_state=42)\n",
    "\n",
    "# writing a loop to stratify by category and store in train test\n",
    "for train_index, test_index in split.split(data, data[\"Churn\"]):\n",
    "    strat_train = data.loc[train_index]\n",
    "    strat_test = data.loc[test_index]\n",
    "\n",
    "class_to_num = {'No':0, 'Yes':1}   \n",
    "X_train = strat_train.drop([\"Churn\", \"customerID\"], axis = 1)\n",
    "y_train = strat_train.Churn.replace(class_to_num)\n",
    "\n",
    "X_test = strat_test.drop([\"Churn\", \"customerID\"], axis = 1)\n",
    "y_test = strat_test.Churn.replace(class_to_num)\n",
    "\n",
    "# Setting an ML pipeline - it's desirable to experiment with categorical encoders (possible options are LabelEncoder, CountEncoder, OneHotEncoder, \n",
    "# as wel as scalers - MinMaxScaler, StandardScaler)\n",
    "\n",
    "transformation_pipeline = Pipeline([('count_encoder', CountEncoder()), \n",
    "                    ('scaler', StandardScaler())\n",
    "                    ])\n",
    "\n",
    "X_train_prep = transformation_pipeline.fit_transform(X_train)\n",
    "X_test_prep = transformation_pipeline.fit_transform(X_test) "
   ]
  },
  {
   "cell_type": "code",
   "execution_count": 661,
   "metadata": {
    "scrolled": true
   },
   "outputs": [],
   "source": [
    "nb_cl = GaussianNB().fit(X_train_prep, y_train)"
   ]
  },
  {
   "cell_type": "code",
   "execution_count": 665,
   "metadata": {},
   "outputs": [
    {
     "name": "stdout",
     "output_type": "stream",
     "text": [
      "Train performance on Naive Bayes: 0.6025610050736893\n",
      "Test performance on Naive Bayes: 0.5954500494559841 \n",
      "\n",
      "Precision: 0.4725274725274725\n",
      "Recall: 0.8048128342245989\n",
      "\n",
      "               precision    recall  f1-score   support\n",
      "\n",
      "didn't churn       0.91      0.68      0.77      1035\n",
      "       churn       0.47      0.80      0.60       374\n",
      "\n",
      "    accuracy                           0.71      1409\n",
      "   macro avg       0.69      0.74      0.68      1409\n",
      "weighted avg       0.79      0.71      0.73      1409\n",
      "\n",
      "Confusion matrix, optimised for F1 score \n",
      "\n",
      "              pred_didn't churn  pred_churn\n",
      "didn't churn                699         336\n",
      "churn                        73         301\n"
     ]
    }
   ],
   "source": [
    "y_test_pred = nb_cl.predict(X_test_prep)\n",
    "y_train_pred = nb_cl.predict(X_train_prep)\n",
    "\n",
    "print('Train performance on Naive Bayes:', f1_score(y_train_pred, y_train))\n",
    "print('Test performance on Naive Bayes: %s \\n'% f1_score(y_test, y_test_pred))\n",
    "print('Precision: %s'% precision_score(y_test, y_test_pred))\n",
    "print('Recall: %s'% recall_score(y_test, y_test_pred))\n",
    "\n",
    "target_class = ['didn\\'t churn', 'churn']\n",
    "print('\\n', classification_report(y_test, y_test_pred, target_names = target_class))\n",
    "print('Confusion matrix, optimised for F1 score \\n')\n",
    "print(pd.DataFrame(confusion_matrix(y_test, y_test_pred),\n",
    "                 columns=['pred_didn\\'t churn', 'pred_churn'], index=['didn\\'t churn', 'churn']))"
   ]
  },
  {
   "cell_type": "markdown",
   "metadata": {},
   "source": [
    "Results are a bit worse."
   ]
  },
  {
   "cell_type": "markdown",
   "metadata": {},
   "source": [
    "### 3.5 Random Forest <a id=rf>"
   ]
  },
  {
   "cell_type": "code",
   "execution_count": 674,
   "metadata": {
    "scrolled": true
   },
   "outputs": [
    {
     "name": "stdout",
     "output_type": "stream",
     "text": [
      "Fitting 5 folds for each of 24 candidates, totalling 120 fits\n"
     ]
    },
    {
     "name": "stderr",
     "output_type": "stream",
     "text": [
      "[Parallel(n_jobs=-1)]: Using backend LokyBackend with 16 concurrent workers.\n",
      "[Parallel(n_jobs=-1)]: Batch computation too fast (0.1161s.) Setting batch_size=2.\n",
      "[Parallel(n_jobs=-1)]: Done   9 tasks      | elapsed:    0.2s\n",
      "[Parallel(n_jobs=-1)]: Done  18 tasks      | elapsed:    0.4s\n",
      "[Parallel(n_jobs=-1)]: Done  29 tasks      | elapsed:    0.5s\n",
      "[Parallel(n_jobs=-1)]: Done  48 tasks      | elapsed:    0.7s\n",
      "[Parallel(n_jobs=-1)]: Done  74 tasks      | elapsed:    1.1s\n",
      "[Parallel(n_jobs=-1)]: Done 102 out of 120 | elapsed:    1.4s remaining:    0.2s\n",
      "[Parallel(n_jobs=-1)]: Done 115 out of 120 | elapsed:    1.5s remaining:    0.1s\n",
      "[Parallel(n_jobs=-1)]: Done 120 out of 120 | elapsed:    1.5s finished\n"
     ]
    }
   ],
   "source": [
    "rf_cl = RandomForestClassifier()\n",
    "\n",
    "params_grid =  {\n",
    "    'max_depth': [ 5, 6,7, 8],\n",
    "    'n_estimators': [35, 30],\n",
    "    'criterion': ['gini'], \n",
    "    'class_weight': ['balanced'],\n",
    "    'random_state': [27, 42, 901]\n",
    "    \n",
    "}\n",
    "\n",
    "grid_rf = GridSearchCV(rf_cl, cv = StratifiedKFold(5), param_grid = params_grid, n_jobs = -1, verbose = 10, \n",
    "                      scoring = 'f1').fit(X_train_prep, y_train)"
   ]
  },
  {
   "cell_type": "code",
   "execution_count": 675,
   "metadata": {},
   "outputs": [
    {
     "data": {
      "text/plain": [
       "{'class_weight': 'balanced',\n",
       " 'criterion': 'gini',\n",
       " 'max_depth': 7,\n",
       " 'n_estimators': 35,\n",
       " 'random_state': 901}"
      ]
     },
     "execution_count": 675,
     "metadata": {},
     "output_type": "execute_result"
    }
   ],
   "source": [
    "#Best params\n",
    "grid_rf.best_params_"
   ]
  },
  {
   "cell_type": "code",
   "execution_count": 678,
   "metadata": {},
   "outputs": [
    {
     "name": "stdout",
     "output_type": "stream",
     "text": [
      "Train performance on Random Forest: 0.6818799239337138\n",
      "Test performance on Random Forest: 0.6361607142857143 \n",
      "\n",
      "Precision: 0.5459770114942529\n",
      "Recall: 0.7620320855614974\n",
      "\n",
      "               precision    recall  f1-score   support\n",
      "\n",
      "didn't churn       0.90      0.77      0.83      1035\n",
      "       churn       0.55      0.76      0.64       374\n",
      "\n",
      "    accuracy                           0.77      1409\n",
      "   macro avg       0.72      0.77      0.73      1409\n",
      "weighted avg       0.81      0.77      0.78      1409\n",
      "\n",
      "Confusion matrix, optimised for F1 score \n",
      "\n",
      "              pred_didn't churn  pred_churn\n",
      "didn't churn                798         237\n",
      "churn                        89         285\n"
     ]
    }
   ],
   "source": [
    "y_test_pred = grid_rf.best_estimator_.predict(X_test_prep)\n",
    "y_train_pred = grid_rf.best_estimator_.predict(X_train_prep)\n",
    "\n",
    "print('Train performance on Random Forest:', f1_score(y_train_pred, y_train))\n",
    "print('Test performance on Random Forest: %s \\n'% f1_score(y_test, y_test_pred))\n",
    "print('Precision: %s'% precision_score(y_test, y_test_pred))\n",
    "print('Recall: %s'% recall_score(y_test, y_test_pred))\n",
    "\n",
    "target_class = ['didn\\'t churn', 'churn']\n",
    "print('\\n', classification_report(y_test, y_test_pred, target_names = target_class))\n",
    "print('Confusion matrix, optimised for F1 score \\n')\n",
    "print(pd.DataFrame(confusion_matrix(y_test, y_test_pred),\n",
    "                 columns=['pred_didn\\'t churn', 'pred_churn'], index=['didn\\'t churn', 'churn']))"
   ]
  },
  {
   "cell_type": "code",
   "execution_count": 623,
   "metadata": {},
   "outputs": [
    {
     "data": {
      "text/plain": [
       "0.37047551454932576"
      ]
     },
     "execution_count": 623,
     "metadata": {},
     "output_type": "execute_result"
    }
   ],
   "source": [
    "# Predicted churn rate - we are still overestimating our churn rate\n",
    "(237+285)/(798+89+237+285)"
   ]
  },
  {
   "cell_type": "code",
   "execution_count": 679,
   "metadata": {},
   "outputs": [
    {
     "data": {
      "image/png": "[encoded data removed]",
      "text/plain": [
       "<Figure size 936x576 with 1 Axes>"
      ]
     },
     "metadata": {},
     "output_type": "display_data"
    }
   ],
   "source": [
    "# Feature Importance\n",
    "feature_names = data.drop(['Churn', 'customerID'], axis = 1).columns\n",
    "feature_importance = pd.DataFrame({'importance': grid_rf.best_estimator_.feature_importances_}, index=feature_names).sort_values('importance')\n",
    "sns.set_style(\"white\")\n",
    "\n",
    "plt.subplots(figsize=(13,8))\n",
    "sns.barplot(x = feature_importance.importance.sort_values(ascending = False), y = feature_importance.index, palette = ['#45ADA8'])\n",
    "plt.title('Feature Importance by Random Forest');"
   ]
  },
  {
   "cell_type": "markdown",
   "metadata": {},
   "source": [
    "Still random forest seems to perform the best on the test set, we can see that there are no features with zero feature importance."
   ]
  },
  {
   "cell_type": "markdown",
   "metadata": {},
   "source": [
    "### 3.6 XGBoost <a id=xg>"
   ]
  },
  {
   "cell_type": "code",
   "execution_count": 697,
   "metadata": {
    "scrolled": true
   },
   "outputs": [
    {
     "name": "stdout",
     "output_type": "stream",
     "text": [
      "Fitting 5 folds for each of 32 candidates, totalling 160 fits\n"
     ]
    },
    {
     "name": "stderr",
     "output_type": "stream",
     "text": [
      "[Parallel(n_jobs=-1)]: Using backend LokyBackend with 16 concurrent workers.\n",
      "[Parallel(n_jobs=-1)]: Done   9 tasks      | elapsed:    2.2s\n",
      "[Parallel(n_jobs=-1)]: Done  18 tasks      | elapsed:    2.3s\n",
      "[Parallel(n_jobs=-1)]: Done  29 tasks      | elapsed:    2.5s\n",
      "[Parallel(n_jobs=-1)]: Done  40 tasks      | elapsed:    5.3s\n",
      "[Parallel(n_jobs=-1)]: Done  53 tasks      | elapsed:    6.7s\n",
      "[Parallel(n_jobs=-1)]: Done  66 tasks      | elapsed:    6.8s\n",
      "[Parallel(n_jobs=-1)]: Done  81 tasks      | elapsed:    9.5s\n",
      "[Parallel(n_jobs=-1)]: Done  96 tasks      | elapsed:   11.2s\n",
      "[Parallel(n_jobs=-1)]: Done 113 tasks      | elapsed:   13.7s\n",
      "[Parallel(n_jobs=-1)]: Done 146 out of 160 | elapsed:   15.5s remaining:    1.5s\n",
      "[Parallel(n_jobs=-1)]: Done 160 out of 160 | elapsed:   17.4s finished\n"
     ]
    }
   ],
   "source": [
    "xb_cl = xgb.XGBClassifier()\n",
    "\n",
    "params_grid =  {\n",
    "    'max_depth': [10,5, 15, 'none'],\n",
    "    'learning_rate': [0.03, 0.1, 0.5, 1],\n",
    "    'class_weight': ['balanced'],\n",
    "    'random_state': [27, 901]\n",
    "    \n",
    "}\n",
    "\n",
    "grid_xgb = GridSearchCV(xb_cl, cv = StratifiedKFold(5), param_grid = params_grid, n_jobs = -1, verbose = 10, \n",
    "                      scoring = 'f1').fit(X_train_prep, y_train)"
   ]
  },
  {
   "cell_type": "code",
   "execution_count": 698,
   "metadata": {},
   "outputs": [
    {
     "data": {
      "text/plain": [
       "{'class_weight': 'balanced',\n",
       " 'learning_rate': 0.03,\n",
       " 'max_depth': 5,\n",
       " 'random_state': 27}"
      ]
     },
     "execution_count": 698,
     "metadata": {},
     "output_type": "execute_result"
    }
   ],
   "source": [
    "#Best params\n",
    "grid_xgb.best_params_"
   ]
  },
  {
   "cell_type": "code",
   "execution_count": 699,
   "metadata": {},
   "outputs": [
    {
     "name": "stdout",
     "output_type": "stream",
     "text": [
      "Train performance on XGBoost: 0.6355140186915887\n",
      "Test performance on XGBoost: 0.5868263473053892 \n",
      "\n",
      "Precision: 0.6666666666666666\n",
      "Recall: 0.5240641711229946\n",
      "\n",
      "               precision    recall  f1-score   support\n",
      "\n",
      "didn't churn       0.84      0.91      0.87      1035\n",
      "       churn       0.67      0.52      0.59       374\n",
      "\n",
      "    accuracy                           0.80      1409\n",
      "   macro avg       0.75      0.71      0.73      1409\n",
      "weighted avg       0.79      0.80      0.80      1409\n",
      "\n",
      "Confusion matrix, optimised for F1 score \n",
      "\n",
      "              pred_didn't churn  pred_churn\n",
      "didn't churn                937          98\n",
      "churn                       178         196\n"
     ]
    }
   ],
   "source": [
    "y_test_pred = grid_xgb.best_estimator_.predict(X_test_prep)\n",
    "y_train_pred = grid_xgb.best_estimator_.predict(X_train_prep)\n",
    "\n",
    "print('Train performance on XGBoost:', f1_score(y_train_pred, y_train))\n",
    "print('Test performance on XGBoost: %s \\n'% f1_score(y_test, y_test_pred))\n",
    "print('Precision: %s'% precision_score(y_test, y_test_pred))\n",
    "print('Recall: %s'% recall_score(y_test, y_test_pred))\n",
    "\n",
    "target_class = ['didn\\'t churn', 'churn']\n",
    "print('\\n', classification_report(y_test, y_test_pred, target_names = target_class))\n",
    "print('Confusion matrix, optimised for F1 score \\n')\n",
    "print(pd.DataFrame(confusion_matrix(y_test, y_test_pred),\n",
    "                 columns=['pred_didn\\'t churn', 'pred_churn'], index=['didn\\'t churn', 'churn']))"
   ]
  },
  {
   "cell_type": "code",
   "execution_count": 702,
   "metadata": {},
   "outputs": [
    {
     "data": {
      "image/png": "[encoded data removed]",
      "text/plain": [
       "<Figure size 936x576 with 1 Axes>"
      ]
     },
     "metadata": {},
     "output_type": "display_data"
    }
   ],
   "source": [
    "# Feature Importance\n",
    "feature_names = data.drop(['Churn', 'customerID'], axis = 1).columns\n",
    "feature_importance = pd.DataFrame({'importance': grid_xgb.best_estimator_.feature_importances_}, index=feature_names).sort_values('importance')\n",
    "sns.set_style(\"white\")\n",
    "\n",
    "plt.subplots(figsize=(13,8))\n",
    "sns.barplot(x = feature_importance.importance.sort_values(ascending = False), y = feature_importance.index, palette = ['#45ADA8'])\n",
    "plt.title('Feature Importance by XGBoost');"
   ]
  },
  {
   "cell_type": "code",
   "execution_count": 700,
   "metadata": {},
   "outputs": [
    {
     "data": {
      "text/plain": [
       "0.20865862313697658"
      ]
     },
     "execution_count": 700,
     "metadata": {},
     "output_type": "execute_result"
    }
   ],
   "source": [
    "# Predicted churn rate - now we are underestimating our churn rate\n",
    "(98+196)/(937+178+98+196)"
   ]
  },
  {
   "cell_type": "markdown",
   "metadata": {},
   "source": [
    "## 4. Conclusions <a id=conc>"
   ]
  },
  {
   "cell_type": "markdown",
   "metadata": {},
   "source": [
    "- The best model to predict would be Random Forest Classifier, it gives F1-score of 0.636, precision of 55% and recall of 76%.\n",
    "- We should definitely look into the quality of our Fiber internet since it seems to be not on par, 85% of customers churn because of it;\n",
    "- Gender, Streaming Services seem to not differentiate between churn and no churn;\n",
    "- There seem to be a small number of customers who churn after a short period of time, they only use our Phone Services;"
   ]
  }
 ],
 "metadata": {
  "kernelspec": {
   "display_name": "Python 3",
   "language": "python",
   "name": "python3"
  },
  "language_info": {
   "codemirror_mode": {
    "name": "ipython",
    "version": 3
   },
   "file_extension": ".py",
   "mimetype": "text/x-python",
   "name": "python",
   "nbconvert_exporter": "python",
   "pygments_lexer": "ipython3",
   "version": "3.7.4"
  }
 },
 "nbformat": 4,
 "nbformat_minor": 4
}
